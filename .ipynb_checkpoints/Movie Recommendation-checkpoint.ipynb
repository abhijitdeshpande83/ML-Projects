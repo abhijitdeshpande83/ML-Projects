{
 "cells": [
  {
   "cell_type": "code",
   "execution_count": 971,
   "id": "educated-switzerland",
   "metadata": {},
   "outputs": [],
   "source": [
    "import numpy as np\n",
    "import pandas as pd\n",
    "import seaborn as sns\n",
    "import re\n",
    "import matplotlib.pyplot as plt\n",
    "from sklearn.metrics.pairwise import cosine_similarity\n",
    "from sklearn.feature_extraction.text import CountVectorizer"
   ]
  },
  {
   "cell_type": "code",
   "execution_count": 972,
   "id": "willing-swing",
   "metadata": {},
   "outputs": [],
   "source": [
    "df = pd.read_csv(\"/Users/abhijitdeshpande/Documents/ML Projects/Movie Recommendation/movie_metadata.csv\")"
   ]
  },
  {
   "cell_type": "code",
   "execution_count": 973,
   "id": "variable-explorer",
   "metadata": {},
   "outputs": [
    {
     "data": {
      "text/plain": [
       "<AxesSubplot:>"
      ]
     },
     "execution_count": 973,
     "metadata": {},
     "output_type": "execute_result"
    },
    {
     "data": {
      "image/png": "[encoded data removed]",
      "text/plain": [
       "<Figure size 432x288 with 2 Axes>"
      ]
     },
     "metadata": {
      "needs_background": "light"
     },
     "output_type": "display_data"
    }
   ],
   "source": [
    "sns.heatmap(df.isnull())"
   ]
  },
  {
   "cell_type": "code",
   "execution_count": 974,
   "id": "fancy-cuisine",
   "metadata": {},
   "outputs": [
    {
     "data": {
      "text/plain": [
       "Index(['color', 'director_name', 'num_critic_for_reviews', 'duration',\n",
       "       'director_facebook_likes', 'actor_3_facebook_likes', 'actor_2_name',\n",
       "       'actor_1_facebook_likes', 'gross', 'genres', 'actor_1_name',\n",
       "       'movie_title', 'num_voted_users', 'cast_total_facebook_likes',\n",
       "       'actor_3_name', 'facenumber_in_poster', 'plot_keywords',\n",
       "       'movie_imdb_link', 'num_user_for_reviews', 'language', 'country',\n",
       "       'content_rating', 'budget', 'title_year', 'actor_2_facebook_likes',\n",
       "       'imdb_score', 'aspect_ratio', 'movie_facebook_likes'],\n",
       "      dtype='object')"
      ]
     },
     "execution_count": 974,
     "metadata": {},
     "output_type": "execute_result"
    }
   ],
   "source": [
    "df.columns"
   ]
  },
  {
   "cell_type": "code",
   "execution_count": 975,
   "id": "cosmetic-sierra",
   "metadata": {},
   "outputs": [],
   "source": [
    "#df.title_year.value_counts().sort_index().plot(kind='barh',figsize=(16,18))"
   ]
  },
  {
   "cell_type": "code",
   "execution_count": 976,
   "id": "varying-collar",
   "metadata": {},
   "outputs": [
    {
     "data": {
      "text/plain": [
       "color                         19\n",
       "director_name                104\n",
       "num_critic_for_reviews        50\n",
       "duration                      15\n",
       "director_facebook_likes      104\n",
       "actor_3_facebook_likes        23\n",
       "actor_2_name                  13\n",
       "actor_1_facebook_likes         7\n",
       "gross                        884\n",
       "genres                         0\n",
       "actor_1_name                   7\n",
       "movie_title                    0\n",
       "num_voted_users                0\n",
       "cast_total_facebook_likes      0\n",
       "actor_3_name                  23\n",
       "facenumber_in_poster          13\n",
       "plot_keywords                153\n",
       "movie_imdb_link                0\n",
       "num_user_for_reviews          21\n",
       "language                      12\n",
       "country                        5\n",
       "content_rating               303\n",
       "budget                       492\n",
       "title_year                   108\n",
       "actor_2_facebook_likes        13\n",
       "imdb_score                     0\n",
       "aspect_ratio                 329\n",
       "movie_facebook_likes           0\n",
       "dtype: int64"
      ]
     },
     "execution_count": 976,
     "metadata": {},
     "output_type": "execute_result"
    }
   ],
   "source": [
    "df.isnull().sum()"
   ]
  },
  {
   "cell_type": "code",
   "execution_count": 977,
   "id": "aggregate-recovery",
   "metadata": {},
   "outputs": [
    {
     "data": {
      "text/plain": [
       "(5043, 28)"
      ]
     },
     "execution_count": 977,
     "metadata": {},
     "output_type": "execute_result"
    }
   ],
   "source": [
    "df.shape"
   ]
  },
  {
   "cell_type": "code",
   "execution_count": 978,
   "id": "greatest-hanging",
   "metadata": {},
   "outputs": [
    {
     "data": {
      "text/plain": [
       "Index(['color', 'director_name', 'num_critic_for_reviews', 'duration',\n",
       "       'director_facebook_likes', 'actor_3_facebook_likes', 'actor_2_name',\n",
       "       'actor_1_facebook_likes', 'gross', 'genres', 'actor_1_name',\n",
       "       'movie_title', 'num_voted_users', 'cast_total_facebook_likes',\n",
       "       'actor_3_name', 'facenumber_in_poster', 'plot_keywords',\n",
       "       'movie_imdb_link', 'num_user_for_reviews', 'language', 'country',\n",
       "       'content_rating', 'budget', 'title_year', 'actor_2_facebook_likes',\n",
       "       'imdb_score', 'aspect_ratio', 'movie_facebook_likes'],\n",
       "      dtype='object')"
      ]
     },
     "execution_count": 978,
     "metadata": {},
     "output_type": "execute_result"
    }
   ],
   "source": [
    "df.columns"
   ]
  },
  {
   "cell_type": "code",
   "execution_count": 979,
   "id": "discrete-float",
   "metadata": {},
   "outputs": [],
   "source": [
    "def replace_nan(data):\n",
    "    return data.replace(np.nan, 'Unknown')"
   ]
  },
  {
   "cell_type": "code",
   "execution_count": 980,
   "id": "cooperative-tract",
   "metadata": {},
   "outputs": [],
   "source": [
    "df[['director_name']] = df[['director_name']].apply(replace_nan)\n",
    "df[['actor_1_name']] = df[['actor_1_name']].apply(replace_nan)\n",
    "df[['actor_2_name']] = df[['actor_2_name']].apply(replace_nan)\n",
    "df[['actor_3_name']] = df[['actor_3_name']].apply(replace_nan)"
   ]
  },
  {
   "cell_type": "code",
   "execution_count": 981,
   "id": "golden-breed",
   "metadata": {},
   "outputs": [
    {
     "data": {
      "text/plain": [
       "color                         19\n",
       "director_name                  0\n",
       "num_critic_for_reviews        50\n",
       "duration                      15\n",
       "director_facebook_likes      104\n",
       "actor_3_facebook_likes        23\n",
       "actor_2_name                   0\n",
       "actor_1_facebook_likes         7\n",
       "gross                        884\n",
       "genres                         0\n",
       "actor_1_name                   0\n",
       "movie_title                    0\n",
       "num_voted_users                0\n",
       "cast_total_facebook_likes      0\n",
       "actor_3_name                   0\n",
       "facenumber_in_poster          13\n",
       "plot_keywords                153\n",
       "movie_imdb_link                0\n",
       "num_user_for_reviews          21\n",
       "language                      12\n",
       "country                        5\n",
       "content_rating               303\n",
       "budget                       492\n",
       "title_year                   108\n",
       "actor_2_facebook_likes        13\n",
       "imdb_score                     0\n",
       "aspect_ratio                 329\n",
       "movie_facebook_likes           0\n",
       "dtype: int64"
      ]
     },
     "execution_count": 981,
     "metadata": {},
     "output_type": "execute_result"
    }
   ],
   "source": [
    "df.isnull().sum()"
   ]
  },
  {
   "cell_type": "code",
   "execution_count": 983,
   "id": "alternative-infrared",
   "metadata": {},
   "outputs": [],
   "source": [
    "df[['title_year']] = df['title_year'].replace('Unknown',np.nan)"
   ]
  },
  {
   "cell_type": "code",
   "execution_count": 984,
   "id": "excess-annotation",
   "metadata": {},
   "outputs": [
    {
     "data": {
      "text/plain": [
       "title_year   NaN\n",
       "Name: 4, dtype: float64"
      ]
     },
     "execution_count": 984,
     "metadata": {},
     "output_type": "execute_result"
    }
   ],
   "source": [
    "df[['title_year']].loc[4]"
   ]
  },
  {
   "cell_type": "code",
   "execution_count": 958,
   "id": "civilian-herald",
   "metadata": {},
   "outputs": [],
   "source": [
    "class cleansing():\n",
    "    pass"
   ]
  },
  {
   "cell_type": "code",
   "execution_count": 959,
   "id": "exclusive-bones",
   "metadata": {},
   "outputs": [],
   "source": [
    "def replace_char(data):\n",
    "    for i in range(len(data)):\n",
    "        data[i] = data[i].replace('|',' ')\n",
    "    return data"
   ]
  },
  {
   "cell_type": "code",
   "execution_count": 960,
   "id": "subtle-rachel",
   "metadata": {},
   "outputs": [],
   "source": [
    "df[['genres']] = df[['genres']].apply(replace_char)\n",
    "df[['plot_keywords']] = df[['plot_keywords']].apply(replace_nan)\n",
    "df[['title_year']] = df[['title_year']].apply(replace_nan)\n",
    "df[['plot_keywords']] = df[['plot_keywords']].apply(replace_char)"
   ]
  },
  {
   "cell_type": "code",
   "execution_count": 961,
   "id": "nutritional-edinburgh",
   "metadata": {},
   "outputs": [
    {
     "data": {
      "text/plain": [
       "title_year\n",
       "1916.0          1\n",
       "1920.0          1\n",
       "1925.0          1\n",
       "1927.0          1\n",
       "1929.0          2\n",
       "             ... \n",
       "2013.0        237\n",
       "2014.0        252\n",
       "2015.0        226\n",
       "2016.0        106\n",
       "Unknown       108\n",
       "Length: 92, dtype: int64"
      ]
     },
     "execution_count": 961,
     "metadata": {},
     "output_type": "execute_result"
    }
   ],
   "source": [
    "df[['title_year']].value_counts().sort_index()"
   ]
  },
  {
   "cell_type": "code",
   "execution_count": 991,
   "id": "portable-chosen",
   "metadata": {},
   "outputs": [],
   "source": [
    "movie_data_1 = df[['director_name','actor_1_name','actor_2_name','actor_3_name','movie_title','content_rating','imdb_score','genres','title_year','language','plot_keywords']]"
   ]
  },
  {
   "cell_type": "code",
   "execution_count": 992,
   "id": "planned-parking",
   "metadata": {},
   "outputs": [
    {
     "data": {
      "text/html": [
       "<div>\n",
       "<style scoped>\n",
       "    .dataframe tbody tr th:only-of-type {\n",
       "        vertical-align: middle;\n",
       "    }\n",
       "\n",
       "    .dataframe tbody tr th {\n",
       "        vertical-align: top;\n",
       "    }\n",
       "\n",
       "    .dataframe thead th {\n",
       "        text-align: right;\n",
       "    }\n",
       "</style>\n",
       "<table border=\"1\" class=\"dataframe\">\n",
       "  <thead>\n",
       "    <tr style=\"text-align: right;\">\n",
       "      <th></th>\n",
       "      <th>director_name</th>\n",
       "      <th>actor_1_name</th>\n",
       "      <th>actor_2_name</th>\n",
       "      <th>actor_3_name</th>\n",
       "      <th>movie_title</th>\n",
       "      <th>content_rating</th>\n",
       "      <th>imdb_score</th>\n",
       "      <th>genres</th>\n",
       "      <th>title_year</th>\n",
       "      <th>language</th>\n",
       "      <th>plot_keywords</th>\n",
       "    </tr>\n",
       "  </thead>\n",
       "  <tbody>\n",
       "    <tr>\n",
       "      <th>0</th>\n",
       "      <td>James Cameron</td>\n",
       "      <td>CCH Pounder</td>\n",
       "      <td>Joel David Moore</td>\n",
       "      <td>Wes Studi</td>\n",
       "      <td>Avatar</td>\n",
       "      <td>PG-13</td>\n",
       "      <td>7.9</td>\n",
       "      <td>Action|Adventure|Fantasy|Sci-Fi</td>\n",
       "      <td>2009.0</td>\n",
       "      <td>English</td>\n",
       "      <td>avatar|future|marine|native|paraplegic</td>\n",
       "    </tr>\n",
       "    <tr>\n",
       "      <th>1</th>\n",
       "      <td>Gore Verbinski</td>\n",
       "      <td>Johnny Depp</td>\n",
       "      <td>Orlando Bloom</td>\n",
       "      <td>Jack Davenport</td>\n",
       "      <td>Pirates of the Caribbean: At World's End</td>\n",
       "      <td>PG-13</td>\n",
       "      <td>7.1</td>\n",
       "      <td>Action|Adventure|Fantasy</td>\n",
       "      <td>2007.0</td>\n",
       "      <td>English</td>\n",
       "      <td>goddess|marriage ceremony|marriage proposal|pi...</td>\n",
       "    </tr>\n",
       "    <tr>\n",
       "      <th>2</th>\n",
       "      <td>Sam Mendes</td>\n",
       "      <td>Christoph Waltz</td>\n",
       "      <td>Rory Kinnear</td>\n",
       "      <td>Stephanie Sigman</td>\n",
       "      <td>Spectre</td>\n",
       "      <td>PG-13</td>\n",
       "      <td>6.8</td>\n",
       "      <td>Action|Adventure|Thriller</td>\n",
       "      <td>2015.0</td>\n",
       "      <td>English</td>\n",
       "      <td>bomb|espionage|sequel|spy|terrorist</td>\n",
       "    </tr>\n",
       "    <tr>\n",
       "      <th>3</th>\n",
       "      <td>Christopher Nolan</td>\n",
       "      <td>Tom Hardy</td>\n",
       "      <td>Christian Bale</td>\n",
       "      <td>Joseph Gordon-Levitt</td>\n",
       "      <td>The Dark Knight Rises</td>\n",
       "      <td>PG-13</td>\n",
       "      <td>8.5</td>\n",
       "      <td>Action|Thriller</td>\n",
       "      <td>2012.0</td>\n",
       "      <td>English</td>\n",
       "      <td>deception|imprisonment|lawlessness|police offi...</td>\n",
       "    </tr>\n",
       "    <tr>\n",
       "      <th>4</th>\n",
       "      <td>Doug Walker</td>\n",
       "      <td>Doug Walker</td>\n",
       "      <td>Rob Walker</td>\n",
       "      <td>Unknown</td>\n",
       "      <td>Star Wars: Episode VII - The Force Awakens    ...</td>\n",
       "      <td>NaN</td>\n",
       "      <td>7.1</td>\n",
       "      <td>Documentary</td>\n",
       "      <td>NaN</td>\n",
       "      <td>NaN</td>\n",
       "      <td>NaN</td>\n",
       "    </tr>\n",
       "    <tr>\n",
       "      <th>...</th>\n",
       "      <td>...</td>\n",
       "      <td>...</td>\n",
       "      <td>...</td>\n",
       "      <td>...</td>\n",
       "      <td>...</td>\n",
       "      <td>...</td>\n",
       "      <td>...</td>\n",
       "      <td>...</td>\n",
       "      <td>...</td>\n",
       "      <td>...</td>\n",
       "      <td>...</td>\n",
       "    </tr>\n",
       "    <tr>\n",
       "      <th>5038</th>\n",
       "      <td>Scott Smith</td>\n",
       "      <td>Eric Mabius</td>\n",
       "      <td>Daphne Zuniga</td>\n",
       "      <td>Crystal Lowe</td>\n",
       "      <td>Signed Sealed Delivered</td>\n",
       "      <td>NaN</td>\n",
       "      <td>7.7</td>\n",
       "      <td>Comedy|Drama</td>\n",
       "      <td>2013.0</td>\n",
       "      <td>English</td>\n",
       "      <td>fraud|postal worker|prison|theft|trial</td>\n",
       "    </tr>\n",
       "    <tr>\n",
       "      <th>5039</th>\n",
       "      <td>Unknown</td>\n",
       "      <td>Natalie Zea</td>\n",
       "      <td>Valorie Curry</td>\n",
       "      <td>Sam Underwood</td>\n",
       "      <td>The Following</td>\n",
       "      <td>TV-14</td>\n",
       "      <td>7.5</td>\n",
       "      <td>Crime|Drama|Mystery|Thriller</td>\n",
       "      <td>NaN</td>\n",
       "      <td>English</td>\n",
       "      <td>cult|fbi|hideout|prison escape|serial killer</td>\n",
       "    </tr>\n",
       "    <tr>\n",
       "      <th>5040</th>\n",
       "      <td>Benjamin Roberds</td>\n",
       "      <td>Eva Boehnke</td>\n",
       "      <td>Maxwell Moody</td>\n",
       "      <td>David Chandler</td>\n",
       "      <td>A Plague So Pleasant</td>\n",
       "      <td>NaN</td>\n",
       "      <td>6.3</td>\n",
       "      <td>Drama|Horror|Thriller</td>\n",
       "      <td>2013.0</td>\n",
       "      <td>English</td>\n",
       "      <td>NaN</td>\n",
       "    </tr>\n",
       "    <tr>\n",
       "      <th>5041</th>\n",
       "      <td>Daniel Hsia</td>\n",
       "      <td>Alan Ruck</td>\n",
       "      <td>Daniel Henney</td>\n",
       "      <td>Eliza Coupe</td>\n",
       "      <td>Shanghai Calling</td>\n",
       "      <td>PG-13</td>\n",
       "      <td>6.3</td>\n",
       "      <td>Comedy|Drama|Romance</td>\n",
       "      <td>2012.0</td>\n",
       "      <td>English</td>\n",
       "      <td>NaN</td>\n",
       "    </tr>\n",
       "    <tr>\n",
       "      <th>5042</th>\n",
       "      <td>Jon Gunn</td>\n",
       "      <td>John August</td>\n",
       "      <td>Brian Herzlinger</td>\n",
       "      <td>Jon Gunn</td>\n",
       "      <td>My Date with Drew</td>\n",
       "      <td>PG</td>\n",
       "      <td>6.6</td>\n",
       "      <td>Documentary</td>\n",
       "      <td>2004.0</td>\n",
       "      <td>English</td>\n",
       "      <td>actress name in title|crush|date|four word tit...</td>\n",
       "    </tr>\n",
       "  </tbody>\n",
       "</table>\n",
       "<p>5043 rows × 11 columns</p>\n",
       "</div>"
      ],
      "text/plain": [
       "          director_name     actor_1_name      actor_2_name  \\\n",
       "0         James Cameron      CCH Pounder  Joel David Moore   \n",
       "1        Gore Verbinski      Johnny Depp     Orlando Bloom   \n",
       "2            Sam Mendes  Christoph Waltz      Rory Kinnear   \n",
       "3     Christopher Nolan        Tom Hardy    Christian Bale   \n",
       "4           Doug Walker      Doug Walker        Rob Walker   \n",
       "...                 ...              ...               ...   \n",
       "5038        Scott Smith      Eric Mabius     Daphne Zuniga   \n",
       "5039            Unknown      Natalie Zea     Valorie Curry   \n",
       "5040   Benjamin Roberds      Eva Boehnke     Maxwell Moody   \n",
       "5041        Daniel Hsia        Alan Ruck     Daniel Henney   \n",
       "5042           Jon Gunn      John August  Brian Herzlinger   \n",
       "\n",
       "              actor_3_name                                        movie_title  \\\n",
       "0                Wes Studi                                            Avatar    \n",
       "1           Jack Davenport          Pirates of the Caribbean: At World's End    \n",
       "2         Stephanie Sigman                                           Spectre    \n",
       "3     Joseph Gordon-Levitt                             The Dark Knight Rises    \n",
       "4                  Unknown  Star Wars: Episode VII - The Force Awakens    ...   \n",
       "...                    ...                                                ...   \n",
       "5038          Crystal Lowe                           Signed Sealed Delivered    \n",
       "5039         Sam Underwood                         The Following                \n",
       "5040        David Chandler                              A Plague So Pleasant    \n",
       "5041           Eliza Coupe                                  Shanghai Calling    \n",
       "5042              Jon Gunn                                 My Date with Drew    \n",
       "\n",
       "     content_rating  imdb_score                           genres  title_year  \\\n",
       "0             PG-13         7.9  Action|Adventure|Fantasy|Sci-Fi      2009.0   \n",
       "1             PG-13         7.1         Action|Adventure|Fantasy      2007.0   \n",
       "2             PG-13         6.8        Action|Adventure|Thriller      2015.0   \n",
       "3             PG-13         8.5                  Action|Thriller      2012.0   \n",
       "4               NaN         7.1                      Documentary         NaN   \n",
       "...             ...         ...                              ...         ...   \n",
       "5038            NaN         7.7                     Comedy|Drama      2013.0   \n",
       "5039          TV-14         7.5     Crime|Drama|Mystery|Thriller         NaN   \n",
       "5040            NaN         6.3            Drama|Horror|Thriller      2013.0   \n",
       "5041          PG-13         6.3             Comedy|Drama|Romance      2012.0   \n",
       "5042             PG         6.6                      Documentary      2004.0   \n",
       "\n",
       "     language                                      plot_keywords  \n",
       "0     English             avatar|future|marine|native|paraplegic  \n",
       "1     English  goddess|marriage ceremony|marriage proposal|pi...  \n",
       "2     English                bomb|espionage|sequel|spy|terrorist  \n",
       "3     English  deception|imprisonment|lawlessness|police offi...  \n",
       "4         NaN                                                NaN  \n",
       "...       ...                                                ...  \n",
       "5038  English             fraud|postal worker|prison|theft|trial  \n",
       "5039  English       cult|fbi|hideout|prison escape|serial killer  \n",
       "5040  English                                                NaN  \n",
       "5041  English                                                NaN  \n",
       "5042  English  actress name in title|crush|date|four word tit...  \n",
       "\n",
       "[5043 rows x 11 columns]"
      ]
     },
     "execution_count": 992,
     "metadata": {},
     "output_type": "execute_result"
    }
   ],
   "source": [
    "movie_data_1"
   ]
  },
  {
   "cell_type": "markdown",
   "id": "appreciated-disorder",
   "metadata": {},
   "source": [
    "## Importing credit data"
   ]
  },
  {
   "cell_type": "code",
   "execution_count": 877,
   "id": "established-cherry",
   "metadata": {},
   "outputs": [],
   "source": [
    "credit = pd.read_csv(\"/Users/abhijitdeshpande/Documents/ML Projects/Movie Recommendation/credits.csv\")"
   ]
  },
  {
   "cell_type": "code",
   "execution_count": 878,
   "id": "athletic-toolbox",
   "metadata": {},
   "outputs": [
    {
     "data": {
      "text/plain": [
       "cast    0\n",
       "crew    0\n",
       "id      0\n",
       "dtype: int64"
      ]
     },
     "execution_count": 878,
     "metadata": {},
     "output_type": "execute_result"
    }
   ],
   "source": [
    "credit.isnull().sum()"
   ]
  },
  {
   "cell_type": "markdown",
   "id": "fleet-standard",
   "metadata": {},
   "source": [
    "## Importing meta data"
   ]
  },
  {
   "cell_type": "code",
   "execution_count": 879,
   "id": "numerous-vertex",
   "metadata": {},
   "outputs": [],
   "source": [
    "meta = pd.read_csv(\"/Users/abhijitdeshpande/Documents/ML Projects/Movie Recommendation/movies_metadata.csv\")"
   ]
  },
  {
   "cell_type": "code",
   "execution_count": 880,
   "id": "national-investigation",
   "metadata": {},
   "outputs": [
    {
     "data": {
      "text/plain": [
       "Index(['adult', 'belongs_to_collection', 'budget', 'genres', 'homepage', 'id',\n",
       "       'imdb_id', 'original_language', 'original_title', 'overview',\n",
       "       'popularity', 'poster_path', 'production_companies',\n",
       "       'production_countries', 'release_date', 'revenue', 'runtime',\n",
       "       'spoken_languages', 'status', 'tagline', 'title', 'video',\n",
       "       'vote_average', 'vote_count'],\n",
       "      dtype='object')"
      ]
     },
     "execution_count": 880,
     "metadata": {},
     "output_type": "execute_result"
    }
   ],
   "source": [
    "meta.columns"
   ]
  },
  {
   "cell_type": "code",
   "execution_count": 881,
   "id": "major-reservoir",
   "metadata": {},
   "outputs": [],
   "source": [
    "new_meta = meta[['id','release_date','genres','production_companies','title']]"
   ]
  },
  {
   "cell_type": "code",
   "execution_count": 882,
   "id": "pacific-spider",
   "metadata": {},
   "outputs": [],
   "source": [
    "meta[['release_date']] = pd.to_datetime(meta['release_date'],format='%Y/%m/%d',errors='coerce')"
   ]
  },
  {
   "cell_type": "code",
   "execution_count": 883,
   "id": "intellectual-horror",
   "metadata": {},
   "outputs": [
    {
     "data": {
      "text/plain": [
       "adult                        0\n",
       "belongs_to_collection    40972\n",
       "budget                       0\n",
       "genres                       0\n",
       "homepage                 37684\n",
       "id                           0\n",
       "imdb_id                     17\n",
       "original_language           11\n",
       "original_title               0\n",
       "overview                   954\n",
       "popularity                   5\n",
       "poster_path                386\n",
       "production_companies         3\n",
       "production_countries         3\n",
       "release_date                90\n",
       "revenue                      6\n",
       "runtime                    263\n",
       "spoken_languages             6\n",
       "status                      87\n",
       "tagline                  25054\n",
       "title                        6\n",
       "video                        6\n",
       "vote_average                 6\n",
       "vote_count                   6\n",
       "dtype: int64"
      ]
     },
     "execution_count": 883,
     "metadata": {},
     "output_type": "execute_result"
    }
   ],
   "source": [
    "meta.isnull().sum()"
   ]
  },
  {
   "cell_type": "code",
   "execution_count": 884,
   "id": "continent-kidney",
   "metadata": {},
   "outputs": [],
   "source": [
    "meta[['production_companies']] = meta['production_companies'].replace(np.nan,\" \")"
   ]
  },
  {
   "cell_type": "code",
   "execution_count": 885,
   "id": "voluntary-updating",
   "metadata": {},
   "outputs": [],
   "source": [
    "credit[['id']] = credit[['id']].astype('str')"
   ]
  },
  {
   "cell_type": "markdown",
   "id": "difficult-turkish",
   "metadata": {},
   "source": [
    "## Merging Two dataset"
   ]
  },
  {
   "cell_type": "code",
   "execution_count": 886,
   "id": "secondary-fairy",
   "metadata": {},
   "outputs": [],
   "source": [
    "data = pd.merge(new_meta, credit, on='id')"
   ]
  },
  {
   "cell_type": "code",
   "execution_count": 887,
   "id": "wanted-principle",
   "metadata": {},
   "outputs": [],
   "source": [
    "#data"
   ]
  },
  {
   "cell_type": "code",
   "execution_count": 888,
   "id": "quarterly-vision",
   "metadata": {},
   "outputs": [],
   "source": [
    "import ast"
   ]
  },
  {
   "cell_type": "code",
   "execution_count": 889,
   "id": "selected-slovakia",
   "metadata": {},
   "outputs": [],
   "source": [
    "data[['genres']] = data['genres'].map(lambda x: ast.literal_eval(x))\n",
    "data[['cast']] = data['cast'].apply(lambda x: ast.literal_eval(x))\n",
    "data[['crew']] = data['crew'].apply(lambda x: ast.literal_eval(x))"
   ]
  },
  {
   "cell_type": "code",
   "execution_count": 890,
   "id": "fundamental-juice",
   "metadata": {},
   "outputs": [],
   "source": [
    "#data[['production_companies']] = data['production_companies'].apply(lambda x: ast.literal_eval(x))"
   ]
  },
  {
   "cell_type": "code",
   "execution_count": 891,
   "id": "nonprofit-practice",
   "metadata": {},
   "outputs": [],
   "source": [
    "def value_convert(data):\n",
    "    list_ = []\n",
    "    string = ' '\n",
    "    for i in data:\n",
    "        list_.append(i.get('name'))\n",
    "    return string.join(list_)"
   ]
  },
  {
   "cell_type": "code",
   "execution_count": 892,
   "id": "decreased-franchise",
   "metadata": {},
   "outputs": [],
   "source": [
    "data[['genres']] = data['genres'].apply(value_convert)\n",
    "data[['cast']] = data['cast'].apply(value_convert)\n",
    "data[['crew']] = data['crew'].apply(value_convert)"
   ]
  },
  {
   "cell_type": "code",
   "execution_count": 898,
   "id": "informed-miami",
   "metadata": {},
   "outputs": [],
   "source": [
    "#data = data.drop('production_companies',axis=1)"
   ]
  },
  {
   "cell_type": "markdown",
   "id": "instrumental-retirement",
   "metadata": {},
   "source": [
    "for i in range(len(data['production_companies'])):\n",
    "    if data['production_companies'].loc[i] == []:\n",
    "        print(i)\n",
    "    else:\n",
    "        pass\n",
    "print('Done')"
   ]
  },
  {
   "cell_type": "code",
   "execution_count": 899,
   "id": "embedded-johnson",
   "metadata": {},
   "outputs": [
    {
     "data": {
      "text/html": [
       "<div>\n",
       "<style scoped>\n",
       "    .dataframe tbody tr th:only-of-type {\n",
       "        vertical-align: middle;\n",
       "    }\n",
       "\n",
       "    .dataframe tbody tr th {\n",
       "        vertical-align: top;\n",
       "    }\n",
       "\n",
       "    .dataframe thead th {\n",
       "        text-align: right;\n",
       "    }\n",
       "</style>\n",
       "<table border=\"1\" class=\"dataframe\">\n",
       "  <thead>\n",
       "    <tr style=\"text-align: right;\">\n",
       "      <th></th>\n",
       "      <th>id</th>\n",
       "      <th>release_date</th>\n",
       "      <th>genres</th>\n",
       "      <th>title</th>\n",
       "      <th>cast</th>\n",
       "      <th>crew</th>\n",
       "    </tr>\n",
       "  </thead>\n",
       "  <tbody>\n",
       "    <tr>\n",
       "      <th>0</th>\n",
       "      <td>862</td>\n",
       "      <td>1995-10-30</td>\n",
       "      <td>Animation Comedy Family</td>\n",
       "      <td>Toy Story</td>\n",
       "      <td>Tom Hanks Tim Allen Don Rickles Jim Varney Wal...</td>\n",
       "      <td>John Lasseter Joss Whedon Andrew Stanton Joel ...</td>\n",
       "    </tr>\n",
       "    <tr>\n",
       "      <th>1</th>\n",
       "      <td>8844</td>\n",
       "      <td>1995-12-15</td>\n",
       "      <td>Adventure Fantasy Family</td>\n",
       "      <td>Jumanji</td>\n",
       "      <td>Robin Williams Jonathan Hyde Kirsten Dunst Bra...</td>\n",
       "      <td>Larry J. Franco Jonathan Hensleigh James Horne...</td>\n",
       "    </tr>\n",
       "    <tr>\n",
       "      <th>2</th>\n",
       "      <td>15602</td>\n",
       "      <td>1995-12-22</td>\n",
       "      <td>Romance Comedy</td>\n",
       "      <td>Grumpier Old Men</td>\n",
       "      <td>Walter Matthau Jack Lemmon Ann-Margret Sophia ...</td>\n",
       "      <td>Howard Deutch Mark Steven Johnson Mark Steven ...</td>\n",
       "    </tr>\n",
       "    <tr>\n",
       "      <th>3</th>\n",
       "      <td>31357</td>\n",
       "      <td>1995-12-22</td>\n",
       "      <td>Comedy Drama Romance</td>\n",
       "      <td>Waiting to Exhale</td>\n",
       "      <td>Whitney Houston Angela Bassett Loretta Devine ...</td>\n",
       "      <td>Forest Whitaker Ronald Bass Ronald Bass Ezra S...</td>\n",
       "    </tr>\n",
       "    <tr>\n",
       "      <th>4</th>\n",
       "      <td>11862</td>\n",
       "      <td>1995-02-10</td>\n",
       "      <td>Comedy</td>\n",
       "      <td>Father of the Bride Part II</td>\n",
       "      <td>Steve Martin Diane Keaton Martin Short Kimberl...</td>\n",
       "      <td>Alan Silvestri Elliot Davis Nancy Meyers Nancy...</td>\n",
       "    </tr>\n",
       "    <tr>\n",
       "      <th>...</th>\n",
       "      <td>...</td>\n",
       "      <td>...</td>\n",
       "      <td>...</td>\n",
       "      <td>...</td>\n",
       "      <td>...</td>\n",
       "      <td>...</td>\n",
       "    </tr>\n",
       "    <tr>\n",
       "      <th>45533</th>\n",
       "      <td>439050</td>\n",
       "      <td>NaN</td>\n",
       "      <td>Drama Family</td>\n",
       "      <td>Subdue</td>\n",
       "      <td>Leila Hatami Kourosh Tahami Elham Korda</td>\n",
       "      <td>Hamid Nematollah Hamid Nematollah Farshad Moha...</td>\n",
       "    </tr>\n",
       "    <tr>\n",
       "      <th>45534</th>\n",
       "      <td>111109</td>\n",
       "      <td>2011-11-17</td>\n",
       "      <td>Drama</td>\n",
       "      <td>Century of Birthing</td>\n",
       "      <td>Angel Aquino Perry Dizon Hazel Orencio Joel To...</td>\n",
       "      <td>Lav Diaz Lav Diaz Dante Perez Lav Diaz Lav Dia...</td>\n",
       "    </tr>\n",
       "    <tr>\n",
       "      <th>45535</th>\n",
       "      <td>67758</td>\n",
       "      <td>2003-08-01</td>\n",
       "      <td>Action Drama Thriller</td>\n",
       "      <td>Betrayal</td>\n",
       "      <td>Erika Eleniak Adam Baldwin Julie du Page James...</td>\n",
       "      <td>Mark L. Lester C. Courtney Joyner Jeffrey Gold...</td>\n",
       "    </tr>\n",
       "    <tr>\n",
       "      <th>45536</th>\n",
       "      <td>227506</td>\n",
       "      <td>1917-10-21</td>\n",
       "      <td></td>\n",
       "      <td>Satan Triumphant</td>\n",
       "      <td>Iwan Mosschuchin Nathalie Lissenko Pavel Pavlo...</td>\n",
       "      <td>Yakov Protazanov Joseph N. Ermolieff</td>\n",
       "    </tr>\n",
       "    <tr>\n",
       "      <th>45537</th>\n",
       "      <td>461257</td>\n",
       "      <td>2017-06-09</td>\n",
       "      <td></td>\n",
       "      <td>Queerama</td>\n",
       "      <td></td>\n",
       "      <td>Daisy Asquith</td>\n",
       "    </tr>\n",
       "  </tbody>\n",
       "</table>\n",
       "<p>45538 rows × 6 columns</p>\n",
       "</div>"
      ],
      "text/plain": [
       "           id release_date                    genres  \\\n",
       "0         862   1995-10-30   Animation Comedy Family   \n",
       "1        8844   1995-12-15  Adventure Fantasy Family   \n",
       "2       15602   1995-12-22            Romance Comedy   \n",
       "3       31357   1995-12-22      Comedy Drama Romance   \n",
       "4       11862   1995-02-10                    Comedy   \n",
       "...       ...          ...                       ...   \n",
       "45533  439050          NaN              Drama Family   \n",
       "45534  111109   2011-11-17                     Drama   \n",
       "45535   67758   2003-08-01     Action Drama Thriller   \n",
       "45536  227506   1917-10-21                             \n",
       "45537  461257   2017-06-09                             \n",
       "\n",
       "                             title  \\\n",
       "0                        Toy Story   \n",
       "1                          Jumanji   \n",
       "2                 Grumpier Old Men   \n",
       "3                Waiting to Exhale   \n",
       "4      Father of the Bride Part II   \n",
       "...                            ...   \n",
       "45533                       Subdue   \n",
       "45534          Century of Birthing   \n",
       "45535                     Betrayal   \n",
       "45536             Satan Triumphant   \n",
       "45537                     Queerama   \n",
       "\n",
       "                                                    cast  \\\n",
       "0      Tom Hanks Tim Allen Don Rickles Jim Varney Wal...   \n",
       "1      Robin Williams Jonathan Hyde Kirsten Dunst Bra...   \n",
       "2      Walter Matthau Jack Lemmon Ann-Margret Sophia ...   \n",
       "3      Whitney Houston Angela Bassett Loretta Devine ...   \n",
       "4      Steve Martin Diane Keaton Martin Short Kimberl...   \n",
       "...                                                  ...   \n",
       "45533            Leila Hatami Kourosh Tahami Elham Korda   \n",
       "45534  Angel Aquino Perry Dizon Hazel Orencio Joel To...   \n",
       "45535  Erika Eleniak Adam Baldwin Julie du Page James...   \n",
       "45536  Iwan Mosschuchin Nathalie Lissenko Pavel Pavlo...   \n",
       "45537                                                      \n",
       "\n",
       "                                                    crew  \n",
       "0      John Lasseter Joss Whedon Andrew Stanton Joel ...  \n",
       "1      Larry J. Franco Jonathan Hensleigh James Horne...  \n",
       "2      Howard Deutch Mark Steven Johnson Mark Steven ...  \n",
       "3      Forest Whitaker Ronald Bass Ronald Bass Ezra S...  \n",
       "4      Alan Silvestri Elliot Davis Nancy Meyers Nancy...  \n",
       "...                                                  ...  \n",
       "45533  Hamid Nematollah Hamid Nematollah Farshad Moha...  \n",
       "45534  Lav Diaz Lav Diaz Dante Perez Lav Diaz Lav Dia...  \n",
       "45535  Mark L. Lester C. Courtney Joyner Jeffrey Gold...  \n",
       "45536               Yakov Protazanov Joseph N. Ermolieff  \n",
       "45537                                      Daisy Asquith  \n",
       "\n",
       "[45538 rows x 6 columns]"
      ]
     },
     "execution_count": 899,
     "metadata": {},
     "output_type": "execute_result"
    }
   ],
   "source": [
    "data"
   ]
  },
  {
   "cell_type": "code",
   "execution_count": null,
   "id": "prospective-gospel",
   "metadata": {},
   "outputs": [],
   "source": [
    "import warnings\n",
    "warnings.filterwarnings('ignore')"
   ]
  },
  {
   "cell_type": "code",
   "execution_count": 986,
   "id": "optimum-export",
   "metadata": {},
   "outputs": [],
   "source": [
    "import math"
   ]
  },
  {
   "cell_type": "code",
   "execution_count": null,
   "id": "narrow-impression",
   "metadata": {},
   "outputs": [],
   "source": []
  },
  {
   "cell_type": "code",
   "execution_count": 997,
   "id": "opposite-reducing",
   "metadata": {},
   "outputs": [],
   "source": [
    "movie_data_1[['title_year']] = pd.to_datetime(movie_data_1['title_year'],format='%Y')"
   ]
  },
  {
   "cell_type": "code",
   "execution_count": null,
   "id": "hairy-inspiration",
   "metadata": {},
   "outputs": [],
   "source": []
  },
  {
   "cell_type": "code",
   "execution_count": 998,
   "id": "following-grove",
   "metadata": {},
   "outputs": [
    {
     "data": {
      "text/html": [
       "<div>\n",
       "<style scoped>\n",
       "    .dataframe tbody tr th:only-of-type {\n",
       "        vertical-align: middle;\n",
       "    }\n",
       "\n",
       "    .dataframe tbody tr th {\n",
       "        vertical-align: top;\n",
       "    }\n",
       "\n",
       "    .dataframe thead th {\n",
       "        text-align: right;\n",
       "    }\n",
       "</style>\n",
       "<table border=\"1\" class=\"dataframe\">\n",
       "  <thead>\n",
       "    <tr style=\"text-align: right;\">\n",
       "      <th></th>\n",
       "      <th>director_name</th>\n",
       "      <th>actor_1_name</th>\n",
       "      <th>actor_2_name</th>\n",
       "      <th>actor_3_name</th>\n",
       "      <th>movie_title</th>\n",
       "      <th>content_rating</th>\n",
       "      <th>imdb_score</th>\n",
       "      <th>genres</th>\n",
       "      <th>title_year</th>\n",
       "      <th>language</th>\n",
       "      <th>plot_keywords</th>\n",
       "    </tr>\n",
       "  </thead>\n",
       "  <tbody>\n",
       "    <tr>\n",
       "      <th>0</th>\n",
       "      <td>James Cameron</td>\n",
       "      <td>CCH Pounder</td>\n",
       "      <td>Joel David Moore</td>\n",
       "      <td>Wes Studi</td>\n",
       "      <td>Avatar</td>\n",
       "      <td>PG-13</td>\n",
       "      <td>7.9</td>\n",
       "      <td>Action|Adventure|Fantasy|Sci-Fi</td>\n",
       "      <td>2009-01-01</td>\n",
       "      <td>English</td>\n",
       "      <td>avatar|future|marine|native|paraplegic</td>\n",
       "    </tr>\n",
       "    <tr>\n",
       "      <th>1</th>\n",
       "      <td>Gore Verbinski</td>\n",
       "      <td>Johnny Depp</td>\n",
       "      <td>Orlando Bloom</td>\n",
       "      <td>Jack Davenport</td>\n",
       "      <td>Pirates of the Caribbean: At World's End</td>\n",
       "      <td>PG-13</td>\n",
       "      <td>7.1</td>\n",
       "      <td>Action|Adventure|Fantasy</td>\n",
       "      <td>2007-01-01</td>\n",
       "      <td>English</td>\n",
       "      <td>goddess|marriage ceremony|marriage proposal|pi...</td>\n",
       "    </tr>\n",
       "    <tr>\n",
       "      <th>2</th>\n",
       "      <td>Sam Mendes</td>\n",
       "      <td>Christoph Waltz</td>\n",
       "      <td>Rory Kinnear</td>\n",
       "      <td>Stephanie Sigman</td>\n",
       "      <td>Spectre</td>\n",
       "      <td>PG-13</td>\n",
       "      <td>6.8</td>\n",
       "      <td>Action|Adventure|Thriller</td>\n",
       "      <td>2015-01-01</td>\n",
       "      <td>English</td>\n",
       "      <td>bomb|espionage|sequel|spy|terrorist</td>\n",
       "    </tr>\n",
       "    <tr>\n",
       "      <th>3</th>\n",
       "      <td>Christopher Nolan</td>\n",
       "      <td>Tom Hardy</td>\n",
       "      <td>Christian Bale</td>\n",
       "      <td>Joseph Gordon-Levitt</td>\n",
       "      <td>The Dark Knight Rises</td>\n",
       "      <td>PG-13</td>\n",
       "      <td>8.5</td>\n",
       "      <td>Action|Thriller</td>\n",
       "      <td>2012-01-01</td>\n",
       "      <td>English</td>\n",
       "      <td>deception|imprisonment|lawlessness|police offi...</td>\n",
       "    </tr>\n",
       "    <tr>\n",
       "      <th>4</th>\n",
       "      <td>Doug Walker</td>\n",
       "      <td>Doug Walker</td>\n",
       "      <td>Rob Walker</td>\n",
       "      <td>Unknown</td>\n",
       "      <td>Star Wars: Episode VII - The Force Awakens    ...</td>\n",
       "      <td>NaN</td>\n",
       "      <td>7.1</td>\n",
       "      <td>Documentary</td>\n",
       "      <td>NaT</td>\n",
       "      <td>NaN</td>\n",
       "      <td>NaN</td>\n",
       "    </tr>\n",
       "    <tr>\n",
       "      <th>...</th>\n",
       "      <td>...</td>\n",
       "      <td>...</td>\n",
       "      <td>...</td>\n",
       "      <td>...</td>\n",
       "      <td>...</td>\n",
       "      <td>...</td>\n",
       "      <td>...</td>\n",
       "      <td>...</td>\n",
       "      <td>...</td>\n",
       "      <td>...</td>\n",
       "      <td>...</td>\n",
       "    </tr>\n",
       "    <tr>\n",
       "      <th>5038</th>\n",
       "      <td>Scott Smith</td>\n",
       "      <td>Eric Mabius</td>\n",
       "      <td>Daphne Zuniga</td>\n",
       "      <td>Crystal Lowe</td>\n",
       "      <td>Signed Sealed Delivered</td>\n",
       "      <td>NaN</td>\n",
       "      <td>7.7</td>\n",
       "      <td>Comedy|Drama</td>\n",
       "      <td>2013-01-01</td>\n",
       "      <td>English</td>\n",
       "      <td>fraud|postal worker|prison|theft|trial</td>\n",
       "    </tr>\n",
       "    <tr>\n",
       "      <th>5039</th>\n",
       "      <td>Unknown</td>\n",
       "      <td>Natalie Zea</td>\n",
       "      <td>Valorie Curry</td>\n",
       "      <td>Sam Underwood</td>\n",
       "      <td>The Following</td>\n",
       "      <td>TV-14</td>\n",
       "      <td>7.5</td>\n",
       "      <td>Crime|Drama|Mystery|Thriller</td>\n",
       "      <td>NaT</td>\n",
       "      <td>English</td>\n",
       "      <td>cult|fbi|hideout|prison escape|serial killer</td>\n",
       "    </tr>\n",
       "    <tr>\n",
       "      <th>5040</th>\n",
       "      <td>Benjamin Roberds</td>\n",
       "      <td>Eva Boehnke</td>\n",
       "      <td>Maxwell Moody</td>\n",
       "      <td>David Chandler</td>\n",
       "      <td>A Plague So Pleasant</td>\n",
       "      <td>NaN</td>\n",
       "      <td>6.3</td>\n",
       "      <td>Drama|Horror|Thriller</td>\n",
       "      <td>2013-01-01</td>\n",
       "      <td>English</td>\n",
       "      <td>NaN</td>\n",
       "    </tr>\n",
       "    <tr>\n",
       "      <th>5041</th>\n",
       "      <td>Daniel Hsia</td>\n",
       "      <td>Alan Ruck</td>\n",
       "      <td>Daniel Henney</td>\n",
       "      <td>Eliza Coupe</td>\n",
       "      <td>Shanghai Calling</td>\n",
       "      <td>PG-13</td>\n",
       "      <td>6.3</td>\n",
       "      <td>Comedy|Drama|Romance</td>\n",
       "      <td>2012-01-01</td>\n",
       "      <td>English</td>\n",
       "      <td>NaN</td>\n",
       "    </tr>\n",
       "    <tr>\n",
       "      <th>5042</th>\n",
       "      <td>Jon Gunn</td>\n",
       "      <td>John August</td>\n",
       "      <td>Brian Herzlinger</td>\n",
       "      <td>Jon Gunn</td>\n",
       "      <td>My Date with Drew</td>\n",
       "      <td>PG</td>\n",
       "      <td>6.6</td>\n",
       "      <td>Documentary</td>\n",
       "      <td>2004-01-01</td>\n",
       "      <td>English</td>\n",
       "      <td>actress name in title|crush|date|four word tit...</td>\n",
       "    </tr>\n",
       "  </tbody>\n",
       "</table>\n",
       "<p>5043 rows × 11 columns</p>\n",
       "</div>"
      ],
      "text/plain": [
       "          director_name     actor_1_name      actor_2_name  \\\n",
       "0         James Cameron      CCH Pounder  Joel David Moore   \n",
       "1        Gore Verbinski      Johnny Depp     Orlando Bloom   \n",
       "2            Sam Mendes  Christoph Waltz      Rory Kinnear   \n",
       "3     Christopher Nolan        Tom Hardy    Christian Bale   \n",
       "4           Doug Walker      Doug Walker        Rob Walker   \n",
       "...                 ...              ...               ...   \n",
       "5038        Scott Smith      Eric Mabius     Daphne Zuniga   \n",
       "5039            Unknown      Natalie Zea     Valorie Curry   \n",
       "5040   Benjamin Roberds      Eva Boehnke     Maxwell Moody   \n",
       "5041        Daniel Hsia        Alan Ruck     Daniel Henney   \n",
       "5042           Jon Gunn      John August  Brian Herzlinger   \n",
       "\n",
       "              actor_3_name                                        movie_title  \\\n",
       "0                Wes Studi                                            Avatar    \n",
       "1           Jack Davenport          Pirates of the Caribbean: At World's End    \n",
       "2         Stephanie Sigman                                           Spectre    \n",
       "3     Joseph Gordon-Levitt                             The Dark Knight Rises    \n",
       "4                  Unknown  Star Wars: Episode VII - The Force Awakens    ...   \n",
       "...                    ...                                                ...   \n",
       "5038          Crystal Lowe                           Signed Sealed Delivered    \n",
       "5039         Sam Underwood                         The Following                \n",
       "5040        David Chandler                              A Plague So Pleasant    \n",
       "5041           Eliza Coupe                                  Shanghai Calling    \n",
       "5042              Jon Gunn                                 My Date with Drew    \n",
       "\n",
       "     content_rating  imdb_score                           genres title_year  \\\n",
       "0             PG-13         7.9  Action|Adventure|Fantasy|Sci-Fi 2009-01-01   \n",
       "1             PG-13         7.1         Action|Adventure|Fantasy 2007-01-01   \n",
       "2             PG-13         6.8        Action|Adventure|Thriller 2015-01-01   \n",
       "3             PG-13         8.5                  Action|Thriller 2012-01-01   \n",
       "4               NaN         7.1                      Documentary        NaT   \n",
       "...             ...         ...                              ...        ...   \n",
       "5038            NaN         7.7                     Comedy|Drama 2013-01-01   \n",
       "5039          TV-14         7.5     Crime|Drama|Mystery|Thriller        NaT   \n",
       "5040            NaN         6.3            Drama|Horror|Thriller 2013-01-01   \n",
       "5041          PG-13         6.3             Comedy|Drama|Romance 2012-01-01   \n",
       "5042             PG         6.6                      Documentary 2004-01-01   \n",
       "\n",
       "     language                                      plot_keywords  \n",
       "0     English             avatar|future|marine|native|paraplegic  \n",
       "1     English  goddess|marriage ceremony|marriage proposal|pi...  \n",
       "2     English                bomb|espionage|sequel|spy|terrorist  \n",
       "3     English  deception|imprisonment|lawlessness|police offi...  \n",
       "4         NaN                                                NaN  \n",
       "...       ...                                                ...  \n",
       "5038  English             fraud|postal worker|prison|theft|trial  \n",
       "5039  English       cult|fbi|hideout|prison escape|serial killer  \n",
       "5040  English                                                NaN  \n",
       "5041  English                                                NaN  \n",
       "5042  English  actress name in title|crush|date|four word tit...  \n",
       "\n",
       "[5043 rows x 11 columns]"
      ]
     },
     "execution_count": 998,
     "metadata": {},
     "output_type": "execute_result"
    }
   ],
   "source": [
    "movie_data_1"
   ]
  },
  {
   "cell_type": "code",
   "execution_count": 1013,
   "id": "moderate-instrument",
   "metadata": {},
   "outputs": [],
   "source": [
    "data[['title']] =  data['title'].replace(np.nan,'Unknown')"
   ]
  },
  {
   "cell_type": "code",
   "execution_count": 1014,
   "id": "partial-saver",
   "metadata": {},
   "outputs": [],
   "source": [
    "data[['Comb']] = data['genres']+\" \"+data['title']+\" \"+data['cast']+\" \"+data['crew']"
   ]
  },
  {
   "cell_type": "code",
   "execution_count": 1015,
   "id": "olive-soundtrack",
   "metadata": {},
   "outputs": [],
   "source": [
    "cs = CountVectorizer().fit_transform(data['Comb'])"
   ]
  },
  {
   "cell_type": "code",
   "execution_count": 1016,
   "id": "wrapped-weapon",
   "metadata": {},
   "outputs": [],
   "source": [
    "cm = cosine_similarity(cs)"
   ]
  },
  {
   "cell_type": "code",
   "execution_count": null,
   "id": "greek-malta",
   "metadata": {},
   "outputs": [],
   "source": []
  },
  {
   "cell_type": "code",
   "execution_count": null,
   "id": "greenhouse-latex",
   "metadata": {},
   "outputs": [],
   "source": []
  }
 ],
 "metadata": {
  "kernelspec": {
   "display_name": "Python [conda env:Tensorflow] *",
   "language": "python",
   "name": "conda-env-Tensorflow-py"
  },
  "language_info": {
   "codemirror_mode": {
    "name": "ipython",
    "version": 3
   },
   "file_extension": ".py",
   "mimetype": "text/x-python",
   "name": "python",
   "nbconvert_exporter": "python",
   "pygments_lexer": "ipython3",
   "version": "3.7.9"
  }
 },
 "nbformat": 4,
 "nbformat_minor": 5
}
