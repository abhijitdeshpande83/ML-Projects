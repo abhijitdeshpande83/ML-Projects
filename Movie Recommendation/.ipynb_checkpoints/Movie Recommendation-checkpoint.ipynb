{
 "cells": [
  {
   "cell_type": "code",
   "execution_count": 1,
   "id": "a90f1a92",
   "metadata": {},
   "outputs": [],
   "source": [
    "import numpy as np\n",
    "import pandas as pd\n",
    "import warnings\n",
    "import matplotlib.pyplot as plt\n",
    "from sklearn.metrics.pairwise import cosine_similarity\n",
    "from sklearn.feature_extraction.text import CountVectorizer\n",
    "warnings.filterwarnings('ignore')"
   ]
  },
  {
   "cell_type": "code",
   "execution_count": 2,
   "id": "e9a5b236",
   "metadata": {},
   "outputs": [],
   "source": [
    "df = pd.read_csv('/Users/abhijitdeshpande/Documents/ML Projects/Movie Recommendation/movie_metadata.csv')"
   ]
  },
  {
   "cell_type": "code",
   "execution_count": 3,
   "id": "6b91bdc9",
   "metadata": {},
   "outputs": [
    {
     "data": {
      "text/plain": [
       "color                         19\n",
       "director_name                104\n",
       "num_critic_for_reviews        50\n",
       "duration                      15\n",
       "director_facebook_likes      104\n",
       "actor_3_facebook_likes        23\n",
       "actor_2_name                  13\n",
       "actor_1_facebook_likes         7\n",
       "gross                        884\n",
       "genres                         0\n",
       "actor_1_name                   7\n",
       "movie_title                    0\n",
       "num_voted_users                0\n",
       "cast_total_facebook_likes      0\n",
       "actor_3_name                  23\n",
       "facenumber_in_poster          13\n",
       "plot_keywords                153\n",
       "movie_imdb_link                0\n",
       "num_user_for_reviews          21\n",
       "language                      12\n",
       "country                        5\n",
       "content_rating               303\n",
       "budget                       492\n",
       "title_year                   108\n",
       "actor_2_facebook_likes        13\n",
       "imdb_score                     0\n",
       "aspect_ratio                 329\n",
       "movie_facebook_likes           0\n",
       "dtype: int64"
      ]
     },
     "execution_count": 3,
     "metadata": {},
     "output_type": "execute_result"
    }
   ],
   "source": [
    "df.isnull().sum()"
   ]
  },
  {
   "cell_type": "code",
   "execution_count": 4,
   "id": "48aba219",
   "metadata": {},
   "outputs": [
    {
     "data": {
      "text/plain": [
       "1916.0      1\n",
       "1920.0      1\n",
       "1925.0      1\n",
       "1927.0      1\n",
       "1929.0      2\n",
       "         ... \n",
       "2012.0    221\n",
       "2013.0    237\n",
       "2014.0    252\n",
       "2015.0    226\n",
       "2016.0    106\n",
       "Name: title_year, Length: 91, dtype: int64"
      ]
     },
     "execution_count": 4,
     "metadata": {},
     "output_type": "execute_result"
    }
   ],
   "source": [
    "df['title_year'].value_counts().sort_index()"
   ]
  },
  {
   "cell_type": "code",
   "execution_count": 5,
   "id": "974dbb78",
   "metadata": {},
   "outputs": [],
   "source": [
    "data = df[['director_name','actor_1_name','actor_2_name','actor_3_name',\n",
    "           'genres','movie_title','title_year','plot_keywords']]"
   ]
  },
  {
   "cell_type": "code",
   "execution_count": 6,
   "id": "3d790485",
   "metadata": {},
   "outputs": [
    {
     "name": "stdout",
     "output_type": "stream",
     "text": [
      "director_name    104\n",
      "actor_1_name       7\n",
      "actor_2_name      13\n",
      "actor_3_name      23\n",
      "genres             0\n",
      "movie_title        0\n",
      "title_year       108\n",
      "plot_keywords    153\n",
      "dtype: int64\n"
     ]
    }
   ],
   "source": [
    "print(data.isnull().sum())\n",
    "data.replace(np.nan,'', inplace=True)"
   ]
  },
  {
   "cell_type": "code",
   "execution_count": null,
   "id": "2916691c",
   "metadata": {},
   "outputs": [],
   "source": []
  },
  {
   "cell_type": "code",
   "execution_count": 7,
   "id": "e1d7f155",
   "metadata": {},
   "outputs": [],
   "source": [
    "data['genres'] = data['genres'].apply(lambda x:x.replace('|',' '))\n",
    "data['plot_keywords'] = data['plot_keywords'].apply(lambda x:x.replace('|',' '))"
   ]
  },
  {
   "cell_type": "code",
   "execution_count": 8,
   "id": "17a8cda9",
   "metadata": {},
   "outputs": [],
   "source": [
    "data['movie_title'] = data['movie_title'].apply(lambda x: x.lower())\n",
    "data['movie_title'] = data['movie_title'].apply(lambda x: x[:-1])"
   ]
  },
  {
   "cell_type": "code",
   "execution_count": 9,
   "id": "b5d5d9ff",
   "metadata": {},
   "outputs": [],
   "source": [
    "meta = pd.read_csv('/Users/abhijitdeshpande/Documents/ML Projects/Movie Recommendation/movies_metadata.csv')\n",
    "credits = pd.read_csv('/Users/abhijitdeshpande/Documents/ML Projects/Movie Recommendation/credits.csv')"
   ]
  },
  {
   "cell_type": "code",
   "execution_count": 10,
   "id": "4db21c56",
   "metadata": {},
   "outputs": [
    {
     "name": "stdout",
     "output_type": "stream",
     "text": [
      "<class 'pandas.core.frame.DataFrame'>\n",
      "RangeIndex: 45466 entries, 0 to 45465\n",
      "Data columns (total 24 columns):\n",
      " #   Column                 Non-Null Count  Dtype  \n",
      "---  ------                 --------------  -----  \n",
      " 0   adult                  45466 non-null  object \n",
      " 1   belongs_to_collection  4494 non-null   object \n",
      " 2   budget                 45466 non-null  object \n",
      " 3   genres                 45466 non-null  object \n",
      " 4   homepage               7782 non-null   object \n",
      " 5   id                     45466 non-null  object \n",
      " 6   imdb_id                45449 non-null  object \n",
      " 7   original_language      45455 non-null  object \n",
      " 8   original_title         45466 non-null  object \n",
      " 9   overview               44512 non-null  object \n",
      " 10  popularity             45461 non-null  object \n",
      " 11  poster_path            45080 non-null  object \n",
      " 12  production_companies   45463 non-null  object \n",
      " 13  production_countries   45463 non-null  object \n",
      " 14  release_date           45379 non-null  object \n",
      " 15  revenue                45460 non-null  float64\n",
      " 16  runtime                45203 non-null  float64\n",
      " 17  spoken_languages       45460 non-null  object \n",
      " 18  status                 45379 non-null  object \n",
      " 19  tagline                20412 non-null  object \n",
      " 20  title                  45460 non-null  object \n",
      " 21  video                  45460 non-null  object \n",
      " 22  vote_average           45460 non-null  float64\n",
      " 23  vote_count             45460 non-null  float64\n",
      "dtypes: float64(4), object(20)\n",
      "memory usage: 8.3+ MB\n",
      "<class 'pandas.core.frame.DataFrame'>\n",
      "RangeIndex: 45476 entries, 0 to 45475\n",
      "Data columns (total 3 columns):\n",
      " #   Column  Non-Null Count  Dtype \n",
      "---  ------  --------------  ----- \n",
      " 0   cast    45476 non-null  object\n",
      " 1   crew    45476 non-null  object\n",
      " 2   id      45476 non-null  int64 \n",
      "dtypes: int64(1), object(2)\n",
      "memory usage: 1.0+ MB\n"
     ]
    }
   ],
   "source": [
    "meta.info()\n",
    "credits.info()"
   ]
  },
  {
   "cell_type": "code",
   "execution_count": 19,
   "id": "e48bbae4",
   "metadata": {},
   "outputs": [],
   "source": [
    "meta['release_date'] = pd.to_datetime(meta['release_date'], errors = 'coerce')"
   ]
  },
  {
   "cell_type": "code",
   "execution_count": 22,
   "id": "e3ca3fae",
   "metadata": {},
   "outputs": [],
   "source": [
    "meta['year'] = meta['release_date'].dt.year"
   ]
  },
  {
   "cell_type": "code",
   "execution_count": 23,
   "id": "09965ebe",
   "metadata": {},
   "outputs": [
    {
     "data": {
      "text/plain": [
       "1874.0       1\n",
       "1878.0       1\n",
       "1883.0       1\n",
       "1887.0       1\n",
       "1888.0       2\n",
       "          ... \n",
       "2015.0    1905\n",
       "2016.0    1604\n",
       "2017.0     532\n",
       "2018.0       5\n",
       "2020.0       1\n",
       "Name: year, Length: 135, dtype: int64"
      ]
     },
     "execution_count": 23,
     "metadata": {},
     "output_type": "execute_result"
    }
   ],
   "source": [
    "(meta['year'].value_counts().sort_index())"
   ]
  },
  {
   "cell_type": "code",
   "execution_count": 24,
   "id": "2e0055be",
   "metadata": {},
   "outputs": [
    {
     "data": {
      "text/plain": [
       "\"Led by Woody, Andy's toys live happily in his room until Andy's birthday brings Buzz Lightyear onto the scene. Afraid of losing his place in Andy's heart, Woody plots against Buzz. But when circumstances separate Buzz and Woody from their owner, the duo eventually learns to put aside their differences.\""
      ]
     },
     "execution_count": 24,
     "metadata": {},
     "output_type": "execute_result"
    }
   ],
   "source": [
    "meta['overview'].iloc[0]"
   ]
  },
  {
   "cell_type": "code",
   "execution_count": 25,
   "id": "8120f494",
   "metadata": {},
   "outputs": [],
   "source": [
    "meta.rename(columns={'overview':'plot_keywords'},inplace=True)"
   ]
  },
  {
   "cell_type": "code",
   "execution_count": 26,
   "id": "c7fcda93",
   "metadata": {},
   "outputs": [],
   "source": [
    "new_meta = meta.loc[meta.year==2017,['id','genres','title','year','plot_keywords']]"
   ]
  },
  {
   "cell_type": "code",
   "execution_count": 27,
   "id": "e0163314",
   "metadata": {},
   "outputs": [],
   "source": [
    "new_meta['id'] = new_meta['id'].astype(int)"
   ]
  },
  {
   "cell_type": "code",
   "execution_count": 28,
   "id": "f2a97b76",
   "metadata": {},
   "outputs": [],
   "source": [
    "data_1 = pd.merge(new_meta,credits,on='id')"
   ]
  },
  {
   "cell_type": "code",
   "execution_count": 29,
   "id": "3dfe8b84",
   "metadata": {},
   "outputs": [
    {
     "name": "stdout",
     "output_type": "stream",
     "text": [
      "<class 'pandas.core.frame.DataFrame'>\n",
      "Int64Index: 531 entries, 0 to 530\n",
      "Data columns (total 7 columns):\n",
      " #   Column         Non-Null Count  Dtype  \n",
      "---  ------         --------------  -----  \n",
      " 0   id             531 non-null    int64  \n",
      " 1   genres         531 non-null    object \n",
      " 2   title          531 non-null    object \n",
      " 3   year           531 non-null    float64\n",
      " 4   plot_keywords  519 non-null    object \n",
      " 5   cast           531 non-null    object \n",
      " 6   crew           531 non-null    object \n",
      "dtypes: float64(1), int64(1), object(5)\n",
      "memory usage: 33.2+ KB\n"
     ]
    }
   ],
   "source": [
    "data_1.info()"
   ]
  },
  {
   "cell_type": "code",
   "execution_count": 30,
   "id": "1ca193d3",
   "metadata": {},
   "outputs": [],
   "source": [
    "data_1.rename(columns={'title':'movie_title','year':'title_year','overview':''},inplace=True)"
   ]
  },
  {
   "cell_type": "code",
   "execution_count": 32,
   "id": "3a4c5052",
   "metadata": {},
   "outputs": [],
   "source": [
    "import ast\n",
    "data_1['genres'] = data_1['genres'].apply(lambda x:ast.literal_eval(x))\n",
    "data_1['crew'] = data_1['crew'].apply(lambda x:ast.literal_eval(x))\n",
    "data_1['cast'] = data_1['cast'].apply(lambda x: ast.literal_eval(x))"
   ]
  },
  {
   "cell_type": "code",
   "execution_count": 33,
   "id": "0fef38d9",
   "metadata": {},
   "outputs": [],
   "source": [
    "def genre(x):\n",
    "    gen = []\n",
    "    srt = ' '\n",
    "    for i in x:\n",
    "        gen.append(i.get('name'))\n",
    "    return srt.join(gen)\n",
    "\n",
    "def actor(x,k):\n",
    "    gen = []\n",
    "    for i in x:\n",
    "        gen.append(i.get('name'))\n",
    "    if gen == [] or len(gen)<=k:\n",
    "        return np.nan\n",
    "    else:\n",
    "        return gen[k]\n",
    "\n",
    "def directors(x):\n",
    "    gen = []\n",
    "    for i in x:\n",
    "        if i.get('job')=='Director':\n",
    "            gen.append(i.get('name'))\n",
    "    return ' '.join(gen)"
   ]
  },
  {
   "cell_type": "code",
   "execution_count": 34,
   "id": "a618d1f2",
   "metadata": {},
   "outputs": [],
   "source": [
    "data_1['genres'] = data_1['genres'].apply(lambda x: genre(x))\n",
    "data_1['actor_1_name'] = data_1['cast'].apply(lambda x: actor(x,0))\n",
    "data_1['actor_2_name'] = data_1['cast'].apply(lambda x: actor(x,1))\n",
    "data_1['actor_3_name'] = data_1['cast'].apply(lambda x: actor(x,2))\n",
    "data_1['director_name'] = data_1['crew'].apply(lambda x: directors(x))\n",
    "data_1['movie_title'] = data_1['movie_title'].apply(lambda x:x.lower())"
   ]
  },
  {
   "cell_type": "code",
   "execution_count": 35,
   "id": "57fa0294",
   "metadata": {},
   "outputs": [],
   "source": [
    "data_2 = data_1[['genres','actor_1_name','actor_2_name','actor_3_name','director_name','movie_title','title_year','plot_keywords']]"
   ]
  },
  {
   "cell_type": "code",
   "execution_count": 38,
   "id": "1c4bceee",
   "metadata": {},
   "outputs": [],
   "source": [
    "data['Comb'] = data['director_name']+' '+data['actor_1_name']+' '+data['actor_2_name']+' '+data['actor_3_name']+' '+data['genres']+' '+data['movie_title']+' '+data['plot_keywords']"
   ]
  },
  {
   "cell_type": "code",
   "execution_count": 39,
   "id": "bc8ddfe4",
   "metadata": {},
   "outputs": [],
   "source": [
    "data_2['Comb'] = data_2['director_name']+' '+data_2['actor_1_name']+' '+data_2['actor_2_name']+' '+data_2['actor_3_name']+' '+data_2['genres']+' '+data_2['movie_title']+''+data_2['plot_keywords']"
   ]
  },
  {
   "cell_type": "code",
   "execution_count": 40,
   "id": "f00e4e42",
   "metadata": {},
   "outputs": [
    {
     "data": {
      "text/plain": [
       "genres            0\n",
       "actor_1_name     22\n",
       "actor_2_name     55\n",
       "actor_3_name     70\n",
       "director_name     0\n",
       "movie_title       0\n",
       "title_year        0\n",
       "plot_keywords    12\n",
       "Comb             80\n",
       "dtype: int64"
      ]
     },
     "execution_count": 40,
     "metadata": {},
     "output_type": "execute_result"
    }
   ],
   "source": [
    "data_2.isnull().sum()"
   ]
  },
  {
   "cell_type": "code",
   "execution_count": 41,
   "id": "1b9aae19",
   "metadata": {},
   "outputs": [],
   "source": [
    "data_2.dropna(how='any',inplace=True)"
   ]
  },
  {
   "cell_type": "code",
   "execution_count": 42,
   "id": "e3551e71",
   "metadata": {},
   "outputs": [],
   "source": [
    "movie = data.append(data_2)"
   ]
  },
  {
   "cell_type": "code",
   "execution_count": 43,
   "id": "ee9a4e73",
   "metadata": {},
   "outputs": [
    {
     "data": {
      "text/plain": [
       "((5494, 9), (5043, 9))"
      ]
     },
     "execution_count": 43,
     "metadata": {},
     "output_type": "execute_result"
    }
   ],
   "source": [
    "movie.shape,data.shape"
   ]
  },
  {
   "cell_type": "code",
   "execution_count": 44,
   "id": "f7c66508",
   "metadata": {},
   "outputs": [],
   "source": [
    "movie.drop_duplicates(subset='movie_title',keep='last',inplace=True)"
   ]
  },
  {
   "cell_type": "code",
   "execution_count": 45,
   "id": "d14a7f8d",
   "metadata": {},
   "outputs": [
    {
     "data": {
      "text/plain": [
       "'Vera Farmiga Donna Murphy Bill Irwin Michael Chernus Drama higher ground 1960s belief in the afterlife domestic violence faith minister'"
      ]
     },
     "execution_count": 45,
     "metadata": {},
     "output_type": "execute_result"
    }
   ],
   "source": [
    "movie['Comb'].iloc[4230]"
   ]
  },
  {
   "cell_type": "code",
   "execution_count": 46,
   "id": "330a8d97",
   "metadata": {},
   "outputs": [],
   "source": [
    "from sklearn.feature_extraction.text import TfidfVectorizer\n",
    "tfid = TfidfVectorizer()"
   ]
  },
  {
   "cell_type": "code",
   "execution_count": 47,
   "id": "9ccc11fc",
   "metadata": {},
   "outputs": [],
   "source": [
    "matrix = tfid.fit_transform(movie['Comb'])"
   ]
  },
  {
   "cell_type": "code",
   "execution_count": 48,
   "id": "4bb0b60e",
   "metadata": {},
   "outputs": [
    {
     "data": {
      "text/plain": [
       "(5357, 20235)"
      ]
     },
     "execution_count": 48,
     "metadata": {},
     "output_type": "execute_result"
    }
   ],
   "source": [
    "matrix.shape"
   ]
  },
  {
   "cell_type": "code",
   "execution_count": 49,
   "id": "27b6b29e",
   "metadata": {},
   "outputs": [],
   "source": [
    "from sklearn.metrics.pairwise import linear_kernel"
   ]
  },
  {
   "cell_type": "code",
   "execution_count": 50,
   "id": "552acd74",
   "metadata": {},
   "outputs": [],
   "source": [
    "cosine_similarity = linear_kernel(matrix,matrix)"
   ]
  },
  {
   "cell_type": "code",
   "execution_count": 51,
   "id": "665e16b4",
   "metadata": {},
   "outputs": [],
   "source": [
    "indices = pd.Series(movie.index,index=movie['movie_title'])"
   ]
  },
  {
   "cell_type": "code",
   "execution_count": 52,
   "id": "37440d1f",
   "metadata": {},
   "outputs": [],
   "source": [
    "import re"
   ]
  },
  {
   "cell_type": "code",
   "execution_count": 53,
   "id": "b409329b",
   "metadata": {},
   "outputs": [
    {
     "data": {
      "text/html": [
       "<div>\n",
       "<style scoped>\n",
       "    .dataframe tbody tr th:only-of-type {\n",
       "        vertical-align: middle;\n",
       "    }\n",
       "\n",
       "    .dataframe tbody tr th {\n",
       "        vertical-align: top;\n",
       "    }\n",
       "\n",
       "    .dataframe thead th {\n",
       "        text-align: right;\n",
       "    }\n",
       "</style>\n",
       "<table border=\"1\" class=\"dataframe\">\n",
       "  <thead>\n",
       "    <tr style=\"text-align: right;\">\n",
       "      <th></th>\n",
       "      <th>Comb</th>\n",
       "    </tr>\n",
       "  </thead>\n",
       "  <tbody>\n",
       "    <tr>\n",
       "      <th>0</th>\n",
       "      <td>James Cameron CCH Pounder Joel David Moore Wes...</td>\n",
       "    </tr>\n",
       "    <tr>\n",
       "      <th>1</th>\n",
       "      <td>Gore Verbinski Johnny Depp Orlando Bloom Jack ...</td>\n",
       "    </tr>\n",
       "    <tr>\n",
       "      <th>2</th>\n",
       "      <td>Sam Mendes Christoph Waltz Rory Kinnear Stepha...</td>\n",
       "    </tr>\n",
       "    <tr>\n",
       "      <th>3</th>\n",
       "      <td>Christopher Nolan Tom Hardy Christian Bale Jos...</td>\n",
       "    </tr>\n",
       "    <tr>\n",
       "      <th>4</th>\n",
       "      <td>Doug Walker Doug Walker Rob Walker  Documentar...</td>\n",
       "    </tr>\n",
       "    <tr>\n",
       "      <th>...</th>\n",
       "      <td>...</td>\n",
       "    </tr>\n",
       "    <tr>\n",
       "      <th>523</th>\n",
       "      <td>Anshai Lal Anushka Sharma Diljit Dosanjh Suraj...</td>\n",
       "    </tr>\n",
       "    <tr>\n",
       "      <th>524</th>\n",
       "      <td>Jim Strouse Jessica Williams Chris O'Dowd Keit...</td>\n",
       "    </tr>\n",
       "    <tr>\n",
       "      <th>525</th>\n",
       "      <td>Farhad Mann Adelaide Kane Benjamin Hollingswor...</td>\n",
       "    </tr>\n",
       "    <tr>\n",
       "      <th>527</th>\n",
       "      <td>Jonathan A. Rosenbaum Lou Diamond Phillips Wal...</td>\n",
       "    </tr>\n",
       "    <tr>\n",
       "      <th>529</th>\n",
       "      <td>Ravi Udyawar Sridevi Kapoor Sajal Ali Akshaye ...</td>\n",
       "    </tr>\n",
       "  </tbody>\n",
       "</table>\n",
       "<p>5357 rows × 1 columns</p>\n",
       "</div>"
      ],
      "text/plain": [
       "                                                  Comb\n",
       "0    James Cameron CCH Pounder Joel David Moore Wes...\n",
       "1    Gore Verbinski Johnny Depp Orlando Bloom Jack ...\n",
       "2    Sam Mendes Christoph Waltz Rory Kinnear Stepha...\n",
       "3    Christopher Nolan Tom Hardy Christian Bale Jos...\n",
       "4    Doug Walker Doug Walker Rob Walker  Documentar...\n",
       "..                                                 ...\n",
       "523  Anshai Lal Anushka Sharma Diljit Dosanjh Suraj...\n",
       "524  Jim Strouse Jessica Williams Chris O'Dowd Keit...\n",
       "525  Farhad Mann Adelaide Kane Benjamin Hollingswor...\n",
       "527  Jonathan A. Rosenbaum Lou Diamond Phillips Wal...\n",
       "529  Ravi Udyawar Sridevi Kapoor Sajal Ali Akshaye ...\n",
       "\n",
       "[5357 rows x 1 columns]"
      ]
     },
     "execution_count": 53,
     "metadata": {},
     "output_type": "execute_result"
    }
   ],
   "source": [
    "movie[['Comb']]"
   ]
  },
  {
   "cell_type": "code",
   "execution_count": 54,
   "id": "6809165f",
   "metadata": {},
   "outputs": [
    {
     "data": {
      "text/plain": [
       "array(['en', 'fr', 'zh', 'it', 'fa', 'nl', 'de', 'cn', 'ar', 'es', 'ru',\n",
       "       'sv', 'ja', 'ko', 'sr', 'bn', 'he', 'pt', 'wo', 'ro', 'hu', 'cy',\n",
       "       'vi', 'cs', 'da', 'no', 'nb', 'pl', 'el', 'sh', 'xx', 'mk', 'bo',\n",
       "       'ca', 'fi', 'th', 'sk', 'bs', 'hi', 'tr', 'is', 'ps', 'ab', 'eo',\n",
       "       'ka', 'mn', 'bm', 'zu', 'uk', 'af', 'la', 'et', 'ku', 'fy', 'lv',\n",
       "       'ta', 'sl', 'tl', 'ur', 'rw', 'id', 'bg', 'mr', 'lt', 'kk', 'ms',\n",
       "       'sq', nan, '104.0', 'qu', 'te', 'am', 'jv', 'tg', 'ml', 'hr', 'lo',\n",
       "       'ay', 'kn', 'eu', 'ne', 'pa', 'ky', 'gl', '68.0', 'uz', 'sm', 'mt',\n",
       "       '82.0', 'hy', 'iu', 'lb', 'si'], dtype=object)"
      ]
     },
     "execution_count": 54,
     "metadata": {},
     "output_type": "execute_result"
    }
   ],
   "source": [
    "meta['original_language'].unique()"
   ]
  },
  {
   "cell_type": "code",
   "execution_count": 58,
   "id": "13c7ac57",
   "metadata": {},
   "outputs": [],
   "source": [
    "def recommend(title,cosine_similarity=cosine_similarity):\n",
    "    try:\n",
    "        idx = indices[title.lower()]\n",
    "        sim_score = list(enumerate(cosine_similarity[idx]))\n",
    "        sim_score = sorted(sim_score, key=lambda x:x[1], reverse=True)\n",
    "        sim_score = sim_score[1:11]\n",
    "        movie_indices = [i[0] for i in sim_score]\n",
    "        return movie['movie_title'].iloc[movie_indices].apply(lambda x: x.title())\n",
    "    except:\n",
    "        print('Opps! The  Movie you looking not in list, please try different movies.')"
   ]
  },
  {
   "cell_type": "code",
   "execution_count": 59,
   "id": "c7e9575a",
   "metadata": {},
   "outputs": [
    {
     "data": {
      "text/plain": [
       "64      The Chronicles Of Narnia: The Lion, The Witch ...\n",
       "16               The Chronicles Of Narnia: Prince Caspian\n",
       "4254                          Mad Max 2: The Road Warrior\n",
       "339         The Lord Of The Rings: The Return Of The King\n",
       "829                                           Dragonheart\n",
       "230                             The Chronicles Of Riddick\n",
       "737                                     The Scorpion King\n",
       "1455                                  Queen Of The Damned\n",
       "270     The Lord Of The Rings: The Fellowship Of The Ring\n",
       "4019                In The Name Of The King: The Last Job\n",
       "Name: movie_title, dtype: object"
      ]
     },
     "execution_count": 59,
     "metadata": {},
     "output_type": "execute_result"
    }
   ],
   "source": [
    "recommend(\"Inception\")"
   ]
  },
  {
   "cell_type": "code",
   "execution_count": 60,
   "id": "61922357",
   "metadata": {},
   "outputs": [
    {
     "data": {
      "text/html": [
       "<div>\n",
       "<style scoped>\n",
       "    .dataframe tbody tr th:only-of-type {\n",
       "        vertical-align: middle;\n",
       "    }\n",
       "\n",
       "    .dataframe tbody tr th {\n",
       "        vertical-align: top;\n",
       "    }\n",
       "\n",
       "    .dataframe thead th {\n",
       "        text-align: right;\n",
       "    }\n",
       "</style>\n",
       "<table border=\"1\" class=\"dataframe\">\n",
       "  <thead>\n",
       "    <tr style=\"text-align: right;\">\n",
       "      <th></th>\n",
       "      <th>director_name</th>\n",
       "      <th>actor_1_name</th>\n",
       "      <th>actor_2_name</th>\n",
       "      <th>actor_3_name</th>\n",
       "      <th>genres</th>\n",
       "      <th>movie_title</th>\n",
       "      <th>title_year</th>\n",
       "      <th>plot_keywords</th>\n",
       "      <th>Comb</th>\n",
       "    </tr>\n",
       "  </thead>\n",
       "  <tbody>\n",
       "    <tr>\n",
       "      <th>0</th>\n",
       "      <td>James Cameron</td>\n",
       "      <td>CCH Pounder</td>\n",
       "      <td>Joel David Moore</td>\n",
       "      <td>Wes Studi</td>\n",
       "      <td>Action Adventure Fantasy Sci-Fi</td>\n",
       "      <td>avatar</td>\n",
       "      <td>2009.0</td>\n",
       "      <td>avatar future marine native paraplegic</td>\n",
       "      <td>James Cameron CCH Pounder Joel David Moore Wes...</td>\n",
       "    </tr>\n",
       "    <tr>\n",
       "      <th>1</th>\n",
       "      <td>Gore Verbinski</td>\n",
       "      <td>Johnny Depp</td>\n",
       "      <td>Orlando Bloom</td>\n",
       "      <td>Jack Davenport</td>\n",
       "      <td>Action Adventure Fantasy</td>\n",
       "      <td>pirates of the caribbean: at world's end</td>\n",
       "      <td>2007.0</td>\n",
       "      <td>goddess marriage ceremony marriage proposal pi...</td>\n",
       "      <td>Gore Verbinski Johnny Depp Orlando Bloom Jack ...</td>\n",
       "    </tr>\n",
       "    <tr>\n",
       "      <th>2</th>\n",
       "      <td>Sam Mendes</td>\n",
       "      <td>Christoph Waltz</td>\n",
       "      <td>Rory Kinnear</td>\n",
       "      <td>Stephanie Sigman</td>\n",
       "      <td>Action Adventure Thriller</td>\n",
       "      <td>spectre</td>\n",
       "      <td>2015.0</td>\n",
       "      <td>bomb espionage sequel spy terrorist</td>\n",
       "      <td>Sam Mendes Christoph Waltz Rory Kinnear Stepha...</td>\n",
       "    </tr>\n",
       "    <tr>\n",
       "      <th>3</th>\n",
       "      <td>Christopher Nolan</td>\n",
       "      <td>Tom Hardy</td>\n",
       "      <td>Christian Bale</td>\n",
       "      <td>Joseph Gordon-Levitt</td>\n",
       "      <td>Action Thriller</td>\n",
       "      <td>the dark knight rises</td>\n",
       "      <td>2012.0</td>\n",
       "      <td>deception imprisonment lawlessness police offi...</td>\n",
       "      <td>Christopher Nolan Tom Hardy Christian Bale Jos...</td>\n",
       "    </tr>\n",
       "    <tr>\n",
       "      <th>4</th>\n",
       "      <td>Doug Walker</td>\n",
       "      <td>Doug Walker</td>\n",
       "      <td>Rob Walker</td>\n",
       "      <td></td>\n",
       "      <td>Documentary</td>\n",
       "      <td>star wars: episode vii - the force awakens    ...</td>\n",
       "      <td></td>\n",
       "      <td></td>\n",
       "      <td>Doug Walker Doug Walker Rob Walker  Documentar...</td>\n",
       "    </tr>\n",
       "    <tr>\n",
       "      <th>...</th>\n",
       "      <td>...</td>\n",
       "      <td>...</td>\n",
       "      <td>...</td>\n",
       "      <td>...</td>\n",
       "      <td>...</td>\n",
       "      <td>...</td>\n",
       "      <td>...</td>\n",
       "      <td>...</td>\n",
       "      <td>...</td>\n",
       "    </tr>\n",
       "    <tr>\n",
       "      <th>523</th>\n",
       "      <td>Anshai Lal</td>\n",
       "      <td>Anushka Sharma</td>\n",
       "      <td>Diljit Dosanjh</td>\n",
       "      <td>Suraj Sharma</td>\n",
       "      <td>Fantasy Comedy Romance Drama</td>\n",
       "      <td>phillauri</td>\n",
       "      <td>2017.0</td>\n",
       "      <td>A man is forced to marry a tree to ward off il...</td>\n",
       "      <td>Anshai Lal Anushka Sharma Diljit Dosanjh Suraj...</td>\n",
       "    </tr>\n",
       "    <tr>\n",
       "      <th>524</th>\n",
       "      <td>Jim Strouse</td>\n",
       "      <td>Jessica Williams</td>\n",
       "      <td>Chris O'Dowd</td>\n",
       "      <td>Keith Stanfield</td>\n",
       "      <td>Romance Comedy</td>\n",
       "      <td>the incredible jessica james</td>\n",
       "      <td>2017.0</td>\n",
       "      <td>Burned by a bad breakup, a struggling New York...</td>\n",
       "      <td>Jim Strouse Jessica Williams Chris O'Dowd Keit...</td>\n",
       "    </tr>\n",
       "    <tr>\n",
       "      <th>525</th>\n",
       "      <td>Farhad Mann</td>\n",
       "      <td>Adelaide Kane</td>\n",
       "      <td>Benjamin Hollingsworth</td>\n",
       "      <td>Jean Louisa Kelly</td>\n",
       "      <td>Romance</td>\n",
       "      <td>can't buy my love</td>\n",
       "      <td>2017.0</td>\n",
       "      <td>Lilly, a hard working EMT, is only focused on ...</td>\n",
       "      <td>Farhad Mann Adelaide Kane Benjamin Hollingswor...</td>\n",
       "    </tr>\n",
       "    <tr>\n",
       "      <th>527</th>\n",
       "      <td>Jonathan A. Rosenbaum</td>\n",
       "      <td>Lou Diamond Phillips</td>\n",
       "      <td>Wallace Shawn</td>\n",
       "      <td>Gina Holden</td>\n",
       "      <td>Crime Comedy Action Family</td>\n",
       "      <td>cop and a half: new recruit</td>\n",
       "      <td>2017.0</td>\n",
       "      <td>In this family-friendly action reboot of the 1...</td>\n",
       "      <td>Jonathan A. Rosenbaum Lou Diamond Phillips Wal...</td>\n",
       "    </tr>\n",
       "    <tr>\n",
       "      <th>529</th>\n",
       "      <td>Ravi Udyawar</td>\n",
       "      <td>Sridevi Kapoor</td>\n",
       "      <td>Sajal Ali</td>\n",
       "      <td>Akshaye Khanna</td>\n",
       "      <td>Crime Drama Thriller</td>\n",
       "      <td>mom</td>\n",
       "      <td>2017.0</td>\n",
       "      <td>The bliss of a biology teacher’s family life i...</td>\n",
       "      <td>Ravi Udyawar Sridevi Kapoor Sajal Ali Akshaye ...</td>\n",
       "    </tr>\n",
       "  </tbody>\n",
       "</table>\n",
       "<p>5357 rows × 9 columns</p>\n",
       "</div>"
      ],
      "text/plain": [
       "             director_name          actor_1_name            actor_2_name  \\\n",
       "0            James Cameron           CCH Pounder        Joel David Moore   \n",
       "1           Gore Verbinski           Johnny Depp           Orlando Bloom   \n",
       "2               Sam Mendes       Christoph Waltz            Rory Kinnear   \n",
       "3        Christopher Nolan             Tom Hardy          Christian Bale   \n",
       "4              Doug Walker           Doug Walker              Rob Walker   \n",
       "..                     ...                   ...                     ...   \n",
       "523             Anshai Lal        Anushka Sharma          Diljit Dosanjh   \n",
       "524            Jim Strouse      Jessica Williams            Chris O'Dowd   \n",
       "525            Farhad Mann         Adelaide Kane  Benjamin Hollingsworth   \n",
       "527  Jonathan A. Rosenbaum  Lou Diamond Phillips           Wallace Shawn   \n",
       "529           Ravi Udyawar        Sridevi Kapoor               Sajal Ali   \n",
       "\n",
       "             actor_3_name                           genres  \\\n",
       "0               Wes Studi  Action Adventure Fantasy Sci-Fi   \n",
       "1          Jack Davenport         Action Adventure Fantasy   \n",
       "2        Stephanie Sigman        Action Adventure Thriller   \n",
       "3    Joseph Gordon-Levitt                  Action Thriller   \n",
       "4                                              Documentary   \n",
       "..                    ...                              ...   \n",
       "523          Suraj Sharma     Fantasy Comedy Romance Drama   \n",
       "524       Keith Stanfield                   Romance Comedy   \n",
       "525     Jean Louisa Kelly                          Romance   \n",
       "527           Gina Holden       Crime Comedy Action Family   \n",
       "529        Akshaye Khanna             Crime Drama Thriller   \n",
       "\n",
       "                                           movie_title title_year  \\\n",
       "0                                               avatar     2009.0   \n",
       "1             pirates of the caribbean: at world's end     2007.0   \n",
       "2                                              spectre     2015.0   \n",
       "3                                the dark knight rises     2012.0   \n",
       "4    star wars: episode vii - the force awakens    ...              \n",
       "..                                                 ...        ...   \n",
       "523                                          phillauri     2017.0   \n",
       "524                       the incredible jessica james     2017.0   \n",
       "525                                  can't buy my love     2017.0   \n",
       "527                        cop and a half: new recruit     2017.0   \n",
       "529                                                mom     2017.0   \n",
       "\n",
       "                                         plot_keywords  \\\n",
       "0               avatar future marine native paraplegic   \n",
       "1    goddess marriage ceremony marriage proposal pi...   \n",
       "2                  bomb espionage sequel spy terrorist   \n",
       "3    deception imprisonment lawlessness police offi...   \n",
       "4                                                        \n",
       "..                                                 ...   \n",
       "523  A man is forced to marry a tree to ward off il...   \n",
       "524  Burned by a bad breakup, a struggling New York...   \n",
       "525  Lilly, a hard working EMT, is only focused on ...   \n",
       "527  In this family-friendly action reboot of the 1...   \n",
       "529  The bliss of a biology teacher’s family life i...   \n",
       "\n",
       "                                                  Comb  \n",
       "0    James Cameron CCH Pounder Joel David Moore Wes...  \n",
       "1    Gore Verbinski Johnny Depp Orlando Bloom Jack ...  \n",
       "2    Sam Mendes Christoph Waltz Rory Kinnear Stepha...  \n",
       "3    Christopher Nolan Tom Hardy Christian Bale Jos...  \n",
       "4    Doug Walker Doug Walker Rob Walker  Documentar...  \n",
       "..                                                 ...  \n",
       "523  Anshai Lal Anushka Sharma Diljit Dosanjh Suraj...  \n",
       "524  Jim Strouse Jessica Williams Chris O'Dowd Keit...  \n",
       "525  Farhad Mann Adelaide Kane Benjamin Hollingswor...  \n",
       "527  Jonathan A. Rosenbaum Lou Diamond Phillips Wal...  \n",
       "529  Ravi Udyawar Sridevi Kapoor Sajal Ali Akshaye ...  \n",
       "\n",
       "[5357 rows x 9 columns]"
      ]
     },
     "execution_count": 60,
     "metadata": {},
     "output_type": "execute_result"
    }
   ],
   "source": [
    "movie"
   ]
  },
  {
   "cell_type": "code",
   "execution_count": 61,
   "id": "02672a2f",
   "metadata": {},
   "outputs": [],
   "source": [
    "movie.reset_index(drop=True,inplace=True)"
   ]
  },
  {
   "cell_type": "code",
   "execution_count": 62,
   "id": "e49847b1",
   "metadata": {},
   "outputs": [
    {
     "data": {
      "text/html": [
       "<div>\n",
       "<style scoped>\n",
       "    .dataframe tbody tr th:only-of-type {\n",
       "        vertical-align: middle;\n",
       "    }\n",
       "\n",
       "    .dataframe tbody tr th {\n",
       "        vertical-align: top;\n",
       "    }\n",
       "\n",
       "    .dataframe thead th {\n",
       "        text-align: right;\n",
       "    }\n",
       "</style>\n",
       "<table border=\"1\" class=\"dataframe\">\n",
       "  <thead>\n",
       "    <tr style=\"text-align: right;\">\n",
       "      <th></th>\n",
       "      <th>director_name</th>\n",
       "      <th>actor_1_name</th>\n",
       "      <th>actor_2_name</th>\n",
       "      <th>actor_3_name</th>\n",
       "      <th>genres</th>\n",
       "      <th>movie_title</th>\n",
       "      <th>title_year</th>\n",
       "      <th>plot_keywords</th>\n",
       "      <th>Comb</th>\n",
       "    </tr>\n",
       "  </thead>\n",
       "  <tbody>\n",
       "    <tr>\n",
       "      <th>4321</th>\n",
       "      <td>David Worth</td>\n",
       "      <td>Jessica Szohr</td>\n",
       "      <td>Jonathan Mangum</td>\n",
       "      <td>Angela Jones</td>\n",
       "      <td>Horror Thriller</td>\n",
       "      <td>house at the end of the drive</td>\n",
       "      <td>2014.0</td>\n",
       "      <td>ghost story manson family paranormal real life...</td>\n",
       "      <td>David Worth Jessica Szohr Jonathan Mangum Ange...</td>\n",
       "    </tr>\n",
       "    <tr>\n",
       "      <th>4322</th>\n",
       "      <td>Leslie H. Martinson</td>\n",
       "      <td>Burgess Meredith</td>\n",
       "      <td>Cesar Romero</td>\n",
       "      <td>Burt Ward</td>\n",
       "      <td>Adventure Comedy Family</td>\n",
       "      <td>batman: the movie</td>\n",
       "      <td>1966.0</td>\n",
       "      <td>black cat catwoman dc comics penguin riddler</td>\n",
       "      <td>Leslie H. Martinson Burgess Meredith Cesar Rom...</td>\n",
       "    </tr>\n",
       "    <tr>\n",
       "      <th>4323</th>\n",
       "      <td>Guy Ritchie</td>\n",
       "      <td>Jason Statham</td>\n",
       "      <td>Jason Flemyng</td>\n",
       "      <td>Dexter Fletcher</td>\n",
       "      <td>Comedy Crime</td>\n",
       "      <td>lock, stock and two smoking barrels</td>\n",
       "      <td>1998.0</td>\n",
       "      <td>antique cockney accent hatchet money shotgun</td>\n",
       "      <td>Guy Ritchie Jason Statham Jason Flemyng Dexter...</td>\n",
       "    </tr>\n",
       "    <tr>\n",
       "      <th>4324</th>\n",
       "      <td>Robert M. Young</td>\n",
       "      <td>Barry Corbin</td>\n",
       "      <td>Bruce McGill</td>\n",
       "      <td>Ned Beatty</td>\n",
       "      <td>Western</td>\n",
       "      <td>the ballad of gregorio cortez</td>\n",
       "      <td>1982.0</td>\n",
       "      <td></td>\n",
       "      <td>Robert M. Young Barry Corbin Bruce McGill Ned ...</td>\n",
       "    </tr>\n",
       "    <tr>\n",
       "      <th>4325</th>\n",
       "      <td></td>\n",
       "      <td>Karl Malden</td>\n",
       "      <td>Michael Douglas</td>\n",
       "      <td></td>\n",
       "      <td>Action Crime Drama Mystery</td>\n",
       "      <td>the streets of san francisco</td>\n",
       "      <td></td>\n",
       "      <td>city name in series title homicide older man y...</td>\n",
       "      <td>Karl Malden Michael Douglas  Action Crime Dra...</td>\n",
       "    </tr>\n",
       "    <tr>\n",
       "      <th>4326</th>\n",
       "      <td>Thomas Vinterberg</td>\n",
       "      <td>Ulrich Thomsen</td>\n",
       "      <td>Paprika Steen</td>\n",
       "      <td>Trine Dyrholm</td>\n",
       "      <td>Drama</td>\n",
       "      <td>the celebration</td>\n",
       "      <td>1998.0</td>\n",
       "      <td>dogme 95 family secret haunted by the past sec...</td>\n",
       "      <td>Thomas Vinterberg Ulrich Thomsen Paprika Steen...</td>\n",
       "    </tr>\n",
       "    <tr>\n",
       "      <th>4327</th>\n",
       "      <td>Steve Buscemi</td>\n",
       "      <td>Steve Buscemi</td>\n",
       "      <td>Debi Mazar</td>\n",
       "      <td>Carol Kane</td>\n",
       "      <td>Comedy Drama</td>\n",
       "      <td>trees lounge</td>\n",
       "      <td>1996.0</td>\n",
       "      <td>alcoholic drink bar drink drinking drunk</td>\n",
       "      <td>Steve Buscemi Steve Buscemi Debi Mazar Carol K...</td>\n",
       "    </tr>\n",
       "    <tr>\n",
       "      <th>4328</th>\n",
       "      <td>Ham Tran</td>\n",
       "      <td>Long Nguyen</td>\n",
       "      <td>Kieu Chinh</td>\n",
       "      <td>Cat Ly</td>\n",
       "      <td>Drama</td>\n",
       "      <td>journey from the fall</td>\n",
       "      <td>2006.0</td>\n",
       "      <td>1970s 1980s nonlinear timeline rescue vietnam war</td>\n",
       "      <td>Ham Tran Long Nguyen Kieu Chinh Cat Ly Drama j...</td>\n",
       "    </tr>\n",
       "  </tbody>\n",
       "</table>\n",
       "</div>"
      ],
      "text/plain": [
       "            director_name      actor_1_name     actor_2_name     actor_3_name  \\\n",
       "4321          David Worth     Jessica Szohr  Jonathan Mangum     Angela Jones   \n",
       "4322  Leslie H. Martinson  Burgess Meredith     Cesar Romero        Burt Ward   \n",
       "4323          Guy Ritchie     Jason Statham    Jason Flemyng  Dexter Fletcher   \n",
       "4324      Robert M. Young      Barry Corbin     Bruce McGill       Ned Beatty   \n",
       "4325                            Karl Malden  Michael Douglas                    \n",
       "4326    Thomas Vinterberg    Ulrich Thomsen    Paprika Steen    Trine Dyrholm   \n",
       "4327        Steve Buscemi     Steve Buscemi       Debi Mazar       Carol Kane   \n",
       "4328             Ham Tran       Long Nguyen       Kieu Chinh           Cat Ly   \n",
       "\n",
       "                          genres                               movie_title  \\\n",
       "4321             Horror Thriller             house at the end of the drive   \n",
       "4322     Adventure Comedy Family                         batman: the movie   \n",
       "4323                Comedy Crime       lock, stock and two smoking barrels   \n",
       "4324                     Western             the ballad of gregorio cortez   \n",
       "4325  Action Crime Drama Mystery  the streets of san francisco               \n",
       "4326                       Drama                           the celebration   \n",
       "4327                Comedy Drama                              trees lounge   \n",
       "4328                       Drama                     journey from the fall   \n",
       "\n",
       "     title_year                                      plot_keywords  \\\n",
       "4321     2014.0  ghost story manson family paranormal real life...   \n",
       "4322     1966.0       black cat catwoman dc comics penguin riddler   \n",
       "4323     1998.0       antique cockney accent hatchet money shotgun   \n",
       "4324     1982.0                                                      \n",
       "4325             city name in series title homicide older man y...   \n",
       "4326     1998.0  dogme 95 family secret haunted by the past sec...   \n",
       "4327     1996.0           alcoholic drink bar drink drinking drunk   \n",
       "4328     2006.0  1970s 1980s nonlinear timeline rescue vietnam war   \n",
       "\n",
       "                                                   Comb  \n",
       "4321  David Worth Jessica Szohr Jonathan Mangum Ange...  \n",
       "4322  Leslie H. Martinson Burgess Meredith Cesar Rom...  \n",
       "4323  Guy Ritchie Jason Statham Jason Flemyng Dexter...  \n",
       "4324  Robert M. Young Barry Corbin Bruce McGill Ned ...  \n",
       "4325   Karl Malden Michael Douglas  Action Crime Dra...  \n",
       "4326  Thomas Vinterberg Ulrich Thomsen Paprika Steen...  \n",
       "4327  Steve Buscemi Steve Buscemi Debi Mazar Carol K...  \n",
       "4328  Ham Tran Long Nguyen Kieu Chinh Cat Ly Drama j...  "
      ]
     },
     "execution_count": 62,
     "metadata": {},
     "output_type": "execute_result"
    }
   ],
   "source": [
    "movie[4321:4329]"
   ]
  },
  {
   "cell_type": "code",
   "execution_count": 63,
   "id": "44ec63be",
   "metadata": {},
   "outputs": [],
   "source": [
    "import jedi"
   ]
  },
  {
   "cell_type": "code",
   "execution_count": 64,
   "id": "6bdaa235",
   "metadata": {},
   "outputs": [],
   "source": [
    "import jupyter_contrib_nbextensions"
   ]
  },
  {
   "cell_type": "code",
   "execution_count": null,
   "id": "18ddec80",
   "metadata": {},
   "outputs": [],
   "source": []
  },
  {
   "cell_type": "code",
   "execution_count": null,
   "id": "b728582d",
   "metadata": {},
   "outputs": [],
   "source": []
  }
 ],
 "metadata": {
  "kernelspec": {
   "display_name": "Python 3 (ipykernel)",
   "language": "python",
   "name": "python3"
  },
  "language_info": {
   "codemirror_mode": {
    "name": "ipython",
    "version": 3
   },
   "file_extension": ".py",
   "mimetype": "text/x-python",
   "name": "python",
   "nbconvert_exporter": "python",
   "pygments_lexer": "ipython3",
   "version": "3.8.12"
  }
 },
 "nbformat": 4,
 "nbformat_minor": 5
}
