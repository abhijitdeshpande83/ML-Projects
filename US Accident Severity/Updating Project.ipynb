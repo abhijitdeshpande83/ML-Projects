{
 "cells": [
  {
   "cell_type": "code",
   "execution_count": 3,
   "metadata": {},
   "outputs": [],
   "source": [
    "#importing libraries\n",
    "import numpy as np\n",
    "import pandas as pd\n",
    "import matplotlib.pyplot as plt\n",
    "import seaborn as sns"
   ]
  },
  {
   "cell_type": "code",
   "execution_count": 4,
   "metadata": {},
   "outputs": [
    {
     "name": "stdout",
     "output_type": "stream",
     "text": [
      "CPU times: user 15.5 s, sys: 3.22 s, total: 18.7 s\n",
      "Wall time: 20.5 s\n"
     ]
    }
   ],
   "source": [
    "%time df = pd.read_csv('US_Accidents_June.csv')"
   ]
  },
  {
   "cell_type": "code",
   "execution_count": 5,
   "metadata": {
    "scrolled": true
   },
   "outputs": [
    {
     "name": "stdout",
     "output_type": "stream",
     "text": [
      "<class 'pandas.core.frame.DataFrame'>\n",
      "RangeIndex: 3513617 entries, 0 to 3513616\n",
      "Data columns (total 49 columns):\n",
      " #   Column                 Dtype  \n",
      "---  ------                 -----  \n",
      " 0   ID                     object \n",
      " 1   Source                 object \n",
      " 2   TMC                    float64\n",
      " 3   Severity               int64  \n",
      " 4   Start_Time             object \n",
      " 5   End_Time               object \n",
      " 6   Start_Lat              float64\n",
      " 7   Start_Lng              float64\n",
      " 8   End_Lat                float64\n",
      " 9   End_Lng                float64\n",
      " 10  Distance(mi)           float64\n",
      " 11  Description            object \n",
      " 12  Number                 float64\n",
      " 13  Street                 object \n",
      " 14  Side                   object \n",
      " 15  City                   object \n",
      " 16  County                 object \n",
      " 17  State                  object \n",
      " 18  Zipcode                object \n",
      " 19  Country                object \n",
      " 20  Timezone               object \n",
      " 21  Airport_Code           object \n",
      " 22  Weather_Timestamp      object \n",
      " 23  Temperature(F)         float64\n",
      " 24  Wind_Chill(F)          float64\n",
      " 25  Humidity(%)            float64\n",
      " 26  Pressure(in)           float64\n",
      " 27  Visibility(mi)         float64\n",
      " 28  Wind_Direction         object \n",
      " 29  Wind_Speed(mph)        float64\n",
      " 30  Precipitation(in)      float64\n",
      " 31  Weather_Condition      object \n",
      " 32  Amenity                bool   \n",
      " 33  Bump                   bool   \n",
      " 34  Crossing               bool   \n",
      " 35  Give_Way               bool   \n",
      " 36  Junction               bool   \n",
      " 37  No_Exit                bool   \n",
      " 38  Railway                bool   \n",
      " 39  Roundabout             bool   \n",
      " 40  Station                bool   \n",
      " 41  Stop                   bool   \n",
      " 42  Traffic_Calming        bool   \n",
      " 43  Traffic_Signal         bool   \n",
      " 44  Turning_Loop           bool   \n",
      " 45  Sunrise_Sunset         object \n",
      " 46  Civil_Twilight         object \n",
      " 47  Nautical_Twilight      object \n",
      " 48  Astronomical_Twilight  object \n",
      "dtypes: bool(13), float64(14), int64(1), object(21)\n",
      "memory usage: 1008.6+ MB\n"
     ]
    }
   ],
   "source": [
    "df.info()"
   ]
  },
  {
   "cell_type": "code",
   "execution_count": 6,
   "metadata": {},
   "outputs": [
    {
     "data": {
      "text/plain": [
       "ID                        0.000000\n",
       "Source                    0.000000\n",
       "TMC                      29.451104\n",
       "Severity                  0.000000\n",
       "Start_Time                0.000000\n",
       "End_Time                  0.000000\n",
       "Start_Lat                 0.000000\n",
       "Start_Lng                 0.000000\n",
       "End_Lat                  70.548896\n",
       "End_Lng                  70.548896\n",
       "Distance(mi)              0.000000\n",
       "Description               0.000028\n",
       "Number                   64.402694\n",
       "Street                    0.000000\n",
       "Side                      0.000000\n",
       "City                      0.003188\n",
       "County                    0.000000\n",
       "State                     0.000000\n",
       "Zipcode                   0.030424\n",
       "Country                   0.000000\n",
       "Timezone                  0.110428\n",
       "Airport_Code              0.192337\n",
       "Weather_Timestamp         1.233003\n",
       "Temperature(F)            1.870779\n",
       "Wind_Chill(F)            53.171675\n",
       "Humidity(%)               1.983341\n",
       "Pressure(in)              1.590441\n",
       "Visibility(mi)            2.158915\n",
       "Wind_Direction            1.675595\n",
       "Wind_Speed(mph)          12.938490\n",
       "Precipitation(in)        57.657793\n",
       "Weather_Condition         2.166941\n",
       "Amenity                   0.000000\n",
       "Bump                      0.000000\n",
       "Crossing                  0.000000\n",
       "Give_Way                  0.000000\n",
       "Junction                  0.000000\n",
       "No_Exit                   0.000000\n",
       "Railway                   0.000000\n",
       "Roundabout                0.000000\n",
       "Station                   0.000000\n",
       "Stop                      0.000000\n",
       "Traffic_Calming           0.000000\n",
       "Traffic_Signal            0.000000\n",
       "Turning_Loop              0.000000\n",
       "Sunrise_Sunset            0.003273\n",
       "Civil_Twilight            0.003273\n",
       "Nautical_Twilight         0.003273\n",
       "Astronomical_Twilight     0.003273\n",
       "dtype: float64"
      ]
     },
     "execution_count": 6,
     "metadata": {},
     "output_type": "execute_result"
    }
   ],
   "source": [
    "(df.isnull().sum()/df.shape[0])*100"
   ]
  },
  {
   "cell_type": "code",
   "execution_count": 7,
   "metadata": {},
   "outputs": [],
   "source": [
    "#TMC, End_Lat , End_Lng, Number, Wind_Chill, Wind_Speed, Precipitation have more missing values"
   ]
  },
  {
   "cell_type": "code",
   "execution_count": 8,
   "metadata": {},
   "outputs": [
    {
     "data": {
      "text/plain": [
       "201.0    2080341\n",
       "241.0     249852\n",
       "245.0      40338\n",
       "229.0      22932\n",
       "203.0      17639\n",
       "222.0      13154\n",
       "244.0      12185\n",
       "406.0      11109\n",
       "246.0       7118\n",
       "343.0       6930\n",
       "202.0       6298\n",
       "247.0       4775\n",
       "236.0       2121\n",
       "206.0       1274\n",
       "248.0       1025\n",
       "339.0        920\n",
       "341.0        592\n",
       "336.0         89\n",
       "200.0         66\n",
       "239.0         54\n",
       "351.0          6\n",
       "Name: TMC, dtype: int64"
      ]
     },
     "execution_count": 8,
     "metadata": {},
     "output_type": "execute_result"
    }
   ],
   "source": [
    "df['TMC'].value_counts()"
   ]
  },
  {
   "cell_type": "code",
   "execution_count": 9,
   "metadata": {},
   "outputs": [],
   "source": [
    "#sns.heatmap(df.isnull(),cbar = False, cmap = 'inferno')"
   ]
  },
  {
   "cell_type": "code",
   "execution_count": 10,
   "metadata": {},
   "outputs": [],
   "source": [
    "import datetime as dt"
   ]
  },
  {
   "cell_type": "code",
   "execution_count": 11,
   "metadata": {},
   "outputs": [
    {
     "data": {
      "text/plain": [
       "Index(['ID', 'Source', 'TMC', 'Severity', 'Start_Time', 'End_Time',\n",
       "       'Start_Lat', 'Start_Lng', 'End_Lat', 'End_Lng', 'Distance(mi)',\n",
       "       'Description', 'Number', 'Street', 'Side', 'City', 'County', 'State',\n",
       "       'Zipcode', 'Country', 'Timezone', 'Airport_Code', 'Weather_Timestamp',\n",
       "       'Temperature(F)', 'Wind_Chill(F)', 'Humidity(%)', 'Pressure(in)',\n",
       "       'Visibility(mi)', 'Wind_Direction', 'Wind_Speed(mph)',\n",
       "       'Precipitation(in)', 'Weather_Condition', 'Amenity', 'Bump', 'Crossing',\n",
       "       'Give_Way', 'Junction', 'No_Exit', 'Railway', 'Roundabout', 'Station',\n",
       "       'Stop', 'Traffic_Calming', 'Traffic_Signal', 'Turning_Loop',\n",
       "       'Sunrise_Sunset', 'Civil_Twilight', 'Nautical_Twilight',\n",
       "       'Astronomical_Twilight'],\n",
       "      dtype='object')"
      ]
     },
     "execution_count": 11,
     "metadata": {},
     "output_type": "execute_result"
    }
   ],
   "source": [
    "df.columns"
   ]
  },
  {
   "cell_type": "code",
   "execution_count": 12,
   "metadata": {},
   "outputs": [],
   "source": [
    "df['Weather_Timestamp'] = pd.to_datetime(df['Weather_Timestamp'], format='%Y-%m-%d %H:%M:%S')"
   ]
  },
  {
   "cell_type": "code",
   "execution_count": 13,
   "metadata": {},
   "outputs": [],
   "source": [
    "df['day_of_week'] = df['Weather_Timestamp'].dt.dayofweek "
   ]
  },
  {
   "cell_type": "code",
   "execution_count": 14,
   "metadata": {},
   "outputs": [],
   "source": [
    "df['weekend'] = df['day_of_week'].apply(lambda x: 1 if x>4 else 0)"
   ]
  },
  {
   "cell_type": "code",
   "execution_count": 15,
   "metadata": {},
   "outputs": [
    {
     "data": {
      "text/plain": [
       "<AxesSubplot:xlabel='Severity', ylabel='count'>"
      ]
     },
     "execution_count": 15,
     "metadata": {},
     "output_type": "execute_result"
    },
    {
     "data": {
      "image/png": "[encoded data removed]",
      "text/plain": [
       "<Figure size 432x288 with 1 Axes>"
      ]
     },
     "metadata": {
      "needs_background": "light"
     },
     "output_type": "display_data"
    }
   ],
   "source": [
    "sns.countplot(x='Severity',hue='weekend',data = df)"
   ]
  },
  {
   "cell_type": "code",
   "execution_count": 16,
   "metadata": {},
   "outputs": [
    {
     "data": {
      "text/plain": [
       "<AxesSubplot:xlabel='Severity', ylabel='count'>"
      ]
     },
     "execution_count": 16,
     "metadata": {},
     "output_type": "execute_result"
    },
    {
     "data": {
      "image/png": "[encoded data removed]",
      "text/plain": [
       "<Figure size 432x288 with 1 Axes>"
      ]
     },
     "metadata": {
      "needs_background": "light"
     },
     "output_type": "display_data"
    }
   ],
   "source": [
    "sns.countplot(x='Severity',hue='day_of_week',data=df)"
   ]
  },
  {
   "cell_type": "code",
   "execution_count": 17,
   "metadata": {},
   "outputs": [],
   "source": [
    "df['Time'] = df['Weather_Timestamp'].dt.hour.apply(lambda x: 1 if x>18 or x<7 else 0)"
   ]
  },
  {
   "cell_type": "code",
   "execution_count": 18,
   "metadata": {},
   "outputs": [
    {
     "data": {
      "text/plain": [
       "<AxesSubplot:xlabel='Severity', ylabel='count'>"
      ]
     },
     "execution_count": 18,
     "metadata": {},
     "output_type": "execute_result"
    },
    {
     "data": {
      "image/png": "[encoded data removed]",
      "text/plain": [
       "<Figure size 432x288 with 1 Axes>"
      ]
     },
     "metadata": {
      "needs_background": "light"
     },
     "output_type": "display_data"
    }
   ],
   "source": [
    "sns.countplot(x='Severity',hue='Time',data = df)"
   ]
  },
  {
   "cell_type": "code",
   "execution_count": 19,
   "metadata": {},
   "outputs": [],
   "source": [
    "df = df.iloc[df[['TMC']].dropna().index]"
   ]
  },
  {
   "cell_type": "code",
   "execution_count": 20,
   "metadata": {},
   "outputs": [
    {
     "data": {
      "text/plain": [
       "ID                         0.000000\n",
       "Source                     0.000000\n",
       "TMC                        0.000000\n",
       "Severity                   0.000000\n",
       "Start_Time                 0.000000\n",
       "End_Time                   0.000000\n",
       "Start_Lat                  0.000000\n",
       "Start_Lng                  0.000000\n",
       "End_Lat                  100.000000\n",
       "End_Lng                  100.000000\n",
       "Distance(mi)               0.000000\n",
       "Description                0.000040\n",
       "Number                    60.336378\n",
       "Street                     0.000000\n",
       "Side                       0.000000\n",
       "City                       0.002057\n",
       "County                     0.000000\n",
       "State                      0.000000\n",
       "Zipcode                    0.012506\n",
       "Country                    0.000000\n",
       "Timezone                   0.083144\n",
       "Airport_Code               0.166975\n",
       "Weather_Timestamp          1.120292\n",
       "Temperature(F)             1.654942\n",
       "Wind_Chill(F)             58.076793\n",
       "Humidity(%)                1.763300\n",
       "Pressure(in)               1.417853\n",
       "Visibility(mi)             1.976950\n",
       "Wind_Direction             1.431045\n",
       "Wind_Speed(mph)           13.885368\n",
       "Precipitation(in)         62.308003\n",
       "Weather_Condition          1.975095\n",
       "Amenity                    0.000000\n",
       "Bump                       0.000000\n",
       "Crossing                   0.000000\n",
       "Give_Way                   0.000000\n",
       "Junction                   0.000000\n",
       "No_Exit                    0.000000\n",
       "Railway                    0.000000\n",
       "Roundabout                 0.000000\n",
       "Station                    0.000000\n",
       "Stop                       0.000000\n",
       "Traffic_Calming            0.000000\n",
       "Traffic_Signal             0.000000\n",
       "Turning_Loop               0.000000\n",
       "Sunrise_Sunset             0.002178\n",
       "Civil_Twilight             0.002178\n",
       "Nautical_Twilight          0.002178\n",
       "Astronomical_Twilight      0.002178\n",
       "day_of_week                1.120292\n",
       "weekend                    0.000000\n",
       "Time                       0.000000\n",
       "dtype: float64"
      ]
     },
     "execution_count": 20,
     "metadata": {},
     "output_type": "execute_result"
    }
   ],
   "source": [
    "(df.isnull().sum()/df.shape[0])*100"
   ]
  },
  {
   "cell_type": "code",
   "execution_count": 21,
   "metadata": {},
   "outputs": [],
   "source": [
    "#sns.heatmap(df.isnull(),cmap = 'crest')"
   ]
  },
  {
   "cell_type": "markdown",
   "metadata": {},
   "source": [
    "End_Lat, End_Lng, Number, Wind_Chill(F), Wind_Speed(mph), Precipitation(in), have more NaN values and it is difficult to interprate values for End_Lat, End_Lng, Number"
   ]
  },
  {
   "cell_type": "code",
   "execution_count": 22,
   "metadata": {},
   "outputs": [],
   "source": [
    "df = df.drop(['End_Lat', 'End_Lng', 'Number'],axis = 1)"
   ]
  },
  {
   "cell_type": "code",
   "execution_count": 23,
   "metadata": {},
   "outputs": [],
   "source": [
    "df['Start_Time'] = pd.to_datetime(df['Start_Time'], format = '%Y-%m-%d %H:%M:%S')\n",
    "df['End_Time'] = pd.to_datetime(df['End_Time'], format = '%Y-%m-%d %H:%M:%S')"
   ]
  },
  {
   "cell_type": "code",
   "execution_count": 24,
   "metadata": {},
   "outputs": [],
   "source": [
    "df['accident_time'] = df['End_Time'] - df['Start_Time']"
   ]
  },
  {
   "cell_type": "code",
   "execution_count": 25,
   "metadata": {},
   "outputs": [],
   "source": [
    "accident_days = (df['accident_time'].dt.days.value_counts())"
   ]
  },
  {
   "cell_type": "code",
   "execution_count": 26,
   "metadata": {},
   "outputs": [
    {
     "data": {
      "text/plain": [
       "ID                             0\n",
       "Source                         0\n",
       "TMC                            0\n",
       "Severity                       0\n",
       "Start_Time                     0\n",
       "End_Time                       0\n",
       "Start_Lat                      0\n",
       "Start_Lng                      0\n",
       "Distance(mi)                   0\n",
       "Description                    1\n",
       "Street                         0\n",
       "Side                           0\n",
       "City                          51\n",
       "County                         0\n",
       "State                          0\n",
       "Zipcode                      310\n",
       "Country                        0\n",
       "Timezone                    2061\n",
       "Airport_Code                4139\n",
       "Weather_Timestamp          27770\n",
       "Temperature(F)             41023\n",
       "Wind_Chill(F)            1439618\n",
       "Humidity(%)                43709\n",
       "Pressure(in)               35146\n",
       "Visibility(mi)             49005\n",
       "Wind_Direction             35473\n",
       "Wind_Speed(mph)           344193\n",
       "Precipitation(in)        1544502\n",
       "Weather_Condition          48959\n",
       "Amenity                        0\n",
       "Bump                           0\n",
       "Crossing                       0\n",
       "Give_Way                       0\n",
       "Junction                       0\n",
       "No_Exit                        0\n",
       "Railway                        0\n",
       "Roundabout                     0\n",
       "Station                        0\n",
       "Stop                           0\n",
       "Traffic_Calming                0\n",
       "Traffic_Signal                 0\n",
       "Turning_Loop                   0\n",
       "Sunrise_Sunset                54\n",
       "Civil_Twilight                54\n",
       "Nautical_Twilight             54\n",
       "Astronomical_Twilight         54\n",
       "day_of_week                27770\n",
       "weekend                        0\n",
       "Time                           0\n",
       "accident_time                  0\n",
       "dtype: int64"
      ]
     },
     "execution_count": 26,
     "metadata": {},
     "output_type": "execute_result"
    }
   ],
   "source": [
    "df.isnull().sum()"
   ]
  },
  {
   "cell_type": "code",
   "execution_count": 27,
   "metadata": {},
   "outputs": [],
   "source": [
    "df = df.iloc[df[['Weather_Timestamp']].dropna().index]"
   ]
  },
  {
   "cell_type": "code",
   "execution_count": 28,
   "metadata": {},
   "outputs": [
    {
     "data": {
      "text/plain": [
       "ID                        0.000000\n",
       "Source                    0.000000\n",
       "TMC                       0.000000\n",
       "Severity                  0.000000\n",
       "Start_Time                0.000000\n",
       "End_Time                  0.000000\n",
       "Start_Lat                 0.000000\n",
       "Start_Lng                 0.000000\n",
       "Distance(mi)              0.000000\n",
       "Description               0.000041\n",
       "Street                    0.000000\n",
       "Side                      0.000000\n",
       "City                      0.002040\n",
       "County                    0.000000\n",
       "State                     0.000000\n",
       "Zipcode                   0.000000\n",
       "Country                   0.000000\n",
       "Timezone                  0.000000\n",
       "Airport_Code              0.000000\n",
       "Weather_Timestamp         0.000000\n",
       "Temperature(F)            0.540707\n",
       "Wind_Chill(F)            57.601810\n",
       "Humidity(%)               0.650293\n",
       "Pressure(in)              0.300932\n",
       "Visibility(mi)            0.866364\n",
       "Wind_Direction            0.314274\n",
       "Wind_Speed(mph)          12.909702\n",
       "Precipitation(in)        61.880959\n",
       "Weather_Condition         0.864487\n",
       "Amenity                   0.000000\n",
       "Bump                      0.000000\n",
       "Crossing                  0.000000\n",
       "Give_Way                  0.000000\n",
       "Junction                  0.000000\n",
       "No_Exit                   0.000000\n",
       "Railway                   0.000000\n",
       "Roundabout                0.000000\n",
       "Station                   0.000000\n",
       "Stop                      0.000000\n",
       "Traffic_Calming           0.000000\n",
       "Traffic_Signal            0.000000\n",
       "Turning_Loop              0.000000\n",
       "Sunrise_Sunset            0.002162\n",
       "Civil_Twilight            0.002162\n",
       "Nautical_Twilight         0.002162\n",
       "Astronomical_Twilight     0.002162\n",
       "day_of_week               0.000000\n",
       "weekend                   0.000000\n",
       "Time                      0.000000\n",
       "accident_time             0.000000\n",
       "dtype: float64"
      ]
     },
     "execution_count": 28,
     "metadata": {},
     "output_type": "execute_result"
    }
   ],
   "source": [
    "(df.isnull().sum()/df.shape[0])*100"
   ]
  },
  {
   "cell_type": "code",
   "execution_count": 29,
   "metadata": {},
   "outputs": [],
   "source": [
    "df['month'] = df['Weather_Timestamp'].dt.month"
   ]
  },
  {
   "cell_type": "code",
   "execution_count": 30,
   "metadata": {},
   "outputs": [],
   "source": [
    "df['year'] = df['Weather_Timestamp'].dt.year"
   ]
  },
  {
   "cell_type": "code",
   "execution_count": 31,
   "metadata": {},
   "outputs": [],
   "source": [
    "df['day'] = df['Weather_Timestamp'].dt.day"
   ]
  },
  {
   "cell_type": "code",
   "execution_count": 32,
   "metadata": {},
   "outputs": [],
   "source": [
    "df[['Wind_Chill(F)']] = df[['Wind_Chill(F)']].interpolate()"
   ]
  },
  {
   "cell_type": "code",
   "execution_count": 33,
   "metadata": {},
   "outputs": [],
   "source": [
    "df[['Temperature(F)']] = df[['Temperature(F)']].interpolate()"
   ]
  },
  {
   "cell_type": "code",
   "execution_count": 34,
   "metadata": {},
   "outputs": [
    {
     "data": {
      "text/html": [
       "<div>\n",
       "<style scoped>\n",
       "    .dataframe tbody tr th:only-of-type {\n",
       "        vertical-align: middle;\n",
       "    }\n",
       "\n",
       "    .dataframe tbody tr th {\n",
       "        vertical-align: top;\n",
       "    }\n",
       "\n",
       "    .dataframe thead th {\n",
       "        text-align: right;\n",
       "    }\n",
       "</style>\n",
       "<table border=\"1\" class=\"dataframe\">\n",
       "  <thead>\n",
       "    <tr style=\"text-align: right;\">\n",
       "      <th></th>\n",
       "      <th>Temperature(F)</th>\n",
       "    </tr>\n",
       "    <tr>\n",
       "      <th>month</th>\n",
       "      <th></th>\n",
       "    </tr>\n",
       "  </thead>\n",
       "  <tbody>\n",
       "    <tr>\n",
       "      <th>1</th>\n",
       "      <td>43.936429</td>\n",
       "    </tr>\n",
       "    <tr>\n",
       "      <th>2</th>\n",
       "      <td>48.096902</td>\n",
       "    </tr>\n",
       "    <tr>\n",
       "      <th>3</th>\n",
       "      <td>53.266718</td>\n",
       "    </tr>\n",
       "    <tr>\n",
       "      <th>4</th>\n",
       "      <td>61.309840</td>\n",
       "    </tr>\n",
       "    <tr>\n",
       "      <th>5</th>\n",
       "      <td>69.572217</td>\n",
       "    </tr>\n",
       "    <tr>\n",
       "      <th>6</th>\n",
       "      <td>75.720241</td>\n",
       "    </tr>\n",
       "    <tr>\n",
       "      <th>7</th>\n",
       "      <td>80.091867</td>\n",
       "    </tr>\n",
       "    <tr>\n",
       "      <th>8</th>\n",
       "      <td>78.773867</td>\n",
       "    </tr>\n",
       "    <tr>\n",
       "      <th>9</th>\n",
       "      <td>74.680796</td>\n",
       "    </tr>\n",
       "    <tr>\n",
       "      <th>10</th>\n",
       "      <td>64.476433</td>\n",
       "    </tr>\n",
       "    <tr>\n",
       "      <th>11</th>\n",
       "      <td>53.651062</td>\n",
       "    </tr>\n",
       "    <tr>\n",
       "      <th>12</th>\n",
       "      <td>45.960336</td>\n",
       "    </tr>\n",
       "  </tbody>\n",
       "</table>\n",
       "</div>"
      ],
      "text/plain": [
       "       Temperature(F)\n",
       "month                \n",
       "1           43.936429\n",
       "2           48.096902\n",
       "3           53.266718\n",
       "4           61.309840\n",
       "5           69.572217\n",
       "6           75.720241\n",
       "7           80.091867\n",
       "8           78.773867\n",
       "9           74.680796\n",
       "10          64.476433\n",
       "11          53.651062\n",
       "12          45.960336"
      ]
     },
     "execution_count": 34,
     "metadata": {},
     "output_type": "execute_result"
    }
   ],
   "source": [
    "df.groupby('month').mean()[['Temperature(F)']]"
   ]
  },
  {
   "cell_type": "code",
   "execution_count": 35,
   "metadata": {},
   "outputs": [
    {
     "data": {
      "text/plain": [
       "ID                             0\n",
       "Source                         0\n",
       "TMC                            0\n",
       "Severity                       0\n",
       "Start_Time                     0\n",
       "End_Time                       0\n",
       "Start_Lat                      0\n",
       "Start_Lng                      0\n",
       "Distance(mi)                   0\n",
       "Description                    1\n",
       "Street                         0\n",
       "Side                           0\n",
       "City                          50\n",
       "County                         0\n",
       "State                          0\n",
       "Zipcode                        0\n",
       "Country                        0\n",
       "Timezone                       0\n",
       "Airport_Code                   0\n",
       "Weather_Timestamp              0\n",
       "Temperature(F)                 0\n",
       "Wind_Chill(F)                  2\n",
       "Humidity(%)                15939\n",
       "Pressure(in)                7376\n",
       "Visibility(mi)             21235\n",
       "Wind_Direction              7703\n",
       "Wind_Speed(mph)           316423\n",
       "Precipitation(in)        1516732\n",
       "Weather_Condition          21189\n",
       "Amenity                        0\n",
       "Bump                           0\n",
       "Crossing                       0\n",
       "Give_Way                       0\n",
       "Junction                       0\n",
       "No_Exit                        0\n",
       "Railway                        0\n",
       "Roundabout                     0\n",
       "Station                        0\n",
       "Stop                           0\n",
       "Traffic_Calming                0\n",
       "Traffic_Signal                 0\n",
       "Turning_Loop                   0\n",
       "Sunrise_Sunset                53\n",
       "Civil_Twilight                53\n",
       "Nautical_Twilight             53\n",
       "Astronomical_Twilight         53\n",
       "day_of_week                    0\n",
       "weekend                        0\n",
       "Time                           0\n",
       "accident_time                  0\n",
       "month                          0\n",
       "year                           0\n",
       "day                            0\n",
       "dtype: int64"
      ]
     },
     "execution_count": 35,
     "metadata": {},
     "output_type": "execute_result"
    }
   ],
   "source": [
    "df.isna().sum()"
   ]
  },
  {
   "cell_type": "code",
   "execution_count": null,
   "metadata": {},
   "outputs": [],
   "source": []
  },
  {
   "cell_type": "code",
   "execution_count": 36,
   "metadata": {},
   "outputs": [],
   "source": [
    "df[['Humidity(%)']] = df[['Humidity(%)']].interpolate()"
   ]
  },
  {
   "cell_type": "code",
   "execution_count": null,
   "metadata": {},
   "outputs": [],
   "source": []
  },
  {
   "cell_type": "code",
   "execution_count": 37,
   "metadata": {},
   "outputs": [
    {
     "data": {
      "text/html": [
       "<div>\n",
       "<style scoped>\n",
       "    .dataframe tbody tr th:only-of-type {\n",
       "        vertical-align: middle;\n",
       "    }\n",
       "\n",
       "    .dataframe tbody tr th {\n",
       "        vertical-align: top;\n",
       "    }\n",
       "\n",
       "    .dataframe thead th {\n",
       "        text-align: right;\n",
       "    }\n",
       "</style>\n",
       "<table border=\"1\" class=\"dataframe\">\n",
       "  <thead>\n",
       "    <tr style=\"text-align: right;\">\n",
       "      <th></th>\n",
       "      <th>Humidity(%)</th>\n",
       "    </tr>\n",
       "    <tr>\n",
       "      <th>month</th>\n",
       "      <th></th>\n",
       "    </tr>\n",
       "  </thead>\n",
       "  <tbody>\n",
       "    <tr>\n",
       "      <th>1</th>\n",
       "      <td>69.630671</td>\n",
       "    </tr>\n",
       "    <tr>\n",
       "      <th>2</th>\n",
       "      <td>70.283805</td>\n",
       "    </tr>\n",
       "    <tr>\n",
       "      <th>3</th>\n",
       "      <td>63.529419</td>\n",
       "    </tr>\n",
       "    <tr>\n",
       "      <th>4</th>\n",
       "      <td>61.871593</td>\n",
       "    </tr>\n",
       "    <tr>\n",
       "      <th>5</th>\n",
       "      <td>64.649479</td>\n",
       "    </tr>\n",
       "    <tr>\n",
       "      <th>6</th>\n",
       "      <td>63.105452</td>\n",
       "    </tr>\n",
       "    <tr>\n",
       "      <th>7</th>\n",
       "      <td>63.066155</td>\n",
       "    </tr>\n",
       "    <tr>\n",
       "      <th>8</th>\n",
       "      <td>66.060704</td>\n",
       "    </tr>\n",
       "    <tr>\n",
       "      <th>9</th>\n",
       "      <td>66.463726</td>\n",
       "    </tr>\n",
       "    <tr>\n",
       "      <th>10</th>\n",
       "      <td>67.156255</td>\n",
       "    </tr>\n",
       "    <tr>\n",
       "      <th>11</th>\n",
       "      <td>67.308909</td>\n",
       "    </tr>\n",
       "    <tr>\n",
       "      <th>12</th>\n",
       "      <td>69.336466</td>\n",
       "    </tr>\n",
       "  </tbody>\n",
       "</table>\n",
       "</div>"
      ],
      "text/plain": [
       "       Humidity(%)\n",
       "month             \n",
       "1        69.630671\n",
       "2        70.283805\n",
       "3        63.529419\n",
       "4        61.871593\n",
       "5        64.649479\n",
       "6        63.105452\n",
       "7        63.066155\n",
       "8        66.060704\n",
       "9        66.463726\n",
       "10       67.156255\n",
       "11       67.308909\n",
       "12       69.336466"
      ]
     },
     "execution_count": 37,
     "metadata": {},
     "output_type": "execute_result"
    }
   ],
   "source": [
    "df.groupby('month').mean()[['Humidity(%)']]"
   ]
  },
  {
   "cell_type": "code",
   "execution_count": 38,
   "metadata": {},
   "outputs": [
    {
     "data": {
      "text/plain": [
       "ID                        0.000000\n",
       "Source                    0.000000\n",
       "TMC                       0.000000\n",
       "Severity                  0.000000\n",
       "Start_Time                0.000000\n",
       "End_Time                  0.000000\n",
       "Start_Lat                 0.000000\n",
       "Start_Lng                 0.000000\n",
       "Distance(mi)              0.000000\n",
       "Description               0.000041\n",
       "Street                    0.000000\n",
       "Side                      0.000000\n",
       "City                      0.002040\n",
       "County                    0.000000\n",
       "State                     0.000000\n",
       "Zipcode                   0.000000\n",
       "Country                   0.000000\n",
       "Timezone                  0.000000\n",
       "Airport_Code              0.000000\n",
       "Weather_Timestamp         0.000000\n",
       "Temperature(F)            0.000000\n",
       "Wind_Chill(F)             0.000082\n",
       "Humidity(%)               0.000000\n",
       "Pressure(in)              0.300932\n",
       "Visibility(mi)            0.866364\n",
       "Wind_Direction            0.314274\n",
       "Wind_Speed(mph)          12.909702\n",
       "Precipitation(in)        61.880959\n",
       "Weather_Condition         0.864487\n",
       "Amenity                   0.000000\n",
       "Bump                      0.000000\n",
       "Crossing                  0.000000\n",
       "Give_Way                  0.000000\n",
       "Junction                  0.000000\n",
       "No_Exit                   0.000000\n",
       "Railway                   0.000000\n",
       "Roundabout                0.000000\n",
       "Station                   0.000000\n",
       "Stop                      0.000000\n",
       "Traffic_Calming           0.000000\n",
       "Traffic_Signal            0.000000\n",
       "Turning_Loop              0.000000\n",
       "Sunrise_Sunset            0.002162\n",
       "Civil_Twilight            0.002162\n",
       "Nautical_Twilight         0.002162\n",
       "Astronomical_Twilight     0.002162\n",
       "day_of_week               0.000000\n",
       "weekend                   0.000000\n",
       "Time                      0.000000\n",
       "accident_time             0.000000\n",
       "month                     0.000000\n",
       "year                      0.000000\n",
       "day                       0.000000\n",
       "dtype: float64"
      ]
     },
     "execution_count": 38,
     "metadata": {},
     "output_type": "execute_result"
    }
   ],
   "source": [
    "(df.isna().sum()/df.shape[0])*100"
   ]
  },
  {
   "cell_type": "code",
   "execution_count": 39,
   "metadata": {},
   "outputs": [
    {
     "data": {
      "text/html": [
       "<div>\n",
       "<style scoped>\n",
       "    .dataframe tbody tr th:only-of-type {\n",
       "        vertical-align: middle;\n",
       "    }\n",
       "\n",
       "    .dataframe tbody tr th {\n",
       "        vertical-align: top;\n",
       "    }\n",
       "\n",
       "    .dataframe thead th {\n",
       "        text-align: right;\n",
       "    }\n",
       "</style>\n",
       "<table border=\"1\" class=\"dataframe\">\n",
       "  <thead>\n",
       "    <tr style=\"text-align: right;\">\n",
       "      <th></th>\n",
       "      <th>Wind_Speed(mph)</th>\n",
       "    </tr>\n",
       "    <tr>\n",
       "      <th>month</th>\n",
       "      <th></th>\n",
       "    </tr>\n",
       "  </thead>\n",
       "  <tbody>\n",
       "    <tr>\n",
       "      <th>1</th>\n",
       "      <td>8.575275</td>\n",
       "    </tr>\n",
       "    <tr>\n",
       "      <th>2</th>\n",
       "      <td>8.873334</td>\n",
       "    </tr>\n",
       "    <tr>\n",
       "      <th>3</th>\n",
       "      <td>9.338073</td>\n",
       "    </tr>\n",
       "    <tr>\n",
       "      <th>4</th>\n",
       "      <td>9.107780</td>\n",
       "    </tr>\n",
       "    <tr>\n",
       "      <th>5</th>\n",
       "      <td>8.416213</td>\n",
       "    </tr>\n",
       "    <tr>\n",
       "      <th>6</th>\n",
       "      <td>7.928185</td>\n",
       "    </tr>\n",
       "    <tr>\n",
       "      <th>7</th>\n",
       "      <td>7.548391</td>\n",
       "    </tr>\n",
       "    <tr>\n",
       "      <th>8</th>\n",
       "      <td>7.340925</td>\n",
       "    </tr>\n",
       "    <tr>\n",
       "      <th>9</th>\n",
       "      <td>7.555153</td>\n",
       "    </tr>\n",
       "    <tr>\n",
       "      <th>10</th>\n",
       "      <td>7.939995</td>\n",
       "    </tr>\n",
       "    <tr>\n",
       "      <th>11</th>\n",
       "      <td>7.816619</td>\n",
       "    </tr>\n",
       "    <tr>\n",
       "      <th>12</th>\n",
       "      <td>8.201241</td>\n",
       "    </tr>\n",
       "  </tbody>\n",
       "</table>\n",
       "</div>"
      ],
      "text/plain": [
       "       Wind_Speed(mph)\n",
       "month                 \n",
       "1             8.575275\n",
       "2             8.873334\n",
       "3             9.338073\n",
       "4             9.107780\n",
       "5             8.416213\n",
       "6             7.928185\n",
       "7             7.548391\n",
       "8             7.340925\n",
       "9             7.555153\n",
       "10            7.939995\n",
       "11            7.816619\n",
       "12            8.201241"
      ]
     },
     "execution_count": 39,
     "metadata": {},
     "output_type": "execute_result"
    }
   ],
   "source": [
    "df.groupby('month').mean()[['Wind_Speed(mph)']]"
   ]
  },
  {
   "cell_type": "code",
   "execution_count": 40,
   "metadata": {},
   "outputs": [],
   "source": [
    "df[['Wind_Speed(mph)']] = df[['Wind_Speed(mph)']].interpolate()\n",
    "#df[['Wind_Speed(mph)']] = df['Wind_Speed(mph)'].fillna(method = 'bfill')"
   ]
  },
  {
   "cell_type": "code",
   "execution_count": 41,
   "metadata": {},
   "outputs": [
    {
     "data": {
      "text/html": [
       "<div>\n",
       "<style scoped>\n",
       "    .dataframe tbody tr th:only-of-type {\n",
       "        vertical-align: middle;\n",
       "    }\n",
       "\n",
       "    .dataframe tbody tr th {\n",
       "        vertical-align: top;\n",
       "    }\n",
       "\n",
       "    .dataframe thead th {\n",
       "        text-align: right;\n",
       "    }\n",
       "</style>\n",
       "<table border=\"1\" class=\"dataframe\">\n",
       "  <thead>\n",
       "    <tr style=\"text-align: right;\">\n",
       "      <th></th>\n",
       "      <th>Wind_Speed(mph)</th>\n",
       "    </tr>\n",
       "    <tr>\n",
       "      <th>month</th>\n",
       "      <th></th>\n",
       "    </tr>\n",
       "  </thead>\n",
       "  <tbody>\n",
       "    <tr>\n",
       "      <th>1</th>\n",
       "      <td>8.250224</td>\n",
       "    </tr>\n",
       "    <tr>\n",
       "      <th>2</th>\n",
       "      <td>8.556929</td>\n",
       "    </tr>\n",
       "    <tr>\n",
       "      <th>3</th>\n",
       "      <td>8.992067</td>\n",
       "    </tr>\n",
       "    <tr>\n",
       "      <th>4</th>\n",
       "      <td>8.899745</td>\n",
       "    </tr>\n",
       "    <tr>\n",
       "      <th>5</th>\n",
       "      <td>8.244503</td>\n",
       "    </tr>\n",
       "    <tr>\n",
       "      <th>6</th>\n",
       "      <td>7.778303</td>\n",
       "    </tr>\n",
       "    <tr>\n",
       "      <th>7</th>\n",
       "      <td>7.356962</td>\n",
       "    </tr>\n",
       "    <tr>\n",
       "      <th>8</th>\n",
       "      <td>7.130053</td>\n",
       "    </tr>\n",
       "    <tr>\n",
       "      <th>9</th>\n",
       "      <td>7.266796</td>\n",
       "    </tr>\n",
       "    <tr>\n",
       "      <th>10</th>\n",
       "      <td>7.632450</td>\n",
       "    </tr>\n",
       "    <tr>\n",
       "      <th>11</th>\n",
       "      <td>7.497557</td>\n",
       "    </tr>\n",
       "    <tr>\n",
       "      <th>12</th>\n",
       "      <td>7.889234</td>\n",
       "    </tr>\n",
       "  </tbody>\n",
       "</table>\n",
       "</div>"
      ],
      "text/plain": [
       "       Wind_Speed(mph)\n",
       "month                 \n",
       "1             8.250224\n",
       "2             8.556929\n",
       "3             8.992067\n",
       "4             8.899745\n",
       "5             8.244503\n",
       "6             7.778303\n",
       "7             7.356962\n",
       "8             7.130053\n",
       "9             7.266796\n",
       "10            7.632450\n",
       "11            7.497557\n",
       "12            7.889234"
      ]
     },
     "execution_count": 41,
     "metadata": {},
     "output_type": "execute_result"
    }
   ],
   "source": [
    "df.groupby('month').mean()[['Wind_Speed(mph)']]"
   ]
  },
  {
   "cell_type": "code",
   "execution_count": 42,
   "metadata": {},
   "outputs": [
    {
     "data": {
      "text/html": [
       "<div>\n",
       "<style scoped>\n",
       "    .dataframe tbody tr th:only-of-type {\n",
       "        vertical-align: middle;\n",
       "    }\n",
       "\n",
       "    .dataframe tbody tr th {\n",
       "        vertical-align: top;\n",
       "    }\n",
       "\n",
       "    .dataframe thead th {\n",
       "        text-align: right;\n",
       "    }\n",
       "</style>\n",
       "<table border=\"1\" class=\"dataframe\">\n",
       "  <thead>\n",
       "    <tr style=\"text-align: right;\">\n",
       "      <th></th>\n",
       "      <th>Pressure(in)</th>\n",
       "    </tr>\n",
       "    <tr>\n",
       "      <th>day</th>\n",
       "      <th></th>\n",
       "    </tr>\n",
       "  </thead>\n",
       "  <tbody>\n",
       "    <tr>\n",
       "      <th>1</th>\n",
       "      <td>29.825534</td>\n",
       "    </tr>\n",
       "    <tr>\n",
       "      <th>2</th>\n",
       "      <td>29.811703</td>\n",
       "    </tr>\n",
       "    <tr>\n",
       "      <th>3</th>\n",
       "      <td>29.763339</td>\n",
       "    </tr>\n",
       "    <tr>\n",
       "      <th>4</th>\n",
       "      <td>29.796402</td>\n",
       "    </tr>\n",
       "    <tr>\n",
       "      <th>5</th>\n",
       "      <td>29.812763</td>\n",
       "    </tr>\n",
       "    <tr>\n",
       "      <th>6</th>\n",
       "      <td>29.809499</td>\n",
       "    </tr>\n",
       "    <tr>\n",
       "      <th>7</th>\n",
       "      <td>29.841588</td>\n",
       "    </tr>\n",
       "    <tr>\n",
       "      <th>8</th>\n",
       "      <td>29.843452</td>\n",
       "    </tr>\n",
       "    <tr>\n",
       "      <th>9</th>\n",
       "      <td>29.816385</td>\n",
       "    </tr>\n",
       "    <tr>\n",
       "      <th>10</th>\n",
       "      <td>29.799320</td>\n",
       "    </tr>\n",
       "    <tr>\n",
       "      <th>11</th>\n",
       "      <td>29.822462</td>\n",
       "    </tr>\n",
       "    <tr>\n",
       "      <th>12</th>\n",
       "      <td>29.816533</td>\n",
       "    </tr>\n",
       "    <tr>\n",
       "      <th>13</th>\n",
       "      <td>29.822198</td>\n",
       "    </tr>\n",
       "    <tr>\n",
       "      <th>14</th>\n",
       "      <td>29.846910</td>\n",
       "    </tr>\n",
       "    <tr>\n",
       "      <th>15</th>\n",
       "      <td>29.813665</td>\n",
       "    </tr>\n",
       "    <tr>\n",
       "      <th>16</th>\n",
       "      <td>29.804750</td>\n",
       "    </tr>\n",
       "    <tr>\n",
       "      <th>17</th>\n",
       "      <td>29.788747</td>\n",
       "    </tr>\n",
       "    <tr>\n",
       "      <th>18</th>\n",
       "      <td>29.797502</td>\n",
       "    </tr>\n",
       "    <tr>\n",
       "      <th>19</th>\n",
       "      <td>29.811684</td>\n",
       "    </tr>\n",
       "    <tr>\n",
       "      <th>20</th>\n",
       "      <td>29.809508</td>\n",
       "    </tr>\n",
       "    <tr>\n",
       "      <th>21</th>\n",
       "      <td>29.814798</td>\n",
       "    </tr>\n",
       "    <tr>\n",
       "      <th>22</th>\n",
       "      <td>29.828646</td>\n",
       "    </tr>\n",
       "    <tr>\n",
       "      <th>23</th>\n",
       "      <td>29.808431</td>\n",
       "    </tr>\n",
       "    <tr>\n",
       "      <th>24</th>\n",
       "      <td>29.766898</td>\n",
       "    </tr>\n",
       "    <tr>\n",
       "      <th>25</th>\n",
       "      <td>29.791188</td>\n",
       "    </tr>\n",
       "    <tr>\n",
       "      <th>26</th>\n",
       "      <td>29.799224</td>\n",
       "    </tr>\n",
       "    <tr>\n",
       "      <th>27</th>\n",
       "      <td>29.829532</td>\n",
       "    </tr>\n",
       "    <tr>\n",
       "      <th>28</th>\n",
       "      <td>29.808157</td>\n",
       "    </tr>\n",
       "    <tr>\n",
       "      <th>29</th>\n",
       "      <td>29.790212</td>\n",
       "    </tr>\n",
       "    <tr>\n",
       "      <th>30</th>\n",
       "      <td>29.799329</td>\n",
       "    </tr>\n",
       "    <tr>\n",
       "      <th>31</th>\n",
       "      <td>29.818800</td>\n",
       "    </tr>\n",
       "  </tbody>\n",
       "</table>\n",
       "</div>"
      ],
      "text/plain": [
       "     Pressure(in)\n",
       "day              \n",
       "1       29.825534\n",
       "2       29.811703\n",
       "3       29.763339\n",
       "4       29.796402\n",
       "5       29.812763\n",
       "6       29.809499\n",
       "7       29.841588\n",
       "8       29.843452\n",
       "9       29.816385\n",
       "10      29.799320\n",
       "11      29.822462\n",
       "12      29.816533\n",
       "13      29.822198\n",
       "14      29.846910\n",
       "15      29.813665\n",
       "16      29.804750\n",
       "17      29.788747\n",
       "18      29.797502\n",
       "19      29.811684\n",
       "20      29.809508\n",
       "21      29.814798\n",
       "22      29.828646\n",
       "23      29.808431\n",
       "24      29.766898\n",
       "25      29.791188\n",
       "26      29.799224\n",
       "27      29.829532\n",
       "28      29.808157\n",
       "29      29.790212\n",
       "30      29.799329\n",
       "31      29.818800"
      ]
     },
     "execution_count": 42,
     "metadata": {},
     "output_type": "execute_result"
    }
   ],
   "source": [
    "df.groupby('day').mean()[['Pressure(in)']]"
   ]
  },
  {
   "cell_type": "code",
   "execution_count": 43,
   "metadata": {},
   "outputs": [],
   "source": [
    "df[['Pressure(in)']] = df[['Pressure(in)']].replace(np.nan,df['Pressure(in)'].mean())"
   ]
  },
  {
   "cell_type": "code",
   "execution_count": 44,
   "metadata": {},
   "outputs": [
    {
     "data": {
      "text/html": [
       "<div>\n",
       "<style scoped>\n",
       "    .dataframe tbody tr th:only-of-type {\n",
       "        vertical-align: middle;\n",
       "    }\n",
       "\n",
       "    .dataframe tbody tr th {\n",
       "        vertical-align: top;\n",
       "    }\n",
       "\n",
       "    .dataframe thead th {\n",
       "        text-align: right;\n",
       "    }\n",
       "</style>\n",
       "<table border=\"1\" class=\"dataframe\">\n",
       "  <thead>\n",
       "    <tr style=\"text-align: right;\">\n",
       "      <th></th>\n",
       "      <th>Pressure(in)</th>\n",
       "    </tr>\n",
       "    <tr>\n",
       "      <th>day</th>\n",
       "      <th></th>\n",
       "    </tr>\n",
       "  </thead>\n",
       "  <tbody>\n",
       "    <tr>\n",
       "      <th>1</th>\n",
       "      <td>29.825487</td>\n",
       "    </tr>\n",
       "    <tr>\n",
       "      <th>2</th>\n",
       "      <td>29.811699</td>\n",
       "    </tr>\n",
       "    <tr>\n",
       "      <th>3</th>\n",
       "      <td>29.763460</td>\n",
       "    </tr>\n",
       "    <tr>\n",
       "      <th>4</th>\n",
       "      <td>29.796435</td>\n",
       "    </tr>\n",
       "    <tr>\n",
       "      <th>5</th>\n",
       "      <td>29.812756</td>\n",
       "    </tr>\n",
       "    <tr>\n",
       "      <th>6</th>\n",
       "      <td>29.809501</td>\n",
       "    </tr>\n",
       "    <tr>\n",
       "      <th>7</th>\n",
       "      <td>29.841508</td>\n",
       "    </tr>\n",
       "    <tr>\n",
       "      <th>8</th>\n",
       "      <td>29.843346</td>\n",
       "    </tr>\n",
       "    <tr>\n",
       "      <th>9</th>\n",
       "      <td>29.816368</td>\n",
       "    </tr>\n",
       "    <tr>\n",
       "      <th>10</th>\n",
       "      <td>29.799345</td>\n",
       "    </tr>\n",
       "    <tr>\n",
       "      <th>11</th>\n",
       "      <td>29.822425</td>\n",
       "    </tr>\n",
       "    <tr>\n",
       "      <th>12</th>\n",
       "      <td>29.816512</td>\n",
       "    </tr>\n",
       "    <tr>\n",
       "      <th>13</th>\n",
       "      <td>29.822162</td>\n",
       "    </tr>\n",
       "    <tr>\n",
       "      <th>14</th>\n",
       "      <td>29.846778</td>\n",
       "    </tr>\n",
       "    <tr>\n",
       "      <th>15</th>\n",
       "      <td>29.813656</td>\n",
       "    </tr>\n",
       "    <tr>\n",
       "      <th>16</th>\n",
       "      <td>29.804768</td>\n",
       "    </tr>\n",
       "    <tr>\n",
       "      <th>17</th>\n",
       "      <td>29.788820</td>\n",
       "    </tr>\n",
       "    <tr>\n",
       "      <th>18</th>\n",
       "      <td>29.797543</td>\n",
       "    </tr>\n",
       "    <tr>\n",
       "      <th>19</th>\n",
       "      <td>29.811680</td>\n",
       "    </tr>\n",
       "    <tr>\n",
       "      <th>20</th>\n",
       "      <td>29.809511</td>\n",
       "    </tr>\n",
       "    <tr>\n",
       "      <th>21</th>\n",
       "      <td>29.814784</td>\n",
       "    </tr>\n",
       "    <tr>\n",
       "      <th>22</th>\n",
       "      <td>29.828597</td>\n",
       "    </tr>\n",
       "    <tr>\n",
       "      <th>23</th>\n",
       "      <td>29.808437</td>\n",
       "    </tr>\n",
       "    <tr>\n",
       "      <th>24</th>\n",
       "      <td>29.767017</td>\n",
       "    </tr>\n",
       "    <tr>\n",
       "      <th>25</th>\n",
       "      <td>29.791249</td>\n",
       "    </tr>\n",
       "    <tr>\n",
       "      <th>26</th>\n",
       "      <td>29.799257</td>\n",
       "    </tr>\n",
       "    <tr>\n",
       "      <th>27</th>\n",
       "      <td>29.829474</td>\n",
       "    </tr>\n",
       "    <tr>\n",
       "      <th>28</th>\n",
       "      <td>29.808163</td>\n",
       "    </tr>\n",
       "    <tr>\n",
       "      <th>29</th>\n",
       "      <td>29.790278</td>\n",
       "    </tr>\n",
       "    <tr>\n",
       "      <th>30</th>\n",
       "      <td>29.799357</td>\n",
       "    </tr>\n",
       "    <tr>\n",
       "      <th>31</th>\n",
       "      <td>29.818770</td>\n",
       "    </tr>\n",
       "  </tbody>\n",
       "</table>\n",
       "</div>"
      ],
      "text/plain": [
       "     Pressure(in)\n",
       "day              \n",
       "1       29.825487\n",
       "2       29.811699\n",
       "3       29.763460\n",
       "4       29.796435\n",
       "5       29.812756\n",
       "6       29.809501\n",
       "7       29.841508\n",
       "8       29.843346\n",
       "9       29.816368\n",
       "10      29.799345\n",
       "11      29.822425\n",
       "12      29.816512\n",
       "13      29.822162\n",
       "14      29.846778\n",
       "15      29.813656\n",
       "16      29.804768\n",
       "17      29.788820\n",
       "18      29.797543\n",
       "19      29.811680\n",
       "20      29.809511\n",
       "21      29.814784\n",
       "22      29.828597\n",
       "23      29.808437\n",
       "24      29.767017\n",
       "25      29.791249\n",
       "26      29.799257\n",
       "27      29.829474\n",
       "28      29.808163\n",
       "29      29.790278\n",
       "30      29.799357\n",
       "31      29.818770"
      ]
     },
     "execution_count": 44,
     "metadata": {},
     "output_type": "execute_result"
    }
   ],
   "source": [
    "df.groupby('day').mean()[['Pressure(in)']]"
   ]
  },
  {
   "cell_type": "code",
   "execution_count": 45,
   "metadata": {},
   "outputs": [
    {
     "data": {
      "text/html": [
       "<div>\n",
       "<style scoped>\n",
       "    .dataframe tbody tr th:only-of-type {\n",
       "        vertical-align: middle;\n",
       "    }\n",
       "\n",
       "    .dataframe tbody tr th {\n",
       "        vertical-align: top;\n",
       "    }\n",
       "\n",
       "    .dataframe thead th {\n",
       "        text-align: right;\n",
       "    }\n",
       "</style>\n",
       "<table border=\"1\" class=\"dataframe\">\n",
       "  <thead>\n",
       "    <tr style=\"text-align: right;\">\n",
       "      <th></th>\n",
       "      <th>Visibility(mi)</th>\n",
       "    </tr>\n",
       "  </thead>\n",
       "  <tbody>\n",
       "    <tr>\n",
       "      <th>0</th>\n",
       "      <td>10.0</td>\n",
       "    </tr>\n",
       "    <tr>\n",
       "      <th>1</th>\n",
       "      <td>10.0</td>\n",
       "    </tr>\n",
       "    <tr>\n",
       "      <th>2</th>\n",
       "      <td>10.0</td>\n",
       "    </tr>\n",
       "    <tr>\n",
       "      <th>3</th>\n",
       "      <td>9.0</td>\n",
       "    </tr>\n",
       "    <tr>\n",
       "      <th>4</th>\n",
       "      <td>6.0</td>\n",
       "    </tr>\n",
       "    <tr>\n",
       "      <th>...</th>\n",
       "      <td>...</td>\n",
       "    </tr>\n",
       "    <tr>\n",
       "      <th>2478813</th>\n",
       "      <td>10.0</td>\n",
       "    </tr>\n",
       "    <tr>\n",
       "      <th>2478814</th>\n",
       "      <td>10.0</td>\n",
       "    </tr>\n",
       "    <tr>\n",
       "      <th>2478815</th>\n",
       "      <td>6.0</td>\n",
       "    </tr>\n",
       "    <tr>\n",
       "      <th>2478816</th>\n",
       "      <td>10.0</td>\n",
       "    </tr>\n",
       "    <tr>\n",
       "      <th>2478817</th>\n",
       "      <td>10.0</td>\n",
       "    </tr>\n",
       "  </tbody>\n",
       "</table>\n",
       "<p>2451048 rows × 1 columns</p>\n",
       "</div>"
      ],
      "text/plain": [
       "         Visibility(mi)\n",
       "0                  10.0\n",
       "1                  10.0\n",
       "2                  10.0\n",
       "3                   9.0\n",
       "4                   6.0\n",
       "...                 ...\n",
       "2478813            10.0\n",
       "2478814            10.0\n",
       "2478815             6.0\n",
       "2478816            10.0\n",
       "2478817            10.0\n",
       "\n",
       "[2451048 rows x 1 columns]"
      ]
     },
     "execution_count": 45,
     "metadata": {},
     "output_type": "execute_result"
    }
   ],
   "source": [
    "df[['Visibility(mi)']]"
   ]
  },
  {
   "cell_type": "code",
   "execution_count": 46,
   "metadata": {},
   "outputs": [
    {
     "data": {
      "text/plain": [
       "ID                             0\n",
       "Source                         0\n",
       "TMC                            0\n",
       "Severity                       0\n",
       "Start_Time                     0\n",
       "End_Time                       0\n",
       "Start_Lat                      0\n",
       "Start_Lng                      0\n",
       "Distance(mi)                   0\n",
       "Description                    1\n",
       "Street                         0\n",
       "Side                           0\n",
       "City                          50\n",
       "County                         0\n",
       "State                          0\n",
       "Zipcode                        0\n",
       "Country                        0\n",
       "Timezone                       0\n",
       "Airport_Code                   0\n",
       "Weather_Timestamp              0\n",
       "Temperature(F)                 0\n",
       "Wind_Chill(F)                  2\n",
       "Humidity(%)                    0\n",
       "Pressure(in)                   0\n",
       "Visibility(mi)             21235\n",
       "Wind_Direction              7703\n",
       "Wind_Speed(mph)                2\n",
       "Precipitation(in)        1516732\n",
       "Weather_Condition          21189\n",
       "Amenity                        0\n",
       "Bump                           0\n",
       "Crossing                       0\n",
       "Give_Way                       0\n",
       "Junction                       0\n",
       "No_Exit                        0\n",
       "Railway                        0\n",
       "Roundabout                     0\n",
       "Station                        0\n",
       "Stop                           0\n",
       "Traffic_Calming                0\n",
       "Traffic_Signal                 0\n",
       "Turning_Loop                   0\n",
       "Sunrise_Sunset                53\n",
       "Civil_Twilight                53\n",
       "Nautical_Twilight             53\n",
       "Astronomical_Twilight         53\n",
       "day_of_week                    0\n",
       "weekend                        0\n",
       "Time                           0\n",
       "accident_time                  0\n",
       "month                          0\n",
       "year                           0\n",
       "day                            0\n",
       "dtype: int64"
      ]
     },
     "execution_count": 46,
     "metadata": {},
     "output_type": "execute_result"
    }
   ],
   "source": [
    "df.isnull().sum()"
   ]
  },
  {
   "cell_type": "code",
   "execution_count": 47,
   "metadata": {},
   "outputs": [
    {
     "data": {
      "text/plain": [
       "ID                             0\n",
       "Source                         0\n",
       "TMC                            0\n",
       "Severity                       0\n",
       "Start_Time                     0\n",
       "End_Time                       0\n",
       "Start_Lat                      0\n",
       "Start_Lng                      0\n",
       "Distance(mi)                   0\n",
       "Description                    1\n",
       "Street                         0\n",
       "Side                           0\n",
       "City                          50\n",
       "County                         0\n",
       "State                          0\n",
       "Zipcode                        0\n",
       "Country                        0\n",
       "Timezone                       0\n",
       "Airport_Code                   0\n",
       "Weather_Timestamp              0\n",
       "Temperature(F)                 0\n",
       "Wind_Chill(F)                  2\n",
       "Humidity(%)                    0\n",
       "Pressure(in)                   0\n",
       "Visibility(mi)             21235\n",
       "Wind_Direction              7703\n",
       "Wind_Speed(mph)                2\n",
       "Precipitation(in)        1516732\n",
       "Weather_Condition          21189\n",
       "Amenity                        0\n",
       "Bump                           0\n",
       "Crossing                       0\n",
       "Give_Way                       0\n",
       "Junction                       0\n",
       "No_Exit                        0\n",
       "Railway                        0\n",
       "Roundabout                     0\n",
       "Station                        0\n",
       "Stop                           0\n",
       "Traffic_Calming                0\n",
       "Traffic_Signal                 0\n",
       "Turning_Loop                   0\n",
       "Sunrise_Sunset                53\n",
       "Civil_Twilight                53\n",
       "Nautical_Twilight             53\n",
       "Astronomical_Twilight         53\n",
       "day_of_week                    0\n",
       "weekend                        0\n",
       "Time                           0\n",
       "accident_time                  0\n",
       "month                          0\n",
       "year                           0\n",
       "day                            0\n",
       "dtype: int64"
      ]
     },
     "execution_count": 47,
     "metadata": {},
     "output_type": "execute_result"
    }
   ],
   "source": [
    "df.isnull().sum()"
   ]
  },
  {
   "cell_type": "code",
   "execution_count": 48,
   "metadata": {
    "scrolled": true
   },
   "outputs": [],
   "source": [
    "df = df.loc[df[['Wind_Direction']].dropna().index]"
   ]
  },
  {
   "cell_type": "code",
   "execution_count": 49,
   "metadata": {},
   "outputs": [
    {
     "data": {
      "text/plain": [
       "ID                             0\n",
       "Source                         0\n",
       "TMC                            0\n",
       "Severity                       0\n",
       "Start_Time                     0\n",
       "End_Time                       0\n",
       "Start_Lat                      0\n",
       "Start_Lng                      0\n",
       "Distance(mi)                   0\n",
       "Description                    1\n",
       "Street                         0\n",
       "Side                           0\n",
       "City                          50\n",
       "County                         0\n",
       "State                          0\n",
       "Zipcode                        0\n",
       "Country                        0\n",
       "Timezone                       0\n",
       "Airport_Code                   0\n",
       "Weather_Timestamp              0\n",
       "Temperature(F)                 0\n",
       "Wind_Chill(F)                  2\n",
       "Humidity(%)                    0\n",
       "Pressure(in)                   0\n",
       "Visibility(mi)             18373\n",
       "Wind_Direction                 0\n",
       "Wind_Speed(mph)                2\n",
       "Precipitation(in)        1516591\n",
       "Weather_Condition          18515\n",
       "Amenity                        0\n",
       "Bump                           0\n",
       "Crossing                       0\n",
       "Give_Way                       0\n",
       "Junction                       0\n",
       "No_Exit                        0\n",
       "Railway                        0\n",
       "Roundabout                     0\n",
       "Station                        0\n",
       "Stop                           0\n",
       "Traffic_Calming                0\n",
       "Traffic_Signal                 0\n",
       "Turning_Loop                   0\n",
       "Sunrise_Sunset                53\n",
       "Civil_Twilight                53\n",
       "Nautical_Twilight             53\n",
       "Astronomical_Twilight         53\n",
       "day_of_week                    0\n",
       "weekend                        0\n",
       "Time                           0\n",
       "accident_time                  0\n",
       "month                          0\n",
       "year                           0\n",
       "day                            0\n",
       "dtype: int64"
      ]
     },
     "execution_count": 49,
     "metadata": {},
     "output_type": "execute_result"
    }
   ],
   "source": [
    "df.isnull().sum()"
   ]
  },
  {
   "cell_type": "code",
   "execution_count": 50,
   "metadata": {},
   "outputs": [
    {
     "data": {
      "text/plain": [
       "array(['US/Eastern', 'US/Pacific', 'US/Central', 'US/Mountain'],\n",
       "      dtype=object)"
      ]
     },
     "execution_count": 50,
     "metadata": {},
     "output_type": "execute_result"
    }
   ],
   "source": [
    "df['Timezone'].unique()"
   ]
  },
  {
   "cell_type": "code",
   "execution_count": 51,
   "metadata": {},
   "outputs": [],
   "source": [
    "#sns.heatmap(df.isnull(),cmap = 'inferno', yticklabels = False)"
   ]
  },
  {
   "cell_type": "code",
   "execution_count": 52,
   "metadata": {},
   "outputs": [],
   "source": [
    "df = df.loc[df[['Weather_Condition']].dropna().index]"
   ]
  },
  {
   "cell_type": "code",
   "execution_count": 53,
   "metadata": {},
   "outputs": [
    {
     "data": {
      "text/plain": [
       "Index(['ID', 'Source', 'TMC', 'Severity', 'Start_Time', 'End_Time',\n",
       "       'Start_Lat', 'Start_Lng', 'Distance(mi)', 'Description', 'Street',\n",
       "       'Side', 'City', 'County', 'State', 'Zipcode', 'Country', 'Timezone',\n",
       "       'Airport_Code', 'Weather_Timestamp', 'Temperature(F)', 'Wind_Chill(F)',\n",
       "       'Humidity(%)', 'Pressure(in)', 'Visibility(mi)', 'Wind_Direction',\n",
       "       'Wind_Speed(mph)', 'Precipitation(in)', 'Weather_Condition', 'Amenity',\n",
       "       'Bump', 'Crossing', 'Give_Way', 'Junction', 'No_Exit', 'Railway',\n",
       "       'Roundabout', 'Station', 'Stop', 'Traffic_Calming', 'Traffic_Signal',\n",
       "       'Turning_Loop', 'Sunrise_Sunset', 'Civil_Twilight', 'Nautical_Twilight',\n",
       "       'Astronomical_Twilight', 'day_of_week', 'weekend', 'Time',\n",
       "       'accident_time', 'month', 'year', 'day'],\n",
       "      dtype='object')"
      ]
     },
     "execution_count": 53,
     "metadata": {},
     "output_type": "execute_result"
    }
   ],
   "source": [
    "df.columns"
   ]
  },
  {
   "cell_type": "code",
   "execution_count": 348,
   "metadata": {},
   "outputs": [],
   "source": [
    "df1 = df.drop(['TMC','ID','Source','Start_Time','End_Time','Start_Lat', 'Start_Lng',\\\n",
    "        'Description', 'Street','Side', 'City', 'County', 'State', 'Zipcode',\\\n",
    "         'Country', 'Timezone','Astronomical_Twilight','Time','accident_time', \\\n",
    "         'month', 'year', 'day','Airport_Code','Weather_Timestamp',\\\n",
    "        'Civil_Twilight', 'Nautical_Twilight','day_of_week'],axis=1)"
   ]
  },
  {
   "cell_type": "code",
   "execution_count": 55,
   "metadata": {},
   "outputs": [
    {
     "data": {
      "text/plain": [
       "TMC                        0\n",
       "Severity                   0\n",
       "Distance(mi)               0\n",
       "Temperature(F)             0\n",
       "Wind_Chill(F)              2\n",
       "Humidity(%)                0\n",
       "Pressure(in)               0\n",
       "Visibility(mi)          5316\n",
       "Wind_Direction             0\n",
       "Wind_Speed(mph)            2\n",
       "Precipitation(in)    1500129\n",
       "Weather_Condition          0\n",
       "Amenity                    0\n",
       "Bump                       0\n",
       "Crossing                   0\n",
       "Give_Way                   0\n",
       "Junction                   0\n",
       "No_Exit                    0\n",
       "Railway                    0\n",
       "Roundabout                 0\n",
       "Station                    0\n",
       "Stop                       0\n",
       "Traffic_Calming            0\n",
       "Traffic_Signal             0\n",
       "Turning_Loop               0\n",
       "Sunrise_Sunset            51\n",
       "weekend                    0\n",
       "dtype: int64"
      ]
     },
     "execution_count": 55,
     "metadata": {},
     "output_type": "execute_result"
    }
   ],
   "source": [
    "df1.isnull().sum()"
   ]
  },
  {
   "cell_type": "code",
   "execution_count": 349,
   "metadata": {},
   "outputs": [],
   "source": [
    "df0 = df1.dropna()"
   ]
  },
  {
   "cell_type": "code",
   "execution_count": 350,
   "metadata": {},
   "outputs": [],
   "source": [
    "df01 = df0[df0.columns[df0.dtypes=='float64']]"
   ]
  },
  {
   "cell_type": "code",
   "execution_count": 351,
   "metadata": {},
   "outputs": [
    {
     "data": {
      "text/plain": [
       "Index(['Distance(mi)', 'Temperature(F)', 'Wind_Chill(F)', 'Humidity(%)',\n",
       "       'Pressure(in)', 'Visibility(mi)', 'Wind_Speed(mph)',\n",
       "       'Precipitation(in)'],\n",
       "      dtype='object')"
      ]
     },
     "execution_count": 351,
     "metadata": {},
     "output_type": "execute_result"
    }
   ],
   "source": [
    "df01.columns"
   ]
  },
  {
   "cell_type": "code",
   "execution_count": 352,
   "metadata": {},
   "outputs": [],
   "source": [
    "from sklearn.cluster import DBSCAN\n",
    "from sklearn.neighbors import NearestNeighbors\n",
    "from sklearn.preprocessing import StandardScaler\n",
    "from sklearn.decomposition import PCA"
   ]
  },
  {
   "cell_type": "code",
   "execution_count": 353,
   "metadata": {},
   "outputs": [],
   "source": [
    "scale = StandardScaler()\n",
    "df01 = scale.fit_transform(df01)"
   ]
  },
  {
   "cell_type": "code",
   "execution_count": 354,
   "metadata": {},
   "outputs": [],
   "source": [
    "knn = NearestNeighbors(n_neighbors=2)\n",
    "neigbors = knn.fit(df01)"
   ]
  },
  {
   "cell_type": "code",
   "execution_count": 355,
   "metadata": {},
   "outputs": [],
   "source": [
    "distances, indices = neigbors.kneighbors(df01)"
   ]
  },
  {
   "cell_type": "code",
   "execution_count": 356,
   "metadata": {},
   "outputs": [],
   "source": [
    "distances = np.sort(distances,axis=0)"
   ]
  },
  {
   "cell_type": "code",
   "execution_count": 357,
   "metadata": {},
   "outputs": [
    {
     "data": {
      "text/plain": [
       "923190"
      ]
     },
     "execution_count": 357,
     "metadata": {},
     "output_type": "execute_result"
    }
   ],
   "source": [
    "len(distances[:,1])"
   ]
  },
  {
   "cell_type": "code",
   "execution_count": 358,
   "metadata": {},
   "outputs": [
    {
     "data": {
      "text/plain": [
       "array([79.04970202, 41.3652786 , 20.93183878, 14.15449069, 11.06269748,\n",
       "        8.7882724 ,  8.28727168,  7.05718778,  6.84999867,  6.21716332])"
      ]
     },
     "execution_count": 358,
     "metadata": {},
     "output_type": "execute_result"
    }
   ],
   "source": [
    "distances[:,1][::-1][:10]"
   ]
  },
  {
   "cell_type": "code",
   "execution_count": 359,
   "metadata": {},
   "outputs": [
    {
     "data": {
      "text/plain": [
       "1715"
      ]
     },
     "execution_count": 359,
     "metadata": {},
     "output_type": "execute_result"
    }
   ],
   "source": [
    "(distances[:,1]>1).sum()"
   ]
  },
  {
   "cell_type": "code",
   "execution_count": 1,
   "metadata": {},
   "outputs": [
    {
     "ename": "NameError",
     "evalue": "name 'distances' is not defined",
     "output_type": "error",
     "traceback": [
      "\u001b[0;31m---------------------------------------------------------------------------\u001b[0m",
      "\u001b[0;31mNameError\u001b[0m                                 Traceback (most recent call last)",
      "\u001b[0;32m/var/folders/tp/r9md9jss78nf28s4cq7vcg580000gn/T/ipykernel_21443/108790213.py\u001b[0m in \u001b[0;36m<module>\u001b[0;34m\u001b[0m\n\u001b[0;32m----> 1\u001b[0;31m \u001b[0mdistances\u001b[0m\u001b[0;34m[\u001b[0m\u001b[0mdistances\u001b[0m\u001b[0;34m[\u001b[0m\u001b[0;34m:\u001b[0m\u001b[0;34m,\u001b[0m\u001b[0;36m1\u001b[0m\u001b[0;34m]\u001b[0m\u001b[0;34m<\u001b[0m\u001b[0;36m1\u001b[0m\u001b[0;34m]\u001b[0m\u001b[0;34m\u001b[0m\u001b[0;34m\u001b[0m\u001b[0m\n\u001b[0m",
      "\u001b[0;31mNameError\u001b[0m: name 'distances' is not defined"
     ]
    }
   ],
   "source": [
    "distances[distances[:,1]>1]"
   ]
  },
  {
   "cell_type": "code",
   "execution_count": 361,
   "metadata": {},
   "outputs": [
    {
     "data": {
      "text/plain": [
       "(923190, 2)"
      ]
     },
     "execution_count": 361,
     "metadata": {},
     "output_type": "execute_result"
    }
   ],
   "source": [
    "distances.shape"
   ]
  },
  {
   "cell_type": "code",
   "execution_count": 362,
   "metadata": {},
   "outputs": [
    {
     "data": {
      "image/png": "[encoded data removed]",
      "text/plain": [
       "<Figure size 1440x720 with 1 Axes>"
      ]
     },
     "metadata": {
      "needs_background": "light"
     },
     "output_type": "display_data"
    }
   ],
   "source": [
    "plt.figure(figsize=(20,10))\n",
    "plt.plot(distances[distances[:,1]<1][:,1])\n",
    "plt.title('K-distance Graph',fontsize=20)\n",
    "plt.xlabel('Data Points sorted by distance',fontsize=14)\n",
    "plt.ylabel('Epsilon',fontsize=14)\n",
    "plt.show()"
   ]
  },
  {
   "cell_type": "code",
   "execution_count": 363,
   "metadata": {},
   "outputs": [],
   "source": [
    "dbscan = DBSCAN(eps=0.3,min_samples=10)"
   ]
  },
  {
   "cell_type": "code",
   "execution_count": 364,
   "metadata": {},
   "outputs": [
    {
     "data": {
      "text/plain": [
       "DBSCAN(eps=0.3, min_samples=10)"
      ]
     },
     "execution_count": 364,
     "metadata": {},
     "output_type": "execute_result"
    }
   ],
   "source": [
    "dbscan.fit(df01)"
   ]
  },
  {
   "cell_type": "code",
   "execution_count": 365,
   "metadata": {},
   "outputs": [
    {
     "ename": "IndexError",
     "evalue": "index 8 is out of bounds for axis 1 with size 8",
     "output_type": "error",
     "traceback": [
      "\u001b[0;31m---------------------------------------------------------------------------\u001b[0m",
      "\u001b[0;31mIndexError\u001b[0m                                Traceback (most recent call last)",
      "\u001b[0;32m/var/folders/tp/r9md9jss78nf28s4cq7vcg580000gn/T/ipykernel_10770/1213759189.py\u001b[0m in \u001b[0;36m<module>\u001b[0;34m\u001b[0m\n\u001b[0;32m----> 1\u001b[0;31m \u001b[0msns\u001b[0m\u001b[0;34m.\u001b[0m\u001b[0mscatterplot\u001b[0m\u001b[0;34m(\u001b[0m\u001b[0mx\u001b[0m\u001b[0;34m=\u001b[0m\u001b[0mdf01\u001b[0m\u001b[0;34m[\u001b[0m\u001b[0;34m:\u001b[0m\u001b[0;34m,\u001b[0m\u001b[0;36m1\u001b[0m\u001b[0;34m]\u001b[0m\u001b[0;34m,\u001b[0m\u001b[0my\u001b[0m\u001b[0;34m=\u001b[0m\u001b[0mdf01\u001b[0m\u001b[0;34m[\u001b[0m\u001b[0;34m:\u001b[0m\u001b[0;34m,\u001b[0m\u001b[0;36m8\u001b[0m\u001b[0;34m]\u001b[0m\u001b[0;34m)\u001b[0m\u001b[0;34m\u001b[0m\u001b[0;34m\u001b[0m\u001b[0m\n\u001b[0m",
      "\u001b[0;31mIndexError\u001b[0m: index 8 is out of bounds for axis 1 with size 8"
     ]
    }
   ],
   "source": [
    "sns.scatterplot(x=df01[:,1],y=df01[:,8])"
   ]
  },
  {
   "cell_type": "code",
   "execution_count": null,
   "metadata": {},
   "outputs": [],
   "source": []
  },
  {
   "cell_type": "code",
   "execution_count": null,
   "metadata": {
    "scrolled": true
   },
   "outputs": [],
   "source": [
    "labels, counts = np.unique(dbscan.labels_,return_counts=True)"
   ]
  },
  {
   "cell_type": "code",
   "execution_count": null,
   "metadata": {},
   "outputs": [],
   "source": [
    "df02 = np.concatenate([df01,dbscan.labels_.reshape(-1,1)],axis=1)"
   ]
  },
  {
   "cell_type": "code",
   "execution_count": null,
   "metadata": {},
   "outputs": [],
   "source": [
    "df02 = df02[df02[:,9]!=-1][:,:9]"
   ]
  },
  {
   "cell_type": "code",
   "execution_count": null,
   "metadata": {},
   "outputs": [],
   "source": [
    "sns.scatterplot(x=df02[:,2],y=df02[:,1])"
   ]
  },
  {
   "cell_type": "code",
   "execution_count": 305,
   "metadata": {},
   "outputs": [],
   "source": [
    "from sklearn.decomposition import PCA"
   ]
  },
  {
   "cell_type": "code",
   "execution_count": 126,
   "metadata": {},
   "outputs": [
    {
     "name": "stdout",
     "output_type": "stream",
     "text": [
      "<class 'pandas.core.frame.DataFrame'>\n",
      "Int64Index: 2424830 entries, 0 to 2478817\n",
      "Data columns (total 28 columns):\n",
      " #   Column             Dtype  \n",
      "---  ------             -----  \n",
      " 0   TMC                float64\n",
      " 1   Severity           int64  \n",
      " 2   Distance(mi)       float64\n",
      " 3   Temperature(F)     float64\n",
      " 4   Wind_Chill(F)      float64\n",
      " 5   Humidity(%)        float64\n",
      " 6   Pressure(in)       float64\n",
      " 7   Visibility(mi)     float64\n",
      " 8   Wind_Direction     object \n",
      " 9   Wind_Speed(mph)    float64\n",
      " 10  Precipitation(in)  float64\n",
      " 11  Weather_Condition  object \n",
      " 12  Amenity            bool   \n",
      " 13  Bump               bool   \n",
      " 14  Crossing           bool   \n",
      " 15  Give_Way           bool   \n",
      " 16  Junction           bool   \n",
      " 17  No_Exit            bool   \n",
      " 18  Railway            bool   \n",
      " 19  Roundabout         bool   \n",
      " 20  Station            bool   \n",
      " 21  Stop               bool   \n",
      " 22  Traffic_Calming    bool   \n",
      " 23  Traffic_Signal     bool   \n",
      " 24  Turning_Loop       bool   \n",
      " 25  Sunrise_Sunset     object \n",
      " 26  day_of_week        float64\n",
      " 27  weekend            int64  \n",
      "dtypes: bool(13), float64(10), int64(2), object(3)\n",
      "memory usage: 326.1+ MB\n"
     ]
    }
   ],
   "source": [
    "df1.info()"
   ]
  },
  {
   "cell_type": "code",
   "execution_count": null,
   "metadata": {},
   "outputs": [],
   "source": []
  },
  {
   "cell_type": "code",
   "execution_count": null,
   "metadata": {},
   "outputs": [],
   "source": []
  },
  {
   "cell_type": "code",
   "execution_count": 55,
   "metadata": {},
   "outputs": [],
   "source": [
    "df = df.drop(['ID','Source','Description','Street','City','County','Airport_Code','Precipitation(in)','Civil_Twilight','Nautical_Twilight','Astronomical_Twilight'],axis=1)"
   ]
  },
  {
   "cell_type": "code",
   "execution_count": 56,
   "metadata": {},
   "outputs": [
    {
     "data": {
      "text/plain": [
       "TMC                     0\n",
       "Severity                0\n",
       "Start_Time              0\n",
       "End_Time                0\n",
       "Start_Lat               0\n",
       "Start_Lng               0\n",
       "Distance(mi)            0\n",
       "Side                    0\n",
       "State                   0\n",
       "Zipcode                 0\n",
       "Country                 0\n",
       "Timezone                0\n",
       "Weather_Timestamp       0\n",
       "Temperature(F)          0\n",
       "Wind_Chill(F)           2\n",
       "Humidity(%)             0\n",
       "Pressure(in)            0\n",
       "Visibility(mi)       5316\n",
       "Wind_Direction          0\n",
       "Wind_Speed(mph)         2\n",
       "Weather_Condition       0\n",
       "Amenity                 0\n",
       "Bump                    0\n",
       "Crossing                0\n",
       "Give_Way                0\n",
       "Junction                0\n",
       "No_Exit                 0\n",
       "Railway                 0\n",
       "Roundabout              0\n",
       "Station                 0\n",
       "Stop                    0\n",
       "Traffic_Calming         0\n",
       "Traffic_Signal          0\n",
       "Turning_Loop            0\n",
       "Sunrise_Sunset         51\n",
       "day_of_week             0\n",
       "weekend                 0\n",
       "Time                    0\n",
       "accident_time           0\n",
       "month                   0\n",
       "year                    0\n",
       "day                     0\n",
       "dtype: int64"
      ]
     },
     "execution_count": 56,
     "metadata": {},
     "output_type": "execute_result"
    }
   ],
   "source": [
    "df.isnull().sum()"
   ]
  },
  {
   "cell_type": "code",
   "execution_count": 59,
   "metadata": {},
   "outputs": [
    {
     "ename": "ValueError",
     "evalue": "Columns must be same length as key",
     "output_type": "error",
     "traceback": [
      "\u001b[0;31m---------------------------------------------------------------------------\u001b[0m",
      "\u001b[0;31mValueError\u001b[0m                                Traceback (most recent call last)",
      "\u001b[0;32m/var/folders/tp/r9md9jss78nf28s4cq7vcg580000gn/T/ipykernel_4015/1170455826.py\u001b[0m in \u001b[0;36m<module>\u001b[0;34m\u001b[0m\n\u001b[0;32m----> 1\u001b[0;31m \u001b[0mdf\u001b[0m\u001b[0;34m[\u001b[0m\u001b[0;34m[\u001b[0m\u001b[0;34m'Zipcode'\u001b[0m\u001b[0;34m]\u001b[0m\u001b[0;34m]\u001b[0m \u001b[0;34m=\u001b[0m \u001b[0mdf\u001b[0m\u001b[0;34m[\u001b[0m\u001b[0;34m'Zipcode'\u001b[0m\u001b[0;34m]\u001b[0m\u001b[0;34m.\u001b[0m\u001b[0mapply\u001b[0m\u001b[0;34m(\u001b[0m\u001b[0;32mlambda\u001b[0m \u001b[0mx\u001b[0m\u001b[0;34m:\u001b[0m \u001b[0mx\u001b[0m\u001b[0;34m.\u001b[0m\u001b[0msplit\u001b[0m\u001b[0;34m(\u001b[0m\u001b[0;34m'-'\u001b[0m\u001b[0;34m)\u001b[0m\u001b[0;34m[\u001b[0m\u001b[0;36m0\u001b[0m\u001b[0;34m]\u001b[0m\u001b[0;34m)\u001b[0m\u001b[0;34m.\u001b[0m\u001b[0mastype\u001b[0m\u001b[0;34m(\u001b[0m\u001b[0;34m'int64'\u001b[0m\u001b[0;34m)\u001b[0m\u001b[0;34m\u001b[0m\u001b[0;34m\u001b[0m\u001b[0m\n\u001b[0m",
      "\u001b[0;32m~/opt/anaconda3/lib/python3.8/site-packages/pandas/core/frame.py\u001b[0m in \u001b[0;36m__setitem__\u001b[0;34m(self, key, value)\u001b[0m\n\u001b[1;32m   3595\u001b[0m             \u001b[0mself\u001b[0m\u001b[0;34m.\u001b[0m\u001b[0m_setitem_frame\u001b[0m\u001b[0;34m(\u001b[0m\u001b[0mkey\u001b[0m\u001b[0;34m,\u001b[0m \u001b[0mvalue\u001b[0m\u001b[0;34m)\u001b[0m\u001b[0;34m\u001b[0m\u001b[0;34m\u001b[0m\u001b[0m\n\u001b[1;32m   3596\u001b[0m         \u001b[0;32melif\u001b[0m \u001b[0misinstance\u001b[0m\u001b[0;34m(\u001b[0m\u001b[0mkey\u001b[0m\u001b[0;34m,\u001b[0m \u001b[0;34m(\u001b[0m\u001b[0mSeries\u001b[0m\u001b[0;34m,\u001b[0m \u001b[0mnp\u001b[0m\u001b[0;34m.\u001b[0m\u001b[0mndarray\u001b[0m\u001b[0;34m,\u001b[0m \u001b[0mlist\u001b[0m\u001b[0;34m,\u001b[0m \u001b[0mIndex\u001b[0m\u001b[0;34m)\u001b[0m\u001b[0;34m)\u001b[0m\u001b[0;34m:\u001b[0m\u001b[0;34m\u001b[0m\u001b[0;34m\u001b[0m\u001b[0m\n\u001b[0;32m-> 3597\u001b[0;31m             \u001b[0mself\u001b[0m\u001b[0;34m.\u001b[0m\u001b[0m_setitem_array\u001b[0m\u001b[0;34m(\u001b[0m\u001b[0mkey\u001b[0m\u001b[0;34m,\u001b[0m \u001b[0mvalue\u001b[0m\u001b[0;34m)\u001b[0m\u001b[0;34m\u001b[0m\u001b[0;34m\u001b[0m\u001b[0m\n\u001b[0m\u001b[1;32m   3598\u001b[0m         \u001b[0;32melif\u001b[0m \u001b[0misinstance\u001b[0m\u001b[0;34m(\u001b[0m\u001b[0mvalue\u001b[0m\u001b[0;34m,\u001b[0m \u001b[0mDataFrame\u001b[0m\u001b[0;34m)\u001b[0m\u001b[0;34m:\u001b[0m\u001b[0;34m\u001b[0m\u001b[0;34m\u001b[0m\u001b[0m\n\u001b[1;32m   3599\u001b[0m             \u001b[0mself\u001b[0m\u001b[0;34m.\u001b[0m\u001b[0m_set_item_frame_value\u001b[0m\u001b[0;34m(\u001b[0m\u001b[0mkey\u001b[0m\u001b[0;34m,\u001b[0m \u001b[0mvalue\u001b[0m\u001b[0;34m)\u001b[0m\u001b[0;34m\u001b[0m\u001b[0;34m\u001b[0m\u001b[0m\n",
      "\u001b[0;32m~/opt/anaconda3/lib/python3.8/site-packages/pandas/core/frame.py\u001b[0m in \u001b[0;36m_setitem_array\u001b[0;34m(self, key, value)\u001b[0m\n\u001b[1;32m   3649\u001b[0m \u001b[0;34m\u001b[0m\u001b[0m\n\u001b[1;32m   3650\u001b[0m             \u001b[0;32melse\u001b[0m\u001b[0;34m:\u001b[0m\u001b[0;34m\u001b[0m\u001b[0;34m\u001b[0m\u001b[0m\n\u001b[0;32m-> 3651\u001b[0;31m                 \u001b[0mself\u001b[0m\u001b[0;34m.\u001b[0m\u001b[0m_iset_not_inplace\u001b[0m\u001b[0;34m(\u001b[0m\u001b[0mkey\u001b[0m\u001b[0;34m,\u001b[0m \u001b[0mvalue\u001b[0m\u001b[0;34m)\u001b[0m\u001b[0;34m\u001b[0m\u001b[0;34m\u001b[0m\u001b[0m\n\u001b[0m\u001b[1;32m   3652\u001b[0m \u001b[0;34m\u001b[0m\u001b[0m\n\u001b[1;32m   3653\u001b[0m     \u001b[0;32mdef\u001b[0m \u001b[0m_iset_not_inplace\u001b[0m\u001b[0;34m(\u001b[0m\u001b[0mself\u001b[0m\u001b[0;34m,\u001b[0m \u001b[0mkey\u001b[0m\u001b[0;34m,\u001b[0m \u001b[0mvalue\u001b[0m\u001b[0;34m)\u001b[0m\u001b[0;34m:\u001b[0m\u001b[0;34m\u001b[0m\u001b[0;34m\u001b[0m\u001b[0m\n",
      "\u001b[0;32m~/opt/anaconda3/lib/python3.8/site-packages/pandas/core/frame.py\u001b[0m in \u001b[0;36m_iset_not_inplace\u001b[0;34m(self, key, value)\u001b[0m\n\u001b[1;32m   3668\u001b[0m         \u001b[0;32mif\u001b[0m \u001b[0mself\u001b[0m\u001b[0;34m.\u001b[0m\u001b[0mcolumns\u001b[0m\u001b[0;34m.\u001b[0m\u001b[0mis_unique\u001b[0m\u001b[0;34m:\u001b[0m\u001b[0;34m\u001b[0m\u001b[0;34m\u001b[0m\u001b[0m\n\u001b[1;32m   3669\u001b[0m             \u001b[0;32mif\u001b[0m \u001b[0mnp\u001b[0m\u001b[0;34m.\u001b[0m\u001b[0mshape\u001b[0m\u001b[0;34m(\u001b[0m\u001b[0mvalue\u001b[0m\u001b[0;34m)\u001b[0m\u001b[0;34m[\u001b[0m\u001b[0;34m-\u001b[0m\u001b[0;36m1\u001b[0m\u001b[0;34m]\u001b[0m \u001b[0;34m!=\u001b[0m \u001b[0mlen\u001b[0m\u001b[0;34m(\u001b[0m\u001b[0mkey\u001b[0m\u001b[0;34m)\u001b[0m\u001b[0;34m:\u001b[0m\u001b[0;34m\u001b[0m\u001b[0;34m\u001b[0m\u001b[0m\n\u001b[0;32m-> 3670\u001b[0;31m                 \u001b[0;32mraise\u001b[0m \u001b[0mValueError\u001b[0m\u001b[0;34m(\u001b[0m\u001b[0;34m\"Columns must be same length as key\"\u001b[0m\u001b[0;34m)\u001b[0m\u001b[0;34m\u001b[0m\u001b[0;34m\u001b[0m\u001b[0m\n\u001b[0m\u001b[1;32m   3671\u001b[0m \u001b[0;34m\u001b[0m\u001b[0m\n\u001b[1;32m   3672\u001b[0m             \u001b[0;32mfor\u001b[0m \u001b[0mi\u001b[0m\u001b[0;34m,\u001b[0m \u001b[0mcol\u001b[0m \u001b[0;32min\u001b[0m \u001b[0menumerate\u001b[0m\u001b[0;34m(\u001b[0m\u001b[0mkey\u001b[0m\u001b[0;34m)\u001b[0m\u001b[0;34m:\u001b[0m\u001b[0;34m\u001b[0m\u001b[0;34m\u001b[0m\u001b[0m\n",
      "\u001b[0;31mValueError\u001b[0m: Columns must be same length as key"
     ]
    }
   ],
   "source": [
    "df[['Zipcode']] = df['Zipcode'].apply(lambda x: x.split('-')[0]).astype('int64')"
   ]
  },
  {
   "cell_type": "code",
   "execution_count": 58,
   "metadata": {},
   "outputs": [
    {
     "data": {
      "text/html": [
       "<div>\n",
       "<style scoped>\n",
       "    .dataframe tbody tr th:only-of-type {\n",
       "        vertical-align: middle;\n",
       "    }\n",
       "\n",
       "    .dataframe tbody tr th {\n",
       "        vertical-align: top;\n",
       "    }\n",
       "\n",
       "    .dataframe thead th {\n",
       "        text-align: right;\n",
       "    }\n",
       "</style>\n",
       "<table border=\"1\" class=\"dataframe\">\n",
       "  <thead>\n",
       "    <tr style=\"text-align: right;\">\n",
       "      <th></th>\n",
       "      <th>Zipcode</th>\n",
       "    </tr>\n",
       "  </thead>\n",
       "  <tbody>\n",
       "    <tr>\n",
       "      <th>0</th>\n",
       "      <td>45424</td>\n",
       "    </tr>\n",
       "    <tr>\n",
       "      <th>1</th>\n",
       "      <td>43068-3402</td>\n",
       "    </tr>\n",
       "    <tr>\n",
       "      <th>2</th>\n",
       "      <td>45176</td>\n",
       "    </tr>\n",
       "    <tr>\n",
       "      <th>3</th>\n",
       "      <td>45417</td>\n",
       "    </tr>\n",
       "    <tr>\n",
       "      <th>4</th>\n",
       "      <td>45459</td>\n",
       "    </tr>\n",
       "    <tr>\n",
       "      <th>...</th>\n",
       "      <td>...</td>\n",
       "    </tr>\n",
       "    <tr>\n",
       "      <th>2478813</th>\n",
       "      <td>91384</td>\n",
       "    </tr>\n",
       "    <tr>\n",
       "      <th>2478814</th>\n",
       "      <td>90064</td>\n",
       "    </tr>\n",
       "    <tr>\n",
       "      <th>2478815</th>\n",
       "      <td>92376-5157</td>\n",
       "    </tr>\n",
       "    <tr>\n",
       "      <th>2478816</th>\n",
       "      <td>90650</td>\n",
       "    </tr>\n",
       "    <tr>\n",
       "      <th>2478817</th>\n",
       "      <td>92530-1613</td>\n",
       "    </tr>\n",
       "  </tbody>\n",
       "</table>\n",
       "<p>2424830 rows × 1 columns</p>\n",
       "</div>"
      ],
      "text/plain": [
       "            Zipcode\n",
       "0             45424\n",
       "1        43068-3402\n",
       "2             45176\n",
       "3             45417\n",
       "4             45459\n",
       "...             ...\n",
       "2478813       91384\n",
       "2478814       90064\n",
       "2478815  92376-5157\n",
       "2478816       90650\n",
       "2478817  92530-1613\n",
       "\n",
       "[2424830 rows x 1 columns]"
      ]
     },
     "execution_count": 58,
     "metadata": {},
     "output_type": "execute_result"
    }
   ],
   "source": [
    "df[['Zipcode']]"
   ]
  },
  {
   "cell_type": "code",
   "execution_count": 60,
   "metadata": {},
   "outputs": [],
   "source": [
    "from sklearn.preprocessing import LabelEncoder"
   ]
  },
  {
   "cell_type": "code",
   "execution_count": 61,
   "metadata": {},
   "outputs": [],
   "source": [
    "encoder = LabelEncoder()"
   ]
  },
  {
   "cell_type": "code",
   "execution_count": 62,
   "metadata": {},
   "outputs": [],
   "source": [
    "s= pd.DataFrame(encoder.fit_transform(df['Weather_Condition']))"
   ]
  },
  {
   "cell_type": "code",
   "execution_count": 63,
   "metadata": {},
   "outputs": [
    {
     "data": {
      "text/plain": [
       "(120,)"
      ]
     },
     "execution_count": 63,
     "metadata": {},
     "output_type": "execute_result"
    }
   ],
   "source": [
    "df['Weather_Condition'].unique().shape"
   ]
  },
  {
   "cell_type": "code",
   "execution_count": null,
   "metadata": {
    "scrolled": true
   },
   "outputs": [],
   "source": []
  },
  {
   "cell_type": "code",
   "execution_count": 64,
   "metadata": {},
   "outputs": [
    {
     "data": {
      "text/html": [
       "<div>\n",
       "<style scoped>\n",
       "    .dataframe tbody tr th:only-of-type {\n",
       "        vertical-align: middle;\n",
       "    }\n",
       "\n",
       "    .dataframe tbody tr th {\n",
       "        vertical-align: top;\n",
       "    }\n",
       "\n",
       "    .dataframe thead th {\n",
       "        text-align: right;\n",
       "    }\n",
       "</style>\n",
       "<table border=\"1\" class=\"dataframe\">\n",
       "  <thead>\n",
       "    <tr style=\"text-align: right;\">\n",
       "      <th></th>\n",
       "      <th>Temperature(F)</th>\n",
       "      <th>Wind_Chill(F)</th>\n",
       "      <th>Humidity(%)</th>\n",
       "      <th>Pressure(in)</th>\n",
       "      <th>Visibility(mi)</th>\n",
       "      <th>Wind_Speed(mph)</th>\n",
       "    </tr>\n",
       "  </thead>\n",
       "  <tbody>\n",
       "    <tr>\n",
       "      <th>count</th>\n",
       "      <td>2.424830e+06</td>\n",
       "      <td>2.424828e+06</td>\n",
       "      <td>2.424830e+06</td>\n",
       "      <td>2.424830e+06</td>\n",
       "      <td>2.419514e+06</td>\n",
       "      <td>2.424828e+06</td>\n",
       "    </tr>\n",
       "    <tr>\n",
       "      <th>mean</th>\n",
       "      <td>6.222374e+01</td>\n",
       "      <td>5.545681e+01</td>\n",
       "      <td>6.618583e+01</td>\n",
       "      <td>2.981032e+01</td>\n",
       "      <td>9.104268e+00</td>\n",
       "      <td>7.938769e+00</td>\n",
       "    </tr>\n",
       "    <tr>\n",
       "      <th>std</th>\n",
       "      <td>1.864138e+01</td>\n",
       "      <td>2.180019e+01</td>\n",
       "      <td>2.235646e+01</td>\n",
       "      <td>7.114676e-01</td>\n",
       "      <td>2.802404e+00</td>\n",
       "      <td>4.971907e+00</td>\n",
       "    </tr>\n",
       "    <tr>\n",
       "      <th>min</th>\n",
       "      <td>-8.900000e+01</td>\n",
       "      <td>-8.900000e+01</td>\n",
       "      <td>1.000000e+00</td>\n",
       "      <td>0.000000e+00</td>\n",
       "      <td>0.000000e+00</td>\n",
       "      <td>0.000000e+00</td>\n",
       "    </tr>\n",
       "    <tr>\n",
       "      <th>25%</th>\n",
       "      <td>5.000000e+01</td>\n",
       "      <td>3.934540e+01</td>\n",
       "      <td>5.000000e+01</td>\n",
       "      <td>2.979000e+01</td>\n",
       "      <td>1.000000e+01</td>\n",
       "      <td>4.600000e+00</td>\n",
       "    </tr>\n",
       "    <tr>\n",
       "      <th>50%</th>\n",
       "      <td>6.400000e+01</td>\n",
       "      <td>5.600000e+01</td>\n",
       "      <td>6.900000e+01</td>\n",
       "      <td>2.997000e+01</td>\n",
       "      <td>1.000000e+01</td>\n",
       "      <td>6.900000e+00</td>\n",
       "    </tr>\n",
       "    <tr>\n",
       "      <th>75%</th>\n",
       "      <td>7.600000e+01</td>\n",
       "      <td>7.400000e+01</td>\n",
       "      <td>8.500000e+01</td>\n",
       "      <td>3.010000e+01</td>\n",
       "      <td>1.000000e+01</td>\n",
       "      <td>1.040000e+01</td>\n",
       "    </tr>\n",
       "    <tr>\n",
       "      <th>max</th>\n",
       "      <td>1.670000e+02</td>\n",
       "      <td>1.150000e+02</td>\n",
       "      <td>1.000000e+02</td>\n",
       "      <td>3.304000e+01</td>\n",
       "      <td>1.400000e+02</td>\n",
       "      <td>8.228000e+02</td>\n",
       "    </tr>\n",
       "  </tbody>\n",
       "</table>\n",
       "</div>"
      ],
      "text/plain": [
       "       Temperature(F)  Wind_Chill(F)   Humidity(%)  Pressure(in)  \\\n",
       "count    2.424830e+06   2.424828e+06  2.424830e+06  2.424830e+06   \n",
       "mean     6.222374e+01   5.545681e+01  6.618583e+01  2.981032e+01   \n",
       "std      1.864138e+01   2.180019e+01  2.235646e+01  7.114676e-01   \n",
       "min     -8.900000e+01  -8.900000e+01  1.000000e+00  0.000000e+00   \n",
       "25%      5.000000e+01   3.934540e+01  5.000000e+01  2.979000e+01   \n",
       "50%      6.400000e+01   5.600000e+01  6.900000e+01  2.997000e+01   \n",
       "75%      7.600000e+01   7.400000e+01  8.500000e+01  3.010000e+01   \n",
       "max      1.670000e+02   1.150000e+02  1.000000e+02  3.304000e+01   \n",
       "\n",
       "       Visibility(mi)  Wind_Speed(mph)  \n",
       "count    2.419514e+06     2.424828e+06  \n",
       "mean     9.104268e+00     7.938769e+00  \n",
       "std      2.802404e+00     4.971907e+00  \n",
       "min      0.000000e+00     0.000000e+00  \n",
       "25%      1.000000e+01     4.600000e+00  \n",
       "50%      1.000000e+01     6.900000e+00  \n",
       "75%      1.000000e+01     1.040000e+01  \n",
       "max      1.400000e+02     8.228000e+02  "
      ]
     },
     "execution_count": 64,
     "metadata": {},
     "output_type": "execute_result"
    }
   ],
   "source": [
    "df[['Temperature(F)','Wind_Chill(F)','Humidity(%)','Pressure(in)','Visibility(mi)','Wind_Speed(mph)']].describe()"
   ]
  },
  {
   "cell_type": "code",
   "execution_count": 65,
   "metadata": {},
   "outputs": [
    {
     "name": "stderr",
     "output_type": "stream",
     "text": [
      "/Users/abhijitdeshpande/opt/anaconda3/lib/python3.8/site-packages/seaborn/_decorators.py:36: FutureWarning: Pass the following variable as a keyword arg: x. From version 0.12, the only valid positional argument will be `data`, and passing other arguments without an explicit keyword will result in an error or misinterpretation.\n",
      "  warnings.warn(\n"
     ]
    },
    {
     "data": {
      "text/plain": [
       "<AxesSubplot:xlabel='Wind_Speed(mph)'>"
      ]
     },
     "execution_count": 65,
     "metadata": {},
     "output_type": "execute_result"
    },
    {
     "data": {
      "image/png": "[encoded data removed]",
      "text/plain": [
       "<Figure size 432x288 with 1 Axes>"
      ]
     },
     "metadata": {
      "needs_background": "light"
     },
     "output_type": "display_data"
    }
   ],
   "source": [
    "sns.boxplot(df['Wind_Speed(mph)'])"
   ]
  },
  {
   "cell_type": "code",
   "execution_count": 66,
   "metadata": {},
   "outputs": [],
   "source": [
    "#sns.pairplot(df[['Temperature(F)','Wind_Chill(F)','Humidity(%)','Pressure(in)','Visibility(mi)','Wind_Speed(mph)']])"
   ]
  },
  {
   "cell_type": "code",
   "execution_count": 67,
   "metadata": {},
   "outputs": [
    {
     "data": {
      "text/html": [
       "<div>\n",
       "<style scoped>\n",
       "    .dataframe tbody tr th:only-of-type {\n",
       "        vertical-align: middle;\n",
       "    }\n",
       "\n",
       "    .dataframe tbody tr th {\n",
       "        vertical-align: top;\n",
       "    }\n",
       "\n",
       "    .dataframe thead th {\n",
       "        text-align: right;\n",
       "    }\n",
       "</style>\n",
       "<table border=\"1\" class=\"dataframe\">\n",
       "  <thead>\n",
       "    <tr style=\"text-align: right;\">\n",
       "      <th></th>\n",
       "      <th>Temperature(F)</th>\n",
       "      <th>Wind_Chill(F)</th>\n",
       "      <th>Humidity(%)</th>\n",
       "      <th>Pressure(in)</th>\n",
       "      <th>Visibility(mi)</th>\n",
       "      <th>Wind_Speed(mph)</th>\n",
       "    </tr>\n",
       "  </thead>\n",
       "  <tbody>\n",
       "    <tr>\n",
       "      <th>Temperature(F)</th>\n",
       "      <td>1.000000</td>\n",
       "      <td>0.827172</td>\n",
       "      <td>-0.305190</td>\n",
       "      <td>-0.050452</td>\n",
       "      <td>0.170987</td>\n",
       "      <td>-0.005836</td>\n",
       "    </tr>\n",
       "    <tr>\n",
       "      <th>Wind_Chill(F)</th>\n",
       "      <td>0.827172</td>\n",
       "      <td>1.000000</td>\n",
       "      <td>-0.125962</td>\n",
       "      <td>-0.114854</td>\n",
       "      <td>0.113141</td>\n",
       "      <td>-0.104785</td>\n",
       "    </tr>\n",
       "    <tr>\n",
       "      <th>Humidity(%)</th>\n",
       "      <td>-0.305190</td>\n",
       "      <td>-0.125962</td>\n",
       "      <td>1.000000</td>\n",
       "      <td>0.082322</td>\n",
       "      <td>-0.389654</td>\n",
       "      <td>-0.158570</td>\n",
       "    </tr>\n",
       "    <tr>\n",
       "      <th>Pressure(in)</th>\n",
       "      <td>-0.050452</td>\n",
       "      <td>-0.114854</td>\n",
       "      <td>0.082322</td>\n",
       "      <td>1.000000</td>\n",
       "      <td>-0.010248</td>\n",
       "      <td>-0.015177</td>\n",
       "    </tr>\n",
       "    <tr>\n",
       "      <th>Visibility(mi)</th>\n",
       "      <td>0.170987</td>\n",
       "      <td>0.113141</td>\n",
       "      <td>-0.389654</td>\n",
       "      <td>-0.010248</td>\n",
       "      <td>1.000000</td>\n",
       "      <td>0.020640</td>\n",
       "    </tr>\n",
       "    <tr>\n",
       "      <th>Wind_Speed(mph)</th>\n",
       "      <td>-0.005836</td>\n",
       "      <td>-0.104785</td>\n",
       "      <td>-0.158570</td>\n",
       "      <td>-0.015177</td>\n",
       "      <td>0.020640</td>\n",
       "      <td>1.000000</td>\n",
       "    </tr>\n",
       "  </tbody>\n",
       "</table>\n",
       "</div>"
      ],
      "text/plain": [
       "                 Temperature(F)  Wind_Chill(F)  Humidity(%)  Pressure(in)  \\\n",
       "Temperature(F)         1.000000       0.827172    -0.305190     -0.050452   \n",
       "Wind_Chill(F)          0.827172       1.000000    -0.125962     -0.114854   \n",
       "Humidity(%)           -0.305190      -0.125962     1.000000      0.082322   \n",
       "Pressure(in)          -0.050452      -0.114854     0.082322      1.000000   \n",
       "Visibility(mi)         0.170987       0.113141    -0.389654     -0.010248   \n",
       "Wind_Speed(mph)       -0.005836      -0.104785    -0.158570     -0.015177   \n",
       "\n",
       "                 Visibility(mi)  Wind_Speed(mph)  \n",
       "Temperature(F)         0.170987        -0.005836  \n",
       "Wind_Chill(F)          0.113141        -0.104785  \n",
       "Humidity(%)           -0.389654        -0.158570  \n",
       "Pressure(in)          -0.010248        -0.015177  \n",
       "Visibility(mi)         1.000000         0.020640  \n",
       "Wind_Speed(mph)        0.020640         1.000000  "
      ]
     },
     "execution_count": 67,
     "metadata": {},
     "output_type": "execute_result"
    }
   ],
   "source": [
    "df[['Temperature(F)','Wind_Chill(F)','Humidity(%)','Pressure(in)','Visibility(mi)','Wind_Speed(mph)']].corr()"
   ]
  },
  {
   "cell_type": "code",
   "execution_count": 68,
   "metadata": {},
   "outputs": [
    {
     "data": {
      "text/plain": [
       "2    1601256\n",
       "3     815920\n",
       "4       6613\n",
       "1       1041\n",
       "Name: Severity, dtype: int64"
      ]
     },
     "execution_count": 68,
     "metadata": {},
     "output_type": "execute_result"
    }
   ],
   "source": [
    "df.Severity.value_counts()"
   ]
  },
  {
   "cell_type": "code",
   "execution_count": null,
   "metadata": {},
   "outputs": [],
   "source": []
  },
  {
   "cell_type": "code",
   "execution_count": null,
   "metadata": {},
   "outputs": [],
   "source": []
  },
  {
   "cell_type": "code",
   "execution_count": null,
   "metadata": {},
   "outputs": [],
   "source": []
  },
  {
   "cell_type": "code",
   "execution_count": null,
   "metadata": {},
   "outputs": [],
   "source": []
  },
  {
   "cell_type": "code",
   "execution_count": 206,
   "metadata": {},
   "outputs": [
    {
     "data": {
      "text/html": [
       "<div>\n",
       "<style scoped>\n",
       "    .dataframe tbody tr th:only-of-type {\n",
       "        vertical-align: middle;\n",
       "    }\n",
       "\n",
       "    .dataframe tbody tr th {\n",
       "        vertical-align: top;\n",
       "    }\n",
       "\n",
       "    .dataframe thead th {\n",
       "        text-align: right;\n",
       "    }\n",
       "</style>\n",
       "<table border=\"1\" class=\"dataframe\">\n",
       "  <thead>\n",
       "    <tr style=\"text-align: right;\">\n",
       "      <th></th>\n",
       "      <th>Weather_Condition</th>\n",
       "    </tr>\n",
       "  </thead>\n",
       "  <tbody>\n",
       "    <tr>\n",
       "      <th>0</th>\n",
       "      <td>Light Rain</td>\n",
       "    </tr>\n",
       "    <tr>\n",
       "      <th>1</th>\n",
       "      <td>Light Rain</td>\n",
       "    </tr>\n",
       "    <tr>\n",
       "      <th>2</th>\n",
       "      <td>Overcast</td>\n",
       "    </tr>\n",
       "    <tr>\n",
       "      <th>3</th>\n",
       "      <td>Mostly Cloudy</td>\n",
       "    </tr>\n",
       "    <tr>\n",
       "      <th>4</th>\n",
       "      <td>Mostly Cloudy</td>\n",
       "    </tr>\n",
       "    <tr>\n",
       "      <th>...</th>\n",
       "      <td>...</td>\n",
       "    </tr>\n",
       "    <tr>\n",
       "      <th>2478813</th>\n",
       "      <td>Fair</td>\n",
       "    </tr>\n",
       "    <tr>\n",
       "      <th>2478814</th>\n",
       "      <td>Clear</td>\n",
       "    </tr>\n",
       "    <tr>\n",
       "      <th>2478815</th>\n",
       "      <td>Haze</td>\n",
       "    </tr>\n",
       "    <tr>\n",
       "      <th>2478816</th>\n",
       "      <td>Clear</td>\n",
       "    </tr>\n",
       "    <tr>\n",
       "      <th>2478817</th>\n",
       "      <td>Clear</td>\n",
       "    </tr>\n",
       "  </tbody>\n",
       "</table>\n",
       "<p>2424830 rows × 1 columns</p>\n",
       "</div>"
      ],
      "text/plain": [
       "        Weather_Condition\n",
       "0              Light Rain\n",
       "1              Light Rain\n",
       "2                Overcast\n",
       "3           Mostly Cloudy\n",
       "4           Mostly Cloudy\n",
       "...                   ...\n",
       "2478813              Fair\n",
       "2478814             Clear\n",
       "2478815              Haze\n",
       "2478816             Clear\n",
       "2478817             Clear\n",
       "\n",
       "[2424830 rows x 1 columns]"
      ]
     },
     "execution_count": 206,
     "metadata": {},
     "output_type": "execute_result"
    }
   ],
   "source": [
    "df[['Weather_Condition']]"
   ]
  },
  {
   "cell_type": "code",
   "execution_count": 205,
   "metadata": {},
   "outputs": [
    {
     "data": {
      "text/plain": [
       "array(['Light Rain', 'Overcast', 'Mostly Cloudy', 'Rain', 'Light Snow',\n",
       "       'Haze', 'Scattered Clouds', 'Partly Cloudy', 'Clear', 'Snow',\n",
       "       'Light Freezing Drizzle', 'Light Drizzle', 'Fog', 'Shallow Fog',\n",
       "       'Heavy Rain', 'Light Freezing Rain', 'Cloudy', 'Drizzle',\n",
       "       'Light Rain Showers', 'Mist', 'Smoke', 'Patches of Fog',\n",
       "       'Light Freezing Fog', 'Light Haze', 'Light Thunderstorms and Rain',\n",
       "       'Thunderstorms and Rain', 'Fair', 'Volcanic Ash', 'Blowing Sand',\n",
       "       'Blowing Dust / Windy', 'Widespread Dust', 'Fair / Windy',\n",
       "       'Rain Showers', 'Mostly Cloudy / Windy', 'Light Rain / Windy',\n",
       "       'Hail', 'Heavy Drizzle', 'Showers in the Vicinity', 'Thunderstorm',\n",
       "       'Light Rain Shower', 'Light Rain with Thunder',\n",
       "       'Partly Cloudy / Windy', 'Thunder in the Vicinity', 'T-Storm',\n",
       "       'Heavy Thunderstorms and Rain', 'Thunder', 'Heavy T-Storm',\n",
       "       'Funnel Cloud', 'Heavy T-Storm / Windy', 'Blowing Snow',\n",
       "       'Light Thunderstorms and Snow', 'Heavy Snow', 'Low Drifting Snow',\n",
       "       'Light Ice Pellets', 'Ice Pellets', 'Squalls', 'N/A Precipitation',\n",
       "       'Cloudy / Windy', 'Light Fog', 'Sand', 'Snow Grains',\n",
       "       'Snow Showers', 'Heavy Thunderstorms and Snow', 'Rain / Windy',\n",
       "       'Heavy Rain / Windy', 'Heavy Ice Pellets', 'Light Snow / Windy',\n",
       "       'Heavy Freezing Rain', 'Small Hail', 'Heavy Rain Showers',\n",
       "       'T-Storm / Windy', 'Patches of Fog / Windy', 'Drizzle / Windy',\n",
       "       'Thunder / Windy', 'Wintry Mix', 'Squalls / Windy', 'Rain Shower',\n",
       "       'Drizzle and Fog', 'Haze / Windy', 'Sand / Dust Whirlwinds',\n",
       "       'Blowing Dust', 'Fog / Windy', 'Smoke / Windy',\n",
       "       'Wintry Mix / Windy', 'Snow / Windy', 'Light Rain Shower / Windy',\n",
       "       'Heavy Snow / Windy', 'Snow and Sleet',\n",
       "       'Light Freezing Rain / Windy', 'Light Drizzle / Windy',\n",
       "       'Light Snow and Sleet', 'Partial Fog', 'Light Snow Shower',\n",
       "       'Light Snow and Sleet / Windy', 'Freezing Rain',\n",
       "       'Blowing Snow / Windy', 'Freezing Drizzle', 'Sleet', 'Light Sleet',\n",
       "       'Rain and Sleet', 'Heavy Sleet', 'Light Snow Grains',\n",
       "       'Partial Fog / Windy', 'Light Snow with Thunder',\n",
       "       'Widespread Dust / Windy', 'Sand / Dust Whirlwinds / Windy',\n",
       "       'Tornado', 'Snow and Thunder', 'Snow and Sleet / Windy',\n",
       "       'Heavy Snow with Thunder', 'Thunder / Wintry Mix / Windy',\n",
       "       'Light Snow Showers', 'Heavy Blowing Snow', 'Light Hail',\n",
       "       'Heavy Smoke', 'Heavy Thunderstorms with Small Hail',\n",
       "       'Light Thunderstorm', 'Heavy Freezing Drizzle',\n",
       "       'Light Blowing Snow', 'Thunderstorms and Snow'], dtype=object)"
      ]
     },
     "execution_count": 205,
     "metadata": {},
     "output_type": "execute_result"
    }
   ],
   "source": [
    "df['Weather_Condition'].unique()"
   ]
  },
  {
   "cell_type": "code",
   "execution_count": 214,
   "metadata": {},
   "outputs": [
    {
     "data": {
      "text/plain": [
       "array(['Light Rain', 'Overcast', 'Mostly Cloudy', 'Rain', 'Light Snow',\n",
       "       'Haze', 'Scattered Clouds', 'Partly Cloudy', 'Clear', 'Snow',\n",
       "       'Light Freezing Drizzle', 'Light Drizzle', 'Fog', 'Shallow Fog',\n",
       "       'Heavy Rain', 'Light Freezing Rain', 'Cloudy', 'Drizzle',\n",
       "       'Light Rain Showers', 'Mist', 'Smoke', 'Patches of Fog',\n",
       "       'Light Freezing Fog', 'Light Haze', 'Light Thunderstorms and Rain',\n",
       "       'Thunderstorms and Rain', 'Fair', 'Volcanic Ash', 'Blowing Sand',\n",
       "       'Blowing Dust / Windy', 'Widespread Dust', 'Fair / Windy',\n",
       "       'Rain Showers', 'Mostly Cloudy / Windy', 'Light Rain / Windy',\n",
       "       'Hail', 'Heavy Drizzle', 'Showers in the Vicinity', 'Thunderstorm',\n",
       "       'Light Rain Shower', 'Light Rain with Thunder',\n",
       "       'Partly Cloudy / Windy', 'Thunder in the Vicinity', 'T-Storm',\n",
       "       'Heavy Thunderstorms and Rain', 'Thunder', 'Heavy T-Storm',\n",
       "       'Funnel Cloud', 'Heavy T-Storm / Windy', 'Blowing Snow',\n",
       "       'Light Thunderstorms and Snow', 'Heavy Snow', 'Low Drifting Snow',\n",
       "       'Light Ice Pellets', 'Ice Pellets', 'Squalls', 'N/A Precipitation',\n",
       "       'Cloudy / Windy', 'Light Fog', 'Sand', 'Snow Grains',\n",
       "       'Snow Showers', 'Heavy Thunderstorms and Snow', 'Rain / Windy',\n",
       "       'Heavy Rain / Windy', 'Heavy Ice Pellets', 'Light Snow / Windy',\n",
       "       'Heavy Freezing Rain', 'Small Hail', 'Heavy Rain Showers',\n",
       "       'T-Storm / Windy', 'Patches of Fog / Windy', 'Drizzle / Windy',\n",
       "       'Thunder / Windy', 'Wintry Mix', 'Squalls / Windy', 'Rain Shower',\n",
       "       'Drizzle and Fog', 'Haze / Windy', 'Sand / Dust Whirlwinds',\n",
       "       'Blowing Dust', 'Fog / Windy', 'Smoke / Windy',\n",
       "       'Wintry Mix / Windy', 'Snow / Windy', 'Light Rain Shower / Windy',\n",
       "       'Heavy Snow / Windy', 'Snow and Sleet',\n",
       "       'Light Freezing Rain / Windy', 'Light Drizzle / Windy',\n",
       "       'Light Snow and Sleet', 'Partial Fog', 'Light Snow Shower',\n",
       "       'Light Snow and Sleet / Windy', 'Freezing Rain',\n",
       "       'Blowing Snow / Windy', 'Freezing Drizzle', 'Sleet', 'Light Sleet',\n",
       "       'Rain and Sleet', 'Heavy Sleet', 'Light Snow Grains',\n",
       "       'Partial Fog / Windy', 'Light Snow with Thunder',\n",
       "       'Widespread Dust / Windy', 'Sand / Dust Whirlwinds / Windy',\n",
       "       'Tornado', 'Snow and Thunder', 'Snow and Sleet / Windy',\n",
       "       'Heavy Snow with Thunder', 'Thunder / Wintry Mix / Windy',\n",
       "       'Light Snow Showers', 'Heavy Blowing Snow', 'Light Hail',\n",
       "       'Heavy Smoke', 'Heavy Thunderstorms with Small Hail',\n",
       "       'Light Thunderstorm', 'Heavy Freezing Drizzle',\n",
       "       'Light Blowing Snow', 'Thunderstorms and Snow'], dtype=object)"
      ]
     },
     "execution_count": 214,
     "metadata": {},
     "output_type": "execute_result"
    }
   ],
   "source": [
    "df['Weather_Condition'].str.strip().unique()"
   ]
  },
  {
   "cell_type": "code",
   "execution_count": 71,
   "metadata": {},
   "outputs": [
    {
     "data": {
      "text/plain": [
       "Index(['TMC', 'Severity', 'Start_Time', 'End_Time', 'Start_Lat', 'Start_Lng',\n",
       "       'Distance(mi)', 'Side', 'State', 'Zipcode', 'Country', 'Timezone',\n",
       "       'Weather_Timestamp', 'Temperature(F)', 'Wind_Chill(F)', 'Humidity(%)',\n",
       "       'Pressure(in)', 'Visibility(mi)', 'Wind_Direction', 'Wind_Speed(mph)',\n",
       "       'Weather_Condition', 'Amenity', 'Bump', 'Crossing', 'Give_Way',\n",
       "       'Junction', 'No_Exit', 'Railway', 'Roundabout', 'Station', 'Stop',\n",
       "       'Traffic_Calming', 'Traffic_Signal', 'Turning_Loop', 'Sunrise_Sunset',\n",
       "       'day_of_week', 'weekend', 'Time', 'accident_time', 'month', 'year',\n",
       "       'day'],\n",
       "      dtype='object')"
      ]
     },
     "execution_count": 71,
     "metadata": {},
     "output_type": "execute_result"
    }
   ],
   "source": [
    "df.columns"
   ]
  },
  {
   "cell_type": "code",
   "execution_count": 61,
   "metadata": {},
   "outputs": [
    {
     "data": {
      "text/plain": [
       "<AxesSubplot:xlabel='Humidity(%)'>"
      ]
     },
     "execution_count": 61,
     "metadata": {},
     "output_type": "execute_result"
    },
    {
     "data": {
      "image/png": "[encoded data removed]",
      "text/plain": [
       "<Figure size 432x288 with 1 Axes>"
      ]
     },
     "metadata": {
      "needs_background": "light"
     },
     "output_type": "display_data"
    }
   ],
   "source": [
    "sns.boxplot(data=df1,x='Humidity(%)')"
   ]
  },
  {
   "cell_type": "code",
   "execution_count": 306,
   "metadata": {},
   "outputs": [
    {
     "data": {
      "text/plain": [
       "<AxesSubplot:>"
      ]
     },
     "execution_count": 306,
     "metadata": {},
     "output_type": "execute_result"
    },
    {
     "data": {
      "image/png": "[encoded data removed]",
      "text/plain": [
       "<Figure size 432x288 with 1 Axes>"
      ]
     },
     "metadata": {
      "needs_background": "light"
     },
     "output_type": "display_data"
    }
   ],
   "source": [
    "df1['Wind_Speed(mph)'].plot()"
   ]
  },
  {
   "cell_type": "code",
   "execution_count": 307,
   "metadata": {
    "scrolled": true
   },
   "outputs": [
    {
     "data": {
      "text/plain": [
       "Index(['TMC', 'Severity', 'Distance(mi)', 'Temperature(F)', 'Wind_Chill(F)',\n",
       "       'Humidity(%)', 'Pressure(in)', 'Visibility(mi)', 'Wind_Direction',\n",
       "       'Wind_Speed(mph)', 'Precipitation(in)', 'Weather_Condition', 'Amenity',\n",
       "       'Bump', 'Crossing', 'Give_Way', 'Junction', 'No_Exit', 'Railway',\n",
       "       'Roundabout', 'Station', 'Stop', 'Traffic_Calming', 'Traffic_Signal',\n",
       "       'Turning_Loop', 'Sunrise_Sunset', 'weekend'],\n",
       "      dtype='object')"
      ]
     },
     "execution_count": 307,
     "metadata": {},
     "output_type": "execute_result"
    }
   ],
   "source": [
    "df1.columns"
   ]
  },
  {
   "cell_type": "code",
   "execution_count": 308,
   "metadata": {},
   "outputs": [
    {
     "data": {
      "text/plain": [
       "115.0"
      ]
     },
     "execution_count": 308,
     "metadata": {},
     "output_type": "execute_result"
    }
   ],
   "source": [
    "scale.inverse_transform(df02)[:,2].max()"
   ]
  },
  {
   "cell_type": "code",
   "execution_count": null,
   "metadata": {},
   "outputs": [],
   "source": []
  },
  {
   "cell_type": "code",
   "execution_count": 345,
   "metadata": {},
   "outputs": [
    {
     "data": {
      "text/plain": [
       "<AxesSubplot:>"
      ]
     },
     "execution_count": 345,
     "metadata": {},
     "output_type": "execute_result"
    },
    {
     "data": {
      "image/png": "[encoded data removed]",
      "text/plain": [
       "<Figure size 432x288 with 1 Axes>"
      ]
     },
     "metadata": {
      "needs_background": "light"
     },
     "output_type": "display_data"
    }
   ],
   "source": [
    "sns.boxplot(data=scale.inverse_transform(df02)[:])"
   ]
  },
  {
   "cell_type": "code",
   "execution_count": 236,
   "metadata": {},
   "outputs": [
    {
     "data": {
      "text/plain": [
       "<AxesSubplot:>"
      ]
     },
     "execution_count": 236,
     "metadata": {},
     "output_type": "execute_result"
    },
    {
     "data": {
      "image/png": "[encoded data removed]",
      "text/plain": [
       "<Figure size 432x288 with 1 Axes>"
      ]
     },
     "metadata": {
      "needs_background": "light"
     },
     "output_type": "display_data"
    }
   ],
   "source": [
    "pd.DataFrame(df01).iloc[:,8].plot()"
   ]
  },
  {
   "cell_type": "code",
   "execution_count": 73,
   "metadata": {},
   "outputs": [],
   "source": [
    "def outlier(x):\n",
    "    q3 = x.quantile(0.75)\n",
    "    q1 = x.quantile(0.25)\n",
    "    upper_limit = q3 + 1.5*(q3-q1)\n",
    "    lower_limit = q1 - 1.5*(q3-q1)\n",
    "    return lower_limit,upper_limit"
   ]
  },
  {
   "cell_type": "code",
   "execution_count": 74,
   "metadata": {},
   "outputs": [],
   "source": [
    "min_temp,max_temp = outlier(df[['Temperature(F)']])"
   ]
  },
  {
   "cell_type": "code",
   "execution_count": 75,
   "metadata": {},
   "outputs": [],
   "source": [
    "min_chill, max_chill = outlier(df[['Wind_Chill(F)']])"
   ]
  },
  {
   "cell_type": "code",
   "execution_count": 76,
   "metadata": {},
   "outputs": [],
   "source": [
    "min_speed, max_speed = outlier(df[['Wind_Speed(mph)']])"
   ]
  },
  {
   "cell_type": "code",
   "execution_count": 77,
   "metadata": {},
   "outputs": [],
   "source": [
    "min_pressure, max_pressure = outlier(df[['Pressure(in)']])"
   ]
  },
  {
   "cell_type": "code",
   "execution_count": 85,
   "metadata": {},
   "outputs": [],
   "source": [
    "df1 = df[(df['Temperature(F)']<max_temp[0]) & (df['Temperature(F)']>min_temp[0])]"
   ]
  },
  {
   "cell_type": "code",
   "execution_count": 86,
   "metadata": {},
   "outputs": [
    {
     "name": "stderr",
     "output_type": "stream",
     "text": [
      "/var/folders/tp/r9md9jss78nf28s4cq7vcg580000gn/T/ipykernel_4015/987586870.py:1: UserWarning: Boolean Series key will be reindexed to match DataFrame index.\n",
      "  df2 = df1[(df['Wind_Chill(F)']<max_chill[0]) & (df['Wind_Chill(F)']>min_chill[0])]\n"
     ]
    }
   ],
   "source": [
    "df2 = df1[(df['Wind_Chill(F)']<max_chill[0]) & (df['Wind_Chill(F)']>min_chill[0])]"
   ]
  },
  {
   "cell_type": "code",
   "execution_count": 87,
   "metadata": {},
   "outputs": [
    {
     "name": "stderr",
     "output_type": "stream",
     "text": [
      "/var/folders/tp/r9md9jss78nf28s4cq7vcg580000gn/T/ipykernel_4015/1469021945.py:1: UserWarning: Boolean Series key will be reindexed to match DataFrame index.\n",
      "  df3 = df2[(df['Wind_Speed(mph)']<max_speed[0]) & (df['Wind_Speed(mph)']>min_speed[0])]\n"
     ]
    }
   ],
   "source": [
    "df3 = df2[(df['Wind_Speed(mph)']<max_speed[0]) & (df['Wind_Speed(mph)']>min_speed[0])]"
   ]
  },
  {
   "cell_type": "code",
   "execution_count": 88,
   "metadata": {},
   "outputs": [
    {
     "name": "stderr",
     "output_type": "stream",
     "text": [
      "/var/folders/tp/r9md9jss78nf28s4cq7vcg580000gn/T/ipykernel_4015/3052182091.py:1: UserWarning: Boolean Series key will be reindexed to match DataFrame index.\n",
      "  df4 = df3[(df['Pressure(in)']<max_pressure[0]) & (df['Pressure(in)']>min_pressure[0])]\n"
     ]
    }
   ],
   "source": [
    "df4 = df3[(df['Pressure(in)']<max_pressure[0]) & (df['Pressure(in)']>min_pressure[0])]"
   ]
  },
  {
   "cell_type": "code",
   "execution_count": 222,
   "metadata": {},
   "outputs": [
    {
     "data": {
      "text/plain": [
       "<AxesSubplot:xlabel='Wind_Speed(mph)'>"
      ]
     },
     "execution_count": 222,
     "metadata": {},
     "output_type": "execute_result"
    },
    {
     "data": {
      "image/png": "[encoded data removed]",
      "text/plain": [
       "<Figure size 432x288 with 1 Axes>"
      ]
     },
     "metadata": {
      "needs_background": "light"
     },
     "output_type": "display_data"
    }
   ],
   "source": [
    "sns.boxplot(data=df1,x='Wind_Speed(mph)')"
   ]
  },
  {
   "cell_type": "code",
   "execution_count": 90,
   "metadata": {},
   "outputs": [],
   "source": [
    "df4.reset_index(drop=True,inplace=True)"
   ]
  },
  {
   "cell_type": "code",
   "execution_count": 91,
   "metadata": {},
   "outputs": [],
   "source": [
    "import re"
   ]
  },
  {
   "cell_type": "code",
   "execution_count": 110,
   "metadata": {},
   "outputs": [],
   "source": [
    "def clean(x):\n",
    "    if ('cloudy' or 'cloudy' or 'clouds' or 'cloud') in x:\n",
    "        return 'Cloudy'\n",
    "    elif ('rains') in x:\n",
    "        return 'Rain'\n",
    "    elif 'snow' in x:\n",
    "        return 'Snow'\n",
    "    elif ('partial fog') in x:\n",
    "        return 'Fog'\n",
    "    else:\n",
    "        return x"
   ]
  },
  {
   "cell_type": "code",
   "execution_count": 111,
   "metadata": {},
   "outputs": [
    {
     "data": {
      "text/plain": [
       "0            overcast\n",
       "1              Cloudy\n",
       "2              Cloudy\n",
       "3          light rain\n",
       "4            overcast\n",
       "              ...    \n",
       "2056236         clear\n",
       "2056237         clear\n",
       "2056238          haze\n",
       "2056239         clear\n",
       "2056240         clear\n",
       "Name: Weather_Condition, Length: 2056241, dtype: object"
      ]
     },
     "execution_count": 111,
     "metadata": {},
     "output_type": "execute_result"
    }
   ],
   "source": [
    "df4['Weather_Condition'].map(lambda x: clean(x.lower()))"
   ]
  },
  {
   "cell_type": "code",
   "execution_count": 112,
   "metadata": {},
   "outputs": [
    {
     "data": {
      "text/plain": [
       "array(['Light Rain', 'Overcast', 'Mostly Cloudy', 'Rain', 'Light Snow',\n",
       "       'Haze', 'Scattered Clouds', 'Partly Cloudy', 'Clear', 'Snow',\n",
       "       'Light Freezing Drizzle', 'Light Drizzle', 'Fog', 'Shallow Fog',\n",
       "       'Heavy Rain', 'Light Freezing Rain', 'Cloudy', 'Drizzle',\n",
       "       'Light Rain Showers', 'Mist', 'Smoke', 'Patches of Fog',\n",
       "       'Light Freezing Fog', 'Light Haze', 'Light Thunderstorms and Rain',\n",
       "       'Thunderstorms and Rain', 'Fair', 'Volcanic Ash', 'Blowing Sand',\n",
       "       'Blowing Dust / Windy', 'Widespread Dust', 'Fair / Windy',\n",
       "       'Rain Showers', 'Mostly Cloudy / Windy', 'Light Rain / Windy',\n",
       "       'Hail', 'Heavy Drizzle', 'Showers in the Vicinity', 'Thunderstorm',\n",
       "       'Light Rain Shower', 'Light Rain with Thunder',\n",
       "       'Partly Cloudy / Windy', 'Thunder in the Vicinity', 'T-Storm',\n",
       "       'Heavy Thunderstorms and Rain', 'Thunder', 'Heavy T-Storm',\n",
       "       'Funnel Cloud', 'Heavy T-Storm / Windy', 'Blowing Snow',\n",
       "       'Light Thunderstorms and Snow', 'Heavy Snow', 'Low Drifting Snow',\n",
       "       'Light Ice Pellets', 'Ice Pellets', 'Squalls', 'N/A Precipitation',\n",
       "       'Cloudy / Windy', 'Light Fog', 'Sand', 'Snow Grains',\n",
       "       'Snow Showers', 'Heavy Thunderstorms and Snow', 'Rain / Windy',\n",
       "       'Heavy Rain / Windy', 'Heavy Ice Pellets', 'Light Snow / Windy',\n",
       "       'Heavy Freezing Rain', 'Small Hail', 'Heavy Rain Showers',\n",
       "       'T-Storm / Windy', 'Patches of Fog / Windy', 'Drizzle / Windy',\n",
       "       'Thunder / Windy', 'Wintry Mix', 'Squalls / Windy', 'Rain Shower',\n",
       "       'Drizzle and Fog', 'Haze / Windy', 'Sand / Dust Whirlwinds',\n",
       "       'Blowing Dust', 'Fog / Windy', 'Smoke / Windy',\n",
       "       'Wintry Mix / Windy', 'Snow / Windy', 'Light Rain Shower / Windy',\n",
       "       'Heavy Snow / Windy', 'Snow and Sleet',\n",
       "       'Light Freezing Rain / Windy', 'Light Drizzle / Windy',\n",
       "       'Light Snow and Sleet', 'Partial Fog', 'Light Snow Shower',\n",
       "       'Light Snow and Sleet / Windy', 'Freezing Rain',\n",
       "       'Blowing Snow / Windy', 'Freezing Drizzle', 'Sleet', 'Light Sleet',\n",
       "       'Rain and Sleet', 'Heavy Sleet', 'Light Snow Grains',\n",
       "       'Partial Fog / Windy', 'Light Snow with Thunder',\n",
       "       'Widespread Dust / Windy', 'Sand / Dust Whirlwinds / Windy',\n",
       "       'Tornado', 'Snow and Thunder', 'Snow and Sleet / Windy',\n",
       "       'Heavy Snow with Thunder', 'Thunder / Wintry Mix / Windy',\n",
       "       'Light Snow Showers', 'Heavy Blowing Snow', 'Light Hail',\n",
       "       'Heavy Smoke', 'Heavy Thunderstorms with Small Hail',\n",
       "       'Light Thunderstorm', 'Heavy Freezing Drizzle',\n",
       "       'Light Blowing Snow', 'Thunderstorms and Snow'], dtype=object)"
      ]
     },
     "execution_count": 112,
     "metadata": {},
     "output_type": "execute_result"
    }
   ],
   "source": [
    "df['Weather_Condition'].unique()"
   ]
  },
  {
   "cell_type": "code",
   "execution_count": 113,
   "metadata": {},
   "outputs": [
    {
     "data": {
      "text/plain": [
       "(78,)"
      ]
     },
     "execution_count": 113,
     "metadata": {},
     "output_type": "execute_result"
    }
   ],
   "source": [
    "df4['Weather_Condition'].unique().shape"
   ]
  },
  {
   "cell_type": "code",
   "execution_count": 114,
   "metadata": {},
   "outputs": [],
   "source": [
    "from sklearn.cluster import DBSCAN"
   ]
  },
  {
   "cell_type": "code",
   "execution_count": 115,
   "metadata": {},
   "outputs": [
    {
     "data": {
      "text/plain": [
       "sklearn.cluster._dbscan.DBSCAN"
      ]
     },
     "execution_count": 115,
     "metadata": {},
     "output_type": "execute_result"
    }
   ],
   "source": [
    "DBSCAN"
   ]
  },
  {
   "cell_type": "code",
   "execution_count": 315,
   "metadata": {},
   "outputs": [],
   "source": [
    "df03 = scale.inverse_transform(df02)"
   ]
  },
  {
   "cell_type": "code",
   "execution_count": 341,
   "metadata": {},
   "outputs": [
    {
     "data": {
      "text/plain": [
       "<AxesSubplot:>"
      ]
     },
     "execution_count": 341,
     "metadata": {},
     "output_type": "execute_result"
    },
    {
     "data": {
      "image/png": "[encoded data removed]",
      "text/plain": [
       "<Figure size 432x288 with 1 Axes>"
      ]
     },
     "metadata": {
      "needs_background": "light"
     },
     "output_type": "display_data"
    }
   ],
   "source": [
    "pd.DataFrame(df03).iloc[:,7].plot()"
   ]
  },
  {
   "cell_type": "code",
   "execution_count": 339,
   "metadata": {},
   "outputs": [
    {
     "data": {
      "text/plain": [
       "7.17061591450493"
      ]
     },
     "execution_count": 339,
     "metadata": {},
     "output_type": "execute_result"
    }
   ],
   "source": [
    "pd.DataFrame(df03).iloc[:,7].mean()"
   ]
  },
  {
   "cell_type": "code",
   "execution_count": 343,
   "metadata": {},
   "outputs": [
    {
     "data": {
      "text/plain": [
       "8.154006389245813"
      ]
     },
     "execution_count": 343,
     "metadata": {},
     "output_type": "execute_result"
    }
   ],
   "source": [
    "df1['Wind_Speed(mph)'][:735726].mean()"
   ]
  },
  {
   "cell_type": "code",
   "execution_count": null,
   "metadata": {},
   "outputs": [],
   "source": []
  }
 ],
 "metadata": {
  "kernelspec": {
   "display_name": "Python 3 (ipykernel)",
   "language": "python",
   "name": "python3"
  },
  "language_info": {
   "codemirror_mode": {
    "name": "ipython",
    "version": 3
   },
   "file_extension": ".py",
   "mimetype": "text/x-python",
   "name": "python",
   "nbconvert_exporter": "python",
   "pygments_lexer": "ipython3",
   "version": "3.8.12"
  }
 },
 "nbformat": 4,
 "nbformat_minor": 4
}
